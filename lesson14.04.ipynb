{
 "cells": [
  {
   "cell_type": "markdown",
   "metadata": {},
   "source": [
    "Паттерн Фасад"
   ]
  },
  {
   "cell_type": "code",
   "execution_count": 6,
   "metadata": {},
   "outputs": [
    {
     "name": "stdout",
     "output_type": "stream",
     "text": [
      "- Начинаем приготовление кофе\n",
      "Нагрев воды\n",
      "Молем кофе\n",
      "Варим кофе\n",
      "Кофе готов\n"
     ]
    }
   ],
   "source": [
    "class WaterHeater:\n",
    "    def heat(self):\n",
    "        print(\"Нагрев воды\")\n",
    "\n",
    "class CoffeeGrinder:\n",
    "    def grind(self):\n",
    "        print(\"Молем кофе\")\n",
    "\n",
    "class CoffeeBreaker:\n",
    "    def brew(self):\n",
    "        print(\"Варим кофе\")\n",
    "\n",
    "#Фасад\n",
    "\n",
    "class CoffeeMachine:\n",
    "    def __init__(self) -> None:\n",
    "        self.heater = WaterHeater()\n",
    "        self.grinder = CoffeeGrinder()\n",
    "        self.brewer = CoffeeBreaker()\n",
    "\n",
    "    def make_coffee(self):\n",
    "        print(\"- Начинаем приготовление кофе\")\n",
    "        self.heater.heat()\n",
    "        self.grinder.grind()\n",
    "        self.brewer.brew()\n",
    "        print(\"Кофе готов\")\n",
    "\n",
    "machine = CoffeeMachine()\n",
    "machine.make_coffee()"
   ]
  },
  {
   "cell_type": "markdown",
   "metadata": {},
   "source": [
    "Паттерн легковес "
   ]
  },
  {
   "cell_type": "code",
   "execution_count": 12,
   "metadata": {},
   "outputs": [
    {
     "name": "stdout",
     "output_type": "stream",
     "text": [
      "Рисуем Сосна Зеленый в точке x: 10 20\n",
      "Рисуем Сосна Зеленый в точке x: 30 40\n"
     ]
    }
   ],
   "source": [
    "class TreeType: #Хранит общие данны едерева\n",
    "    def __init__(self, name, color, texture) -> None:\n",
    "        self.name = name\n",
    "        self.color = color\n",
    "        self.texture = texture\n",
    "\n",
    "    def draw(self, x, y):\n",
    "        print(f\"Рисуем {self.name} {self.color} в точке x: {x} {y}\")\n",
    "\n",
    "class TreeFactory: #Следит чтобы не создавать лишние копии типов деревьев\n",
    "    _tree_types = {}\n",
    "\n",
    "    @classmethod\n",
    "    def get_tree_type(cls, name, color, texture):\n",
    "        key = (name, color, texture)\n",
    "        if key not in cls._tree_types:\n",
    "            cls._tree_types[key] = TreeType(name, color, texture)\n",
    "        return cls._tree_types[key]\n",
    "\n",
    "class Tree:\n",
    "    def __init__(self, x, y, tree_type: TreeType) -> None:\n",
    "        self.x = x\n",
    "        self.y = y\n",
    "        self.type = tree_type\n",
    "\n",
    "    def draw(self):\n",
    "        self.type.draw(self.x, self.y)\n",
    "\n",
    "pine_type = TreeFactory.get_tree_type(\"Сосна\", \"Зеленый\", \"хвоя.png\")\n",
    "\n",
    "tree1 = Tree(10, 20, pine_type)\n",
    "tree2 = Tree(30, 40, pine_type)\n",
    "\n",
    "tree1.draw()\n",
    "tree2.draw()\n",
    "\n"
   ]
  },
  {
   "cell_type": "markdown",
   "metadata": {},
   "source": [
    "Паттерн ЗАМЕСТИТЕЛЬ (или прокси)"
   ]
  },
  {
   "cell_type": "code",
   "execution_count": 14,
   "metadata": {},
   "outputs": [
    {
     "name": "stdout",
     "output_type": "stream",
     "text": [
      "Подключение к базе данных\n",
      "Выполнение запроса: SELECT * FROM users\n",
      "Уже подкллючено\n",
      "Выполнение запроса: SELECT * FROM products\n"
     ]
    }
   ],
   "source": [
    "class RealDatabase:\n",
    "    def connect(self):\n",
    "        print(\"Подключение к базе данных\")\n",
    "\n",
    "    def query(self, sql):\n",
    "        print(f\"Выполнение запроса: {sql}\")\n",
    "\n",
    "class DarabaseProxy:\n",
    "    def __init__(self):\n",
    "        self.real_bd = None\n",
    "        self.connected = False\n",
    "\n",
    "    def connect(self):\n",
    "        if not self.connected:\n",
    "            self.real_bd = RealDatabase()\n",
    "            self.real_bd.connect()\n",
    "            self.connected = True\n",
    "        else:\n",
    "            print(\"Уже подкллючено\")\n",
    "\n",
    "    def query(self, sql):\n",
    "        self.connect()\n",
    "        self.real_bd.query(sql)\n",
    "\n",
    "bd = DarabaseProxy()\n",
    "bd.query(\"SELECT * FROM users\")\n",
    "bd.query(\"SELECT * FROM products\" )\n",
    "\n",
    "    "
   ]
  },
  {
   "cell_type": "markdown",
   "metadata": {},
   "source": [
    "Паттерн цепочка обязанностей"
   ]
  },
  {
   "cell_type": "code",
   "execution_count": 20,
   "metadata": {},
   "outputs": [
    {
     "name": "stdout",
     "output_type": "stream",
     "text": [
      "Leve1: Помогаем восстановить параль\n",
      "Leve3: Эскалация запроса Ошибка прграммы\n",
      "Leve3: Эскалация запроса запрос денег\n"
     ]
    }
   ],
   "source": [
    "from abc import ABC, abstractmethod\n",
    "\n",
    "class Handler(ABC):\n",
    "    def __init__(self) -> None:\n",
    "        self.next_handler = None\n",
    "\n",
    "    def set_next(self, handler):\n",
    "        self.next_handler = handler\n",
    "        return handler\n",
    "    @abstractmethod\n",
    "    def handle(self, request): ...\n",
    "\n",
    "class Level1Support(Handler):\n",
    "    def handle(self, request):\n",
    "        if request == \"пароль\":\n",
    "            print(\"Leve1: Помогаем восстановить параль\")\n",
    "\n",
    "        elif self.next_handler:\n",
    "            self.next_handler.handle(request)\n",
    "\n",
    "class Level2Support(Handler):\n",
    "    def handle(self, request):\n",
    "        if request == \"Ошибка программы\":\n",
    "            print(\"Leve2: Технический специалист решает проблему\")\n",
    "\n",
    "        elif self.next_handler:\n",
    "            self.next_handler.handle(request)\n",
    "\n",
    "class Level3Support(Handler):\n",
    "    def handle(self, request):\n",
    "            print(f\"Leve3: Эскалация запроса {request}\")\n",
    "\n",
    "level1 = Level1Support()\n",
    "level2 = Level2Support()\n",
    "level3 = Level3Support()\n",
    "\n",
    "level1.set_next(level2).set_next(level3)\n",
    "\n",
    "level1.handle(\"пароль\")\n",
    "level1.handle(\"Ошибка прграммы\")\n",
    "level1.handle(\"запрос денег\")"
   ]
  },
  {
   "cell_type": "markdown",
   "metadata": {},
   "source": [
    "Паттерн Команда (кнопки)"
   ]
  },
  {
   "cell_type": "code",
   "execution_count": 24,
   "metadata": {},
   "outputs": [
    {
     "name": "stdout",
     "output_type": "stream",
     "text": [
      "Свет включен\n",
      "Свет выключен\n"
     ]
    }
   ],
   "source": [
    "from abc import ABC, abstractmethod\n",
    "\n",
    "class Light:\n",
    "    def turn_on(self):\n",
    "        print(\"Свет включен\")\n",
    "\n",
    "    def turn_off(self):\n",
    "        print(\"Свет выключен\")\n",
    "\n",
    "class Command(ABC):\n",
    "    @abstractmethod\n",
    "    def execute(self): ...\n",
    "\n",
    "class LightOnCommand(Command):\n",
    "    def __init__(self, light: Light) -> None:\n",
    "        self.light = light\n",
    "\n",
    "    def execute(self):\n",
    "        self.light.turn_on()\n",
    "\n",
    "class LightOffCommand(Command):\n",
    "    def __init__(self, light: Light) -> None:\n",
    "        self.light = light\n",
    "\n",
    "    def execute(self):\n",
    "        self.light.turn_off()   \n",
    "\n",
    "class RemoteControl:\n",
    "    def __init__(self) -> None:\n",
    "        self.command = None\n",
    "    \n",
    "    def set_command(self, command: Command):\n",
    "        self.command = command\n",
    "\n",
    "    def press_button(self):\n",
    "        if self.command:\n",
    "            self.command.execute()\n",
    " \n",
    "light = Light()\n",
    "on = LightOnCommand(light)\n",
    "off = LightOffCommand(light)\n",
    "\n",
    "remote = RemoteControl()\n",
    "\n",
    "remote.set_command(on)\n",
    "remote.press_button()\n",
    "\n",
    "remote.set_command(off)\n",
    "remote.press_button()\n",
    "\n"
   ]
  }
 ],
 "metadata": {
  "kernelspec": {
   "display_name": "Python 3",
   "language": "python",
   "name": "python3"
  },
  "language_info": {
   "codemirror_mode": {
    "name": "ipython",
    "version": 3
   },
   "file_extension": ".py",
   "mimetype": "text/x-python",
   "name": "python",
   "nbconvert_exporter": "python",
   "pygments_lexer": "ipython3",
   "version": "3.11.9"
  }
 },
 "nbformat": 4,
 "nbformat_minor": 2
}
