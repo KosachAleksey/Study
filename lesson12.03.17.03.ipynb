{
 "cells": [
  {
   "cell_type": "code",
   "execution_count": null,
   "metadata": {},
   "outputs": [
    {
     "name": "stdout",
     "output_type": "stream",
     "text": [
      "Результат деления 10 / 0 None\n",
      "Результат деления 10 / 2 5.0\n"
     ]
    }
   ],
   "source": [
    "import logging\n",
    "\n",
    "# Уровни логгирования\n",
    "# DEBUG - Подробная информация для диагностики проблем\n",
    "# INFO - Подтверждение того, что всё работает как ожидалось\n",
    "# WARNING - Индикация потенциальных проблем\n",
    "# ERROR - ошибки, которые не позволяют выполнить определенную функцию\n",
    "# CRITICAL - критические ошибки, которые могут привести к остановке программы\n",
    "\n",
    "logging.basicConfig(\n",
    "    level=logging.DEBUG, # Устанавливаем уровень логирования\n",
    "    format = \"%(asctime)s - %(levelname)s - %(message)s\", # Формат сообщения\n",
    "    filename='main.log', # Указываем имя файла. Если не указать имя файла - данные будут поступать на консоль\n",
    "    filemode='w', # режим открытия файла,\n",
    "    encoding='UTF-8' # Какая кодировка при записи в файл\n",
    ")\n",
    "\n",
    "# logging.debug(\"Отладочное сообщение, полезно для разработчиков\")\n",
    "# logging.critical(\"\") \n",
    "# logging.warning(\"\")\n",
    "\n",
    "\n",
    "def divide(a, b):\n",
    "    try:\n",
    "        result = a / b\n",
    "    except ZeroDivisionError as e:\n",
    "        # Логировать ошибку с уровнем ERROR и информацией об исключении\n",
    "        logging.error(f\"Ошибка деления на ноль: {e}\")\n",
    "        return None\n",
    "    else: # Если деление прошло успешно, логировать реультат с уровнем INFO\n",
    "        logging.info(f\"Результат деления: {result}\")\n",
    "        return result\n",
    "\n",
    "print(\"Результат деления 10 / 0\", divide(10, 0))\n",
    "print(\"Результат деления 10 / 2\", divide(10, 2))\n",
    "\n"
   ]
  },
  {
   "cell_type": "code",
   "execution_count": null,
   "metadata": {},
   "outputs": [
    {
     "data": {
      "text/plain": [
       "'Kristofer'"
      ]
     },
     "execution_count": 2,
     "metadata": {},
     "output_type": "execute_result"
    }
   ],
   "source": [
    "class User:\n",
    "    def __init__(self, id: int, name: str, is_active: bool = True):\n",
    "        self.id = id\n",
    "        self.name = name\n",
    "        self.is_active = is_active\n",
    "\n",
    "user = User(19, \"Kristofer\")\n",
    "user.name"
   ]
  },
  {
   "cell_type": "code",
   "execution_count": null,
   "metadata": {},
   "outputs": [
    {
     "data": {
      "text/plain": [
       "'Kristofer'"
      ]
     },
     "execution_count": 1,
     "metadata": {},
     "output_type": "execute_result"
    }
   ],
   "source": [
    "from dataclasses import dataclass\n",
    "\n",
    "@dataclass\n",
    "class User:\n",
    "    id: int\n",
    "    name: str\n",
    "    is_active: bool = True\n",
    "\n",
    "user = User(19, \"Kristofer\")\n",
    "user.name"
   ]
  },
  {
   "cell_type": "code",
   "execution_count": 10,
   "metadata": {},
   "outputs": [
    {
     "name": "stdout",
     "output_type": "stream",
     "text": [
      "Сотрудник работает\n",
      "Работает директор\n"
     ]
    }
   ],
   "source": [
    "from abc import ABC, abstractmethod\n",
    "\n",
    "# Определяем абстрактный класс Worker, наследующий от ABC\n",
    "class Worker(ABC): # Работник\n",
    "    def __init__(self, post):\n",
    "        self.post = post\n",
    "    # Абстрактный метод, который должен быть реализован в каждом наследнике\n",
    "    @abstractmethod\n",
    "    def work(self):\n",
    "        pass\n",
    "\n",
    "class Employee(Worker): # Сотрудник\n",
    "    def work(self):\n",
    "        print(\"Сотрудник работает\")\n",
    "\n",
    "class Director(Worker): # Директор\n",
    "    def work(self):\n",
    "        print(\"Работает директор\")\n",
    "\n",
    "emp = Employee(\"Сотрудник\")\n",
    "dir = Director(\"Директор\")\n",
    "\n",
    "emp.work()\n",
    "dir.work()\n"
   ]
  },
  {
   "cell_type": "code",
   "execution_count": null,
   "metadata": {},
   "outputs": [
    {
     "data": {
      "text/plain": [
       "{'total': 15, 'count': 5}"
      ]
     },
     "execution_count": 11,
     "metadata": {},
     "output_type": "execute_result"
    }
   ],
   "source": [
    "from typing import List, Dict\n",
    "\n",
    "# Указываем, что наша функция, работает ТОЛЬКО со списком чисел и никак иначе\n",
    "def procces_list(items: List[int]) -> Dict[str, int]: \n",
    "    total = sum(items)\n",
    "    count = len(items)\n",
    "    return {\"total\": total, \"count\": count}\n",
    "\n",
    "result = procces_list([1, 2, 3, 4, 5])\n",
    "result"
   ]
  },
  {
   "cell_type": "code",
   "execution_count": 8,
   "metadata": {},
   "outputs": [
    {
     "name": "stdout",
     "output_type": "stream",
     "text": [
      "Oleg\n"
     ]
    }
   ],
   "source": [
    "from typing import List, Optional\n",
    "\n",
    "students = [\"Oleg\",\"Kiriil\",\"Konstantin\"]\n",
    "\n",
    "def search_student(list: List[str], target: str) -> Optional[str]:\n",
    "    for student in list:\n",
    "        if student == target: # Если нашли студента - возвращаем его\n",
    "            return student\n",
    "    return None\n",
    "\n",
    "r = search_student(students, \"Oleg\")\n",
    "print(r)"
   ]
  },
  {
   "cell_type": "code",
   "execution_count": 12,
   "metadata": {},
   "outputs": [
    {
     "name": "stdout",
     "output_type": "stream",
     "text": [
      "Что-то происходит до вызова функции\n",
      "4\n",
      "Что-то происходит после вызова функции\n"
     ]
    },
    {
     "data": {
      "text/plain": [
       "2"
      ]
     },
     "execution_count": 12,
     "metadata": {},
     "output_type": "execute_result"
    }
   ],
   "source": [
    "def counter(count): # Функция наименования декоратора, с указанием аргументов декоратора\n",
    "    def decorator(func): # Декоратор, принимающий функцию\n",
    "        def wrapper(*args, **kwargs): # Функция обёртка - создание функционала декоратора\n",
    "            print(\"Что-то происходит до вызова функции\")\n",
    "            result = func(*args, **kwargs) # вызываем функцию, получаем результат функции\n",
    "            print(count)\n",
    "            print(\"Что-то происходит после вызова функции\")\n",
    "            return result # Возвращает результат функции\n",
    "        return wrapper # Возвращает обертку\n",
    "    return decorator # Возвращаем декоратор\n",
    "    \n",
    "@counter(4)\n",
    "def sum(a, b): return a + b\n",
    "\n",
    "sum(1, 1)"
   ]
  },
  {
   "cell_type": "code",
   "execution_count": null,
   "metadata": {},
   "outputs": [
    {
     "name": "stdout",
     "output_type": "stream",
     "text": [
      "Вызов функции: subtract с аргументами: (1, 1), {}\n",
      "Результат функции: 0\n"
     ]
    },
    {
     "data": {
      "text/plain": [
       "0"
      ]
     },
     "execution_count": 15,
     "metadata": {},
     "output_type": "execute_result"
    }
   ],
   "source": [
    "from decorator import decorator\n",
    "\n",
    "@decorator\n",
    "def debug(func, *args, **kwargs): # debug - наименованием декоратора.\n",
    "    print(f\"Вызов функции: {func.__name__} с аргументами: {args}, {kwargs}\")\n",
    "    result = func(*args, **kwargs)\n",
    "    print(f\"Результат функции: {result}\")\n",
    "    return result\n",
    "\n",
    "@debug\n",
    "def subtract(a, b):\n",
    "    return a - b\n",
    "\n",
    "subtract(1,1)\n"
   ]
  },
  {
   "cell_type": "code",
   "execution_count": 18,
   "metadata": {},
   "outputs": [
    {
     "data": {
      "text/plain": [
       "55"
      ]
     },
     "execution_count": 18,
     "metadata": {},
     "output_type": "execute_result"
    }
   ],
   "source": [
    "from functools import lru_cache\n",
    "\n",
    "@lru_cache(maxsize=128)\n",
    "def fibonacci(n):\n",
    "    if n < 2:\n",
    "        return n\n",
    "    return fibonacci(n - 1) + fibonacci(n - 2)\n",
    "\n",
    "fibonacci(10)"
   ]
  },
  {
   "cell_type": "code",
   "execution_count": 1,
   "metadata": {},
   "outputs": [
    {
     "data": {
      "text/plain": [
       "'{\"name\": \"Kristofer Alexander\", \"age\": 59, \"city\": \"New York\"}'"
      ]
     },
     "execution_count": 1,
     "metadata": {},
     "output_type": "execute_result"
    }
   ],
   "source": [
    "import json\n",
    "\n",
    "# Python-словарь\n",
    "data = {\n",
    "    \"name\":\"Kristofer Alexander\",\n",
    "    \"age\": 59,\n",
    "    \"city\": \"New York\"\n",
    "}\n",
    "\n",
    "# Преобразуем словарь в JSON-строку\n",
    "json_data = json.dumps(data)\n",
    "\n",
    "json_data"
   ]
  },
  {
   "cell_type": "code",
   "execution_count": null,
   "metadata": {},
   "outputs": [
    {
     "data": {
      "text/plain": [
       "{'name': 'Kristofer Alexander', 'age': 59, 'city': 'New York'}"
      ]
     },
     "execution_count": 2,
     "metadata": {},
     "output_type": "execute_result"
    }
   ],
   "source": [
    "json_data = '{\"name\": \"Kristofer Alexander\", \"age\": 59, \"city\": \"New York\"}'\n",
    "\n",
    "data = json.loads(json_data) # Преобразуем Json-строку в Python-словарь\n",
    "\n",
    "data"
   ]
  },
  {
   "cell_type": "code",
   "execution_count": null,
   "metadata": {},
   "outputs": [],
   "source": [
    "# Python-словарь\n",
    "data = {\n",
    "    \"name\":\"Kristofer Alexander\",\n",
    "    \"age\": 59,\n",
    "    \"city\": \"New York\"\n",
    "}\n",
    "\n",
    "with open('data.json', 'w', encoding=\"UTF-8\") as file: \n",
    "    json.dump(data, file) # Запись Python-объекта в файл в формате JSON\n",
    "    "
   ]
  },
  {
   "cell_type": "code",
   "execution_count": null,
   "metadata": {},
   "outputs": [
    {
     "name": "stdout",
     "output_type": "stream",
     "text": [
      "{'name': 'Kristofer Alexander', 'age': 59, 'city': 'New York'}\n"
     ]
    }
   ],
   "source": [
    "with open('data.json', 'r', encoding=\"UTF-8\") as file: \n",
    "    data = json.load(file) # Преобразования JSON в Python-объект\n",
    "    print(data)"
   ]
  },
  {
   "cell_type": "code",
   "execution_count": 8,
   "metadata": {},
   "outputs": [
    {
     "name": "stdout",
     "output_type": "stream",
     "text": [
      "{\n",
      "    \"name\": \"Kristofer Alexander\",\n",
      "    \"age\": 29\n",
      "}\n"
     ]
    }
   ],
   "source": [
    "import json\n",
    "from dataclasses import dataclass\n",
    "\n",
    "@dataclass\n",
    "class Person:\n",
    "    name: str\n",
    "    age: int\n",
    "\n",
    "    def serialize(self):\n",
    "        return json.dumps(self.__dict__, indent=4)\n",
    "\n",
    "\n",
    "person = Person(\"Kristofer Alexander\", 29)\n",
    "print(person.serialize())"
   ]
  },
  {
   "cell_type": "code",
   "execution_count": null,
   "metadata": {},
   "outputs": [
    {
     "name": "stdout",
     "output_type": "stream",
     "text": [
      "Sincere@april.biz\n",
      "Shanna@melissa.tv\n",
      "Nathan@yesenia.net\n",
      "Julianne.OConner@kory.org\n",
      "Lucio_Hettinger@annie.ca\n",
      "Karley_Dach@jasper.info\n",
      "Telly.Hoeger@billy.biz\n",
      "Sherwood@rosamond.me\n",
      "Chaim_McDermott@dana.io\n",
      "Rey.Padberg@karina.biz\n"
     ]
    }
   ],
   "source": [
    "import requests\n",
    "import json\n",
    "# GET - Получение данных с сервера\n",
    "response = requests.get(\"https://jsonplaceholder.typicode.com/users\")\n",
    "data = json.loads(response.text)\n",
    "\n",
    "for person in data:\n",
    "    print(person[\"email\"])"
   ]
  },
  {
   "cell_type": "code",
   "execution_count": 21,
   "metadata": {},
   "outputs": [
    {
     "name": "stdout",
     "output_type": "stream",
     "text": [
      "{\n",
      "  \"userId\": 10,\n",
      "  \"id\": 11,\n",
      "  \"title\": \"at nam consequatur ea labore ea harum\",\n",
      "  \"body\": \"cupiditate quo est a modi nesciunt soluta\\nipsa voluptas error itaque dicta in\\nautem qui minus magnam et distinctio eum\\naccusamus ratione error aut\"\n",
      "}\n"
     ]
    }
   ],
   "source": [
    "import requests\n",
    "# POST - отправка данных на сервер\n",
    "\n",
    "data =   {\n",
    "    \"userId\": 10,\n",
    "    \"id\": 101,\n",
    "    \"title\": \"at nam consequatur ea labore ea harum\",\n",
    "    \"body\": \"cupiditate quo est a modi nesciunt soluta\\nipsa voluptas error itaque dicta in\\nautem qui minus magnam et distinctio eum\\naccusamus ratione error aut\"\n",
    "  }\n",
    "response = requests.post(\"https://jsonplaceholder.typicode.com/users\", json=data)\n",
    "\n",
    "print(response.text)"
   ]
  },
  {
   "cell_type": "code",
   "execution_count": 40,
   "metadata": {},
   "outputs": [
    {
     "name": "stdout",
     "output_type": "stream",
     "text": [
      "43.908447\n",
      "39.333382\n",
      "Europe/Moscow\n"
     ]
    }
   ],
   "source": [
    "import requests\n",
    "\n",
    "access_key = '42b6ced0-abbf-4089-8c78-326396a39403'\n",
    "\n",
    "headers = {\n",
    "    'X-Yandex-Weather-Key': access_key\n",
    "}\n",
    "\n",
    "coord1 = input(\"lat: \")\n",
    "print(coord1)\n",
    "coord2 = input(\"lon: \")\n",
    "print(coord2)\n",
    "\n",
    "response = requests.get(f'https://api.weather.yandex.ru/v2/forecast?lat={coord1}&lon={coord2}', headers=headers)\n",
    "\n",
    "if response.status_code == 200:\n",
    "    name = response.json()[\"info\"][\"tzinfo\"][\"name\"]\n",
    "    print(name)\n",
    "    \n",
    "with open(\"data.json\", 'w') as File:\n",
    "        json.dump(response.json(), File, indent=4)\n"
   ]
  },
  {
   "cell_type": "code",
   "execution_count": 1,
   "metadata": {},
   "outputs": [
    {
     "name": "stdout",
     "output_type": "stream",
     "text": [
      "Дата: 2025-03-17, температура днём: 21, температура ночью: 20 \n",
      "Дата: 2025-03-18, температура днём: 11, температура ночью: 14 \n",
      "Дата: 2025-03-19, температура днём: 7, температура ночью: 9 \n",
      "Дата: 2025-03-20, температура днём: 9, температура ночью: 4 \n",
      "Дата: 2025-03-21, температура днём: 8, температура ночью: 6 \n",
      "Дата: 2025-03-22, температура днём: 9, температура ночью: 6 \n",
      "Дата: 2025-03-23, температура днём: 10, температура ночью: 7 \n"
     ]
    }
   ],
   "source": [
    "import requests\n",
    "                                                                                                                                                                                                                                                                                                                                                                                                                                                                                                                                                                                                                                                                                                                                                                                                                                                                                                                                     \n",
    "access_key = '42b6ced0-abbf-4089-8c78-326396a39403'\n",
    "\n",
    "headers = {\n",
    "    'X-Yandex-Weather-Key': access_key\n",
    "}\n",
    "\n",
    "response = requests.get(f'https://api.weather.yandex.ru/v2/forecast?lat={43.908447}&lon={39.333382}', headers=headers)\n",
    "\n",
    "for day in response.json()[\"forecasts\"]:\n",
    "\n",
    "    day_temp = day[\"parts\"][\"day\"][\"temp_max\"]\n",
    "    night_temp = day[\"parts\"][\"night\"][\"temp_max\"]\n",
    "    date = day[\"date\"]\n",
    "    \n",
    "    print(f\"Дата: {date}, температура днём: {day_temp}, температура ночью: {night_temp} \")\n",
    "    \n"
   ]
  },
  {
   "cell_type": "markdown",
   "metadata": {},
   "source": [
    "Описание: Ваша задача – создать рабочее приложение на Python, которое \n",
    "будет управлять каталогом кинофильмов. Программа должна загружать \n",
    "данные о фильмах из JSON-файла, обеспечивать поиск и фильтрацию по \n",
    "заданным параметрам, а также позволять добавлять, редактировать и \n",
    "удалять записи. Итоговые изменения необходимо сохранять в новый JSON\u0002файл.\n",
    "Требования\n",
    "º« Загрузка и чтение данных²\n",
    " Загрузите данные из исходного файла movies.json, содержащего \n",
    "информацию о фильмах«\n",
    " Обеспечьте обработку ошибок, связанных с отсутствием файла или \n",
    "некорректным форматом данных«\n",
    "x« Обработка данных²\n",
    " Реализуйте функции для поиска и фильтрации фильмов по таким \n",
    "параметрам, как название, год выпуска, жанр и режиссёр«\n",
    " Добавьте возможность внесения новых записей в каталог«\n",
    " Обеспечьте функциональность редактирования и удаления \n",
    "существующих записей«\n",
    "« Запись данных²\n",
    " Сохраните обновлённый каталог фильмов в новый JSON-файл \n",
    "(например, updated_movies.json)«\n",
    " Проверьте корректность формата создаваемого файла«\n",
    "« Документация²\n",
    " Прокомментируйте код, поясняя назначение основных функций и \n",
    "блоков"
   ]
  },
  {
   "cell_type": "code",
   "execution_count": 6,
   "metadata": {},
   "outputs": [
    {
     "ename": "NameError",
     "evalue": "name 'file' is not defined",
     "output_type": "error",
     "traceback": [
      "\u001b[1;31m---------------------------------------------------------------------------\u001b[0m",
      "\u001b[1;31mNameError\u001b[0m                                 Traceback (most recent call last)",
      "Cell \u001b[1;32mIn[6], line 37\u001b[0m\n\u001b[0;32m     34\u001b[0m             json\u001b[38;5;241m.\u001b[39mdump(\u001b[38;5;28mself\u001b[39m\u001b[38;5;241m.\u001b[39mfile, file)\n\u001b[0;32m     36\u001b[0m FILE \u001b[38;5;241m=\u001b[39m \u001b[38;5;124m\"\u001b[39m\u001b[38;5;124mmovies.json\u001b[39m\u001b[38;5;124m\"\u001b[39m\n\u001b[1;32m---> 37\u001b[0m myMovies \u001b[38;5;241m=\u001b[39m Movies(\u001b[43mfile\u001b[49m)\n\u001b[0;32m     38\u001b[0m myMovies\u001b[38;5;241m.\u001b[39mdel_movie(\u001b[38;5;124m\"\u001b[39m\u001b[38;5;124mКороль лев 2\u001b[39m\u001b[38;5;124m\"\u001b[39m)\n\u001b[0;32m     39\u001b[0m myMovies\u001b[38;5;241m.\u001b[39madd_movie(\u001b[38;5;124m\"\u001b[39m\u001b[38;5;124mШрек 5\u001b[39m\u001b[38;5;124m\"\u001b[39m, \u001b[38;5;124m\"\u001b[39m\u001b[38;5;124m2027\u001b[39m\u001b[38;5;124m\"\u001b[39m)\n",
      "\u001b[1;31mNameError\u001b[0m: name 'file' is not defined"
     ]
    }
   ],
   "source": [
    "import json\n",
    "import os\n",
    "\n",
    "FILE = \"movies.json\"\n",
    "\n",
    "class Movies:\n",
    "    def __init__(self, file):\n",
    "        self.filename = file\n",
    "        try:\n",
    "            if os.path.exists(file):\n",
    "                with open(self.filename, 'r', encoding=\"UTF-8\") as file:\n",
    "                    self.file - json.load(file)\n",
    "            else:\n",
    "                self.file = []\n",
    "\n",
    "        except json.JSONDecodeError:\n",
    "            self.file = []\n",
    "\n",
    "    def search_movie(self, nameMovie):\n",
    "        for movie in self.file:\n",
    "            if movie[\"name\"] == nameMovie:\n",
    "                return movie\n",
    "            \n",
    "    def add_movie(self, nameMovie, yearMovie):\n",
    "        self.file.append({\"name\":nameMovie, \"year\":yearMovie})\n",
    "\n",
    "    def del_movie(self, nameMovie):\n",
    "        for movie in self.file:\n",
    "            if movie[\"name\"] == nameMovie:\n",
    "                del movie\n",
    "\n",
    "    def seve_file(self):\n",
    "        with open(self.filename, 'w', encoding=\"UTF-8\") as file:\n",
    "            json.dump(self.file, file)\n",
    "\n",
    "FILE = \"movies.json\"\n",
    "myMovies = Movies(file)\n",
    "myMovies.del_movie(\"Король лев 2\")\n",
    "myMovies.add_movie(\"Шрек 5\", \"2027\")\n",
    "myMovies.save_file()\n",
    "\n"
   ]
  },
  {
   "cell_type": "code",
   "execution_count": 9,
   "metadata": {},
   "outputs": [],
   "source": [
    "import json\n",
    "import os\n",
    "\n",
    "FILE = \"movies.json\"\n",
    "\n",
    "class Movies:\n",
    "    def __init__(self, file):\n",
    "        self.filename = file\n",
    "        try:\n",
    "            if os.path.exists(file):\n",
    "                with open(file, 'r', encoding='utf-8') as f:\n",
    "                    self.file = json.load(f)\n",
    "            else:\n",
    "                self.file = []\n",
    "\n",
    "        except json.JSONDecodeError:\n",
    "            self.file = []\n",
    "\n",
    "    def search_movie(self, nameMovie):\n",
    "        for movie in self.file:\n",
    "            if movie[\"name\"] == nameMovie:\n",
    "                return movie\n",
    "            \n",
    "    def add_movie(self, nameMovie, yearMovie):\n",
    "        self.file.append({\"name\": nameMovie, \"year\": yearMovie})\n",
    "\n",
    "    def del_movie(self, nameMovie):\n",
    "        self.file = [movie for movie in self.file if movie.get('name') != nameMovie]\n",
    "\n",
    "    def save_file(self):\n",
    "        with open(self.filename, 'w', encoding=\"utf-8\") as file:\n",
    "            json.dump(self.file, file, indent = 4, ensure_ascii=False)\n",
    "\n",
    "# Пример использования класса\n",
    "if __name__ == \"__main__\":\n",
    "    myMovies = Movies(FILE)\n",
    "    myMovies.del_movie(\"Король лев 2\")\n",
    "    myMovies.add_movie(\"Шрек 5\", \"2027\")\n",
    "    myMovies.save_file()"
   ]
  },
  {
   "cell_type": "markdown",
   "metadata": {},
   "source": []
  },
  {
   "cell_type": "code",
   "execution_count": 4,
   "metadata": {},
   "outputs": [
    {
     "name": "stdout",
     "output_type": "stream",
     "text": [
      "2025-03-17: Дождь не ожидается \n",
      "2025-03-18: Дождь не ожидается \n",
      "2025-03-19: Дождь не ожидается \n",
      "2025-03-20: Дождь не ожидается \n",
      "2025-03-21: Дождь не ожидается \n",
      "2025-03-22: Дождь не ожидается \n",
      "2025-03-23: Дождь не ожидается \n"
     ]
    }
   ],
   "source": [
    "import requests\n",
    "import json\n",
    "\n",
    "access_key = '42b6ced0-abbf-4089-8c78-326396a39403'\n",
    "\n",
    "headers = {\n",
    "    'X-Yandex-Weather-Key': access_key\n",
    "}\n",
    "\n",
    "\n",
    "lat = 52\n",
    "lon = 35\n",
    "coords = f\"lat={lat}&lon={lon}\"\n",
    "\n",
    "url ='https://api.weather.yandex.ru/v2/forecast?'+ coords\n",
    "\n",
    "\n",
    "response = requests.get(url, headers=headers)\n",
    "\n",
    "with open(\"data.json\", 'w', encoding=\"UTF-8\") as file:\n",
    "    json.dump(response.json(), file, indent=4)\n",
    "\n",
    "\n",
    "\n",
    "#print(url)\n",
    "\n",
    "for day in response.json()[\"forecasts\"]:\n",
    "    rain = day[\"parts\"][\"day\"][\"condition\"]\n",
    "    date = day[\"date\"]\n",
    "    print(f\"{date}: {'Дождь ожидается' if 'rain' in rain else 'Дождь не ожидается'} \")"
   ]
  },
  {
   "cell_type": "code",
   "execution_count": 17,
   "metadata": {},
   "outputs": [
    {
     "name": "stdout",
     "output_type": "stream",
     "text": [
      "['2025-03-17', '20:00:00+03:00']\n",
      "(AUD Австралийский доллар, значение: 53.3319) в рублях\n",
      "(AZN Азербайджанский манат, значение: 49.5917) в рублях\n",
      "(GBP Фунт стерлингов, значение: 108.8811) в рублях\n",
      "(AMD Армянских драмов, значение: 21.488) в рублях\n",
      "(BYN Белорусский рубль, значение: 27.0575) в рублях\n",
      "(BGN Болгарский лев, значение: 46.937) в рублях\n",
      "(BRL Бразильский реал, значение: 14.6833) в рублях\n",
      "(HUF Форинтов, значение: 23.0118) в рублях\n",
      "(VND Донгов, значение: 34.0025) в рублях\n",
      "(HKD Гонконгский доллар, значение: 10.8698) в рублях\n",
      "(GEL Лари, значение: 30.375) в рублях\n",
      "(DKK Датская крона, значение: 12.3056) в рублях\n",
      "(AED Дирхам ОАЭ, значение: 22.956) в рублях\n",
      "(USD Доллар США, значение: 84.3059) в рублях\n",
      "(EUR Евро, значение: 90.8443) в рублях\n",
      "(EGP Египетских фунтов, значение: 16.6902) в рублях\n",
      "(INR Индийских рупий, значение: 9.7136) в рублях\n",
      "(IDR Рупий, значение: 51.4311) в рублях\n",
      "(KZT Тенге, значение: 16.6893) в рублях\n",
      "(CAD Канадский доллар, значение: 58.5946) в рублях\n",
      "(QAR Катарский риал, значение: 23.161) в рублях\n",
      "(KGS Сомов, значение: 9.6464) в рублях\n",
      "(CNY Юань, значение: 11.6) в рублях\n",
      "(MDL Молдавских леев, значение: 47.2339) в рублях\n",
      "(NZD Новозеландский доллар, значение: 48.4885) в рублях\n",
      "(NOK Норвежских крон, значение: 79.0025) в рублях\n",
      "(PLN Злотый, значение: 21.9953) в рублях\n",
      "(RON Румынский лей, значение: 18.4736) в рублях\n",
      "(XDR СДР (специальные права заимствования), значение: 112.3368) в рублях\n",
      "(SGD Сингапурский доллар, значение: 63.2073) в рублях\n",
      "(TJS Сомони, значение: 77.0712) в рублях\n",
      "(THB Батов, значение: 25.0538) в рублях\n",
      "(TRY Турецких лир, значение: 23.0546) в рублях\n",
      "(TMT Новый туркменский манат, значение: 24.0874) в рублях\n",
      "(UZS Узбекских сумов, значение: 65.085) в рублях\n",
      "(UAH Гривен, значение: 20.3099) в рублях\n",
      "(CZK Чешских крон, значение: 36.7138) в рублях\n",
      "(SEK Шведских крон, значение: 83.049) в рублях\n",
      "(CHF Швейцарский франк, значение: 95.4875) в рублях\n",
      "(RSD Сербских динаров, значение: 78.2645) в рублях\n",
      "(ZAR Рэндов, значение: 46.2861) в рублях\n",
      "(KRW Вон, значение: 57.9502) в рублях\n",
      "(JPY Иен, значение: 56.6306) в рублях\n"
     ]
    }
   ],
   "source": [
    "import requests\n",
    "\n",
    "response = requests.get(\"https://www.cbr-xml-daily.ru/daily_json.js\")\n",
    "\n",
    "date = response.json()[\"Timestamp\"].split(\"T\")\n",
    "\n",
    "print(date)\n",
    "\n",
    "for valute, value in response.json()[\"Valute\"].items():\n",
    "    valuteName = value[\"Name\"]\n",
    "    valuteValue = value[\"Value\"]\n",
    "    print(f\"({valute} {valuteName}, значение: {valuteValue}) в рублях\")\n"
   ]
  }
 ],
 "metadata": {
  "kernelspec": {
   "display_name": "Python 3",
   "language": "python",
   "name": "python3"
  },
  "language_info": {
   "codemirror_mode": {
    "name": "ipython",
    "version": 3
   },
   "file_extension": ".py",
   "mimetype": "text/x-python",
   "name": "python",
   "nbconvert_exporter": "python",
   "pygments_lexer": "ipython3",
   "version": "3.11.9"
  }
 },
 "nbformat": 4,
 "nbformat_minor": 2
}
