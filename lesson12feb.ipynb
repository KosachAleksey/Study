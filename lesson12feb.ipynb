{
 "cells": [
  {
   "cell_type": "code",
   "execution_count": 1,
   "metadata": {},
   "outputs": [
    {
     "name": "stdout",
     "output_type": "stream",
     "text": [
      "Hi\n"
     ]
    }
   ],
   "source": [
    "print(\"Hi\")"
   ]
  },
  {
   "cell_type": "code",
   "execution_count": 7,
   "metadata": {},
   "outputs": [
    {
     "name": "stdout",
     "output_type": "stream",
     "text": [
      "{'first': 1}\n",
      "{'first': 2, 'second': 3}\n",
      "{'first': 4, 'third': 5}\n"
     ]
    }
   ],
   "source": [
    "class ExampleClass:\n",
    "    def __init__(self, val = 1):\n",
    "        self.first = val\n",
    "    def setSecond(self, val):\n",
    "        self.second = val\n",
    "\n",
    "excempleObject1 = ExampleClass()\n",
    "excempleObject2 = ExampleClass(2)\n",
    "\n",
    "excempleObject2.setSecond(3)\n",
    "\n",
    "excempleObject3 = ExampleClass(4)\n",
    "excempleObject3.third = 5\n",
    "\n",
    "print(excempleObject1.__dict__)\n",
    "print(excempleObject2.__dict__)\n",
    "print(excempleObject3.__dict__)\n",
    "\n"
   ]
  },
  {
   "cell_type": "code",
   "execution_count": 8,
   "metadata": {},
   "outputs": [
    {
     "data": {
      "text/plain": [
       "6"
      ]
     },
     "execution_count": 8,
     "metadata": {},
     "output_type": "execute_result"
    }
   ],
   "source": [
    "def sum(x, y=5): # здесь у Y значение по умолчанию 5 \n",
    "    return x + y\n",
    "\n",
    "sum(1)"
   ]
  },
  {
   "cell_type": "code",
   "execution_count": 27,
   "metadata": {},
   "outputs": [
    {
     "name": "stdout",
     "output_type": "stream",
     "text": [
      "{'main': 0, 'first': 10, 'second': 10}\n",
      "20\n"
     ]
    }
   ],
   "source": [
    "class ExampleClass:\n",
    "    def __init__(self):\n",
    "        self.main = 0\n",
    "    def sum(self, x = 10, y = 10):\n",
    "        self.first = x\n",
    "        self.second = y\n",
    "\n",
    "        return self.first + self.second\n",
    "    \n",
    "excempleObject1 = ExampleClass()\n",
    "excempleObject1.sum()\n",
    "print(excempleObject1.__dict__)\n",
    "print(excempleObject1.sum())\n",
    "        "
   ]
  },
  {
   "cell_type": "code",
   "execution_count": null,
   "metadata": {},
   "outputs": [],
   "source": [
    "class ExampleClass:\n",
    "    def sum(self, num3 = 10, num4 = 11):\n",
    "        \n",
    "\n",
    "        return num3 + num4\n",
    "    \n",
    "excempleObject1 = ExampleClass()\n",
    "excempleObject1.sum(num4 = 15)\n",
    "        "
   ]
  },
  {
   "cell_type": "code",
   "execution_count": 35,
   "metadata": {},
   "outputs": [
    {
     "data": {
      "text/plain": [
       "5"
      ]
     },
     "execution_count": 35,
     "metadata": {},
     "output_type": "execute_result"
    }
   ],
   "source": [
    "class ExampleClass:\n",
    "    def __init__(self, val = 1):\n",
    "        self.__first = val\n",
    "    def setSecond(self, val = 2):\n",
    "        self.__second = val\n",
    "\n",
    "excempleObject = ExampleClass(5)\n",
    "\n",
    "excempleObject.setSecond(9)\n",
    "\n",
    "excempleObject.__dict__\n",
    "\n",
    "excempleObject._ExampleClass__first\n",
    "\n"
   ]
  },
  {
   "cell_type": "code",
   "execution_count": 42,
   "metadata": {},
   "outputs": [
    {
     "name": "stdout",
     "output_type": "stream",
     "text": [
      "{'_first': 1} 3\n",
      "{'_first': 2} 3\n",
      "{'_first': 4} 3\n"
     ]
    }
   ],
   "source": [
    "class ExampleClass:\n",
    "    counter = 0\n",
    "\n",
    "    def __init__(self, val=1):\n",
    "        self._first = val\n",
    "        ExampleClass.counter += 1\n",
    "\n",
    "exampleObject1 = ExampleClass()\n",
    "exampleObject2 = ExampleClass(2)\n",
    "exampleObject3 = ExampleClass(4)\n",
    "\n",
    "print(exampleObject1.__dict__, exampleObject1.counter)\n",
    "print(exampleObject2.__dict__, exampleObject2.counter)\n",
    "print(exampleObject3.__dict__, exampleObject3.counter)"
   ]
  },
  {
   "cell_type": "code",
   "execution_count": 43,
   "metadata": {},
   "outputs": [
    {
     "name": "stdout",
     "output_type": "stream",
     "text": [
      "{'_ExampleClass__first': 1} 3\n",
      "{'_ExampleClass__first': 2} 3\n",
      "{'_ExampleClass__first': 4} 3\n"
     ]
    }
   ],
   "source": [
    "class ExampleClass:\n",
    "    __counter = 0\n",
    "\n",
    "    def __init__(self, val=1):\n",
    "        self.__first = val\n",
    "        ExampleClass.__counter += 1\n",
    "\n",
    "exampleObject1 = ExampleClass()\n",
    "exampleObject2 = ExampleClass(2)\n",
    "exampleObject3 = ExampleClass(4)\n",
    "\n",
    "print(exampleObject1.__dict__, exampleObject1._ExampleClass__counter)\n",
    "print(exampleObject2.__dict__, exampleObject2._ExampleClass__counter)\n",
    "print(exampleObject3.__dict__, exampleObject3._ExampleClass__counter)"
   ]
  },
  {
   "cell_type": "code",
   "execution_count": 44,
   "metadata": {},
   "outputs": [
    {
     "name": "stdout",
     "output_type": "stream",
     "text": [
      "{'__module__': '__main__', 'variable': 2, '__init__': <function ExampleClass.__init__ at 0x000002ADCE078860>, '__dict__': <attribute '__dict__' of 'ExampleClass' objects>, '__weakref__': <attribute '__weakref__' of 'ExampleClass' objects>, '__doc__': None}\n",
      "{}\n"
     ]
    }
   ],
   "source": [
    "class ExampleClass:\n",
    "    variable = 1\n",
    "    def __init__(self, val):\n",
    "        ExampleClass.variable = val\n",
    "\n",
    "exampleObject2 = ExampleClass(2)\n",
    "\n",
    "print(ExampleClass.__dict__)\n",
    "print(exampleObject2.__dict__)\n"
   ]
  },
  {
   "cell_type": "code",
   "execution_count": 45,
   "metadata": {},
   "outputs": [
    {
     "name": "stdout",
     "output_type": "stream",
     "text": [
      "{'__module__': '__main__', 'variable': 1, '__init__': <function ExampleClass.__init__ at 0x000002ADCE0E7600>, '__dict__': <attribute '__dict__' of 'ExampleClass' objects>, '__weakref__': <attribute '__weakref__' of 'ExampleClass' objects>, '__doc__': None}\n",
      "{'variable': 2}\n"
     ]
    }
   ],
   "source": [
    "class ExampleClass:\n",
    "    variable = 1\n",
    "    def __init__(self, val):\n",
    "       self.variable = val\n",
    "\n",
    "exampleObject2 = ExampleClass(2)\n",
    "\n",
    "print(ExampleClass.__dict__)\n",
    "print(exampleObject2.__dict__)"
   ]
  },
  {
   "cell_type": "code",
   "execution_count": 46,
   "metadata": {},
   "outputs": [
    {
     "name": "stdout",
     "output_type": "stream",
     "text": [
      "{'__module__': '__main__', 'variable': 1, '__init__': <function ExampleClass.__init__ at 0x000002ADCE0E7CE0>, '__dict__': <attribute '__dict__' of 'ExampleClass' objects>, '__weakref__': <attribute '__weakref__' of 'ExampleClass' objects>, '__doc__': None}\n",
      "{'__module__': '__main__', 'variable': 999, '__init__': <function ExampleClass.__init__ at 0x000002ADCE0E7CE0>, '__dict__': <attribute '__dict__' of 'ExampleClass' objects>, '__weakref__': <attribute '__weakref__' of 'ExampleClass' objects>, '__doc__': None}\n"
     ]
    }
   ],
   "source": [
    "class ExampleClass:\n",
    "    variable = 1\n",
    "    def __init__(self, val):\n",
    "       ExampleClass.variable = val\n",
    "\n",
    "print(ExampleClass.__dict__)\n",
    "\n",
    "exampleObject1 = ExampleClass(154)\n",
    "exampleObject2 = ExampleClass(90)\n",
    "exampleObject3 = ExampleClass(999)\n",
    "\n",
    "print(ExampleClass.__dict__)\n",
    "#print(exampleObject2.__dict__)"
   ]
  },
  {
   "cell_type": "markdown",
   "metadata": {},
   "source": [
    "Обработка исключений "
   ]
  },
  {
   "cell_type": "code",
   "execution_count": 49,
   "metadata": {},
   "outputs": [
    {
     "name": "stdout",
     "output_type": "stream",
     "text": [
      "1\n"
     ]
    }
   ],
   "source": [
    "class ExampleClass:\n",
    "    def __init__(self, val):\n",
    "        if val % 2 != 0:\n",
    "            self.a = 1\n",
    "        else: \n",
    "            self = 1\n",
    "\n",
    "exampleObject = ExampleClass(1)\n",
    "\n",
    "print(exampleObject.a)\n",
    "\n",
    "try:\n",
    "    print(exampleObject.b)\n",
    "except AttributeError:\n",
    "    pass\n",
    "\n"
   ]
  },
  {
   "cell_type": "code",
   "execution_count": 50,
   "metadata": {},
   "outputs": [
    {
     "name": "stdout",
     "output_type": "stream",
     "text": [
      "1\n"
     ]
    }
   ],
   "source": [
    "class ExampleClass:\n",
    "    def __init__(self, val):\n",
    "        if val % 2 != 0:\n",
    "            self.a = 1\n",
    "        else: \n",
    "            self = 1\n",
    "\n",
    "exampleObject = ExampleClass(1)\n",
    "\n",
    "print(exampleObject.a)\n",
    "\n",
    "if hasattr(exampleObject, 'b'):\n",
    "    print(exampleObject.b)\n"
   ]
  },
  {
   "cell_type": "code",
   "execution_count": 52,
   "metadata": {},
   "outputs": [
    {
     "name": "stdout",
     "output_type": "stream",
     "text": [
      "True\n",
      "False\n"
     ]
    }
   ],
   "source": [
    "class ExampleClass:\n",
    "    attr = 1\n",
    "\n",
    "print(hasattr(ExampleClass, 'attr'))\n",
    "print(hasattr(ExampleClass, 'prop'))"
   ]
  },
  {
   "cell_type": "code",
   "execution_count": null,
   "metadata": {},
   "outputs": [],
   "source": [
    "class ExampleClass:\n",
    "    a =1\n",
    "    def __init__(self):\n",
    "        self.b = 2\n",
    "exampleObject = ExampleClass()\n",
    "\n",
    "\n",
    "print(hasattr(exampleObject ,'a'))\n",
    "print(hasattr(exampleObject , 'b'))\n",
    "print(hasattr(ExampleClass, 'a'))\n",
    "print(hasattr(ExampleClass, 'b'))\n",
    "\n"
   ]
  },
  {
   "cell_type": "code",
   "execution_count": 54,
   "metadata": {},
   "outputs": [
    {
     "name": "stdout",
     "output_type": "stream",
     "text": [
      "metod:  1\n",
      "metod:  2\n",
      "metod:  3\n"
     ]
    }
   ],
   "source": [
    "class ExampleClass:\n",
    "    def method(self, par):\n",
    "        print('metod: ', par)\n",
    "\n",
    "obj = ExampleClass()\n",
    "obj.method(1)\n",
    "obj.method(2)\n",
    "obj.method(3)"
   ]
  },
  {
   "cell_type": "code",
   "execution_count": 56,
   "metadata": {},
   "outputs": [
    {
     "name": "stdout",
     "output_type": "stream",
     "text": [
      "method\n",
      "other\n"
     ]
    }
   ],
   "source": [
    "class ExampleClass:\n",
    "    def other(self):\n",
    "        print(\"other\")\n",
    "    def method(self):\n",
    "        print(\"method\")\n",
    "        self.other()\n",
    "\n",
    "obj = ExampleClass()\n",
    "obj.method()"
   ]
  },
  {
   "cell_type": "code",
   "execution_count": 60,
   "metadata": {},
   "outputs": [
    {
     "name": "stdout",
     "output_type": "stream",
     "text": [
      "Object\n"
     ]
    }
   ],
   "source": [
    "class ExampleClass:\n",
    "    def __init__(self, value ):\n",
    "        self.variable = value\n",
    "\n",
    "obj = ExampleClass(\"Object\")\n",
    "print(obj.variable)"
   ]
  },
  {
   "cell_type": "code",
   "execution_count": 62,
   "metadata": {},
   "outputs": [
    {
     "data": {
      "text/plain": [
       "{'_Server__port': 2700, '_Server__id': 1111.1, '__port': 2}"
      ]
     },
     "execution_count": 62,
     "metadata": {},
     "output_type": "execute_result"
    }
   ],
   "source": [
    "class Server:\n",
    "    def __init__(self, port, id):\n",
    "        self.__port = port\n",
    "        self.__id = id\n",
    "\n",
    "myServer = Server(2700, 1111.1)\n",
    "\n",
    "myServer.__port = 2\n",
    "\n",
    "myServer.__dict__\n"
   ]
  },
  {
   "cell_type": "code",
   "execution_count": 64,
   "metadata": {},
   "outputs": [
    {
     "data": {
      "text/plain": [
       "{'_Server__port': 2, '_Server__id': 1111.1}"
      ]
     },
     "execution_count": 64,
     "metadata": {},
     "output_type": "execute_result"
    }
   ],
   "source": [
    "class Server:\n",
    "    def __init__(self, port, id):\n",
    "        self.__port = port\n",
    "        self.__id = id\n",
    "\n",
    "myServer = Server(2700, 1111.1)\n",
    "\n",
    "myServer._Server__port = 2\n",
    "\n",
    "myServer.__dict__"
   ]
  }
 ],
 "metadata": {
  "kernelspec": {
   "display_name": "Python 3",
   "language": "python",
   "name": "python3"
  },
  "language_info": {
   "codemirror_mode": {
    "name": "ipython",
    "version": 3
   },
   "file_extension": ".py",
   "mimetype": "text/x-python",
   "name": "python",
   "nbconvert_exporter": "python",
   "pygments_lexer": "ipython3",
   "version": "3.11.9"
  }
 },
 "nbformat": 4,
 "nbformat_minor": 2
}
