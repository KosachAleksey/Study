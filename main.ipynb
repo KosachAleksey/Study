{
 "cells": [
  {
   "cell_type": "markdown",
   "metadata": {},
   "source": [
    "Домашние задание\n",
    "Алгоритмы сортировки и поиска на языке\n",
    "Python\n",
    "1. С помощью алгоритма пузырьковой\n",
    "сортировки(использовать функцию def)\n",
    "реализовать:"
   ]
  },
  {
   "cell_type": "markdown",
   "metadata": {},
   "source": [
    "Отсортировать список студентов по\n",
    "среднему баллу."
   ]
  },
  {
   "cell_type": "code",
   "execution_count": 16,
   "metadata": {},
   "outputs": [
    {
     "name": "stdout",
     "output_type": "stream",
     "text": [
      "Отсортированные студенты по среднему баллу: [{'name': 'Charlie', 'average': 83}, {'name': 'Alice', 'average': 85}, {'name': 'Bob', 'average': 90}]\n"
     ]
    }
   ],
   "source": [
    "students = [\n",
    "    {'name': 'Alice', 'average': 85},\n",
    "    {'name': 'Bob', 'average': 90},\n",
    "    {'name': 'Charlie', 'average': 83}\n",
    "]\n",
    "\n",
    "def bubble_sort_students(students):\n",
    "    n = len(students)\n",
    "    for i in range(n-1):\n",
    "        for j in range(0, n-1-i):\n",
    "            if students[j]['average'] > students[j+1]['average']:\n",
    "                students[j], students[j+1] = students[j+1], students[j]\n",
    "    return students\n",
    "\n",
    "\n",
    "\n",
    "sorted_students = bubble_sort_students(students) \n",
    "print(f\"Отсортированные студенты по среднему баллу: {sorted_students}\")\n"
   ]
  },
  {
   "cell_type": "markdown",
   "metadata": {},
   "source": [
    "Сортировка массива температур за месяц по возрастанию"
   ]
  },
  {
   "cell_type": "code",
   "execution_count": 2,
   "metadata": {},
   "outputs": [
    {
     "name": "stdout",
     "output_type": "stream",
     "text": [
      "Отсортированные температуры: [21, 22, 25, 27, 28, 30, 38]\n"
     ]
    }
   ],
   "source": [
    "def bubble_sort_temperatures(temperatures):\n",
    "    n = len(temperatures)\n",
    "    for i in range(n):\n",
    "        for j in range(0, n-i-1):\n",
    "            if temperatures[j] > temperatures[j+1]:\n",
    "                temperatures[j], temperatures[j+1] = temperatures[j+1], temperatures[j]\n",
    "    return temperatures\n",
    "\n",
    "temperatures = [30, 22, 25, 28, 21, 38, 27]\n",
    "sorted_temperatures = bubble_sort_temperatures(temperatures)\n",
    "print(\"Отсортированные температуры:\", sorted_temperatures)"
   ]
  },
  {
   "cell_type": "markdown",
   "metadata": {},
   "source": [
    "Сортировка слов в предложении по алфавиту"
   ]
  },
  {
   "cell_type": "code",
   "execution_count": 1,
   "metadata": {},
   "outputs": [
    {
     "name": "stdout",
     "output_type": "stream",
     "text": [
      "Отсортированные Cлова в предложении: интересно на питоне программирование это\n"
     ]
    }
   ],
   "source": [
    "def bubble_sort_words(sentence):\n",
    "    words = sentence.split()\n",
    "    n = len(words)\n",
    "    for i in range(n):\n",
    "        for j in range(0, n-i-1):\n",
    "            if words[j] > words[j+1]:\n",
    "                words[j], words[j+1] = words[j+1], words[j]\n",
    "    return ' '.join(words)\n",
    "\n",
    "sentence = \"программирование на питоне это интересно\"\n",
    "sorted_sentence = bubble_sort_words(sentence)\n",
    "print(\"Отсортированные Cлова в предложении:\", sorted_sentence)"
   ]
  },
  {
   "cell_type": "markdown",
   "metadata": {},
   "source": [
    "2. Линейная сортировка (поиск)"
   ]
  },
  {
   "cell_type": "code",
   "execution_count": 3,
   "metadata": {},
   "outputs": [
    {
     "name": "stdout",
     "output_type": "stream",
     "text": [
      "Индекс первого вхождения целевого значения: 2\n"
     ]
    }
   ],
   "source": [
    "def linear_search(numbers, target):\n",
    "    for index, value in enumerate(numbers):\n",
    "        if value == target:\n",
    "            return index\n",
    "    return -1\n",
    "\n",
    "numbers = [10, 20, 30, 40, 50]\n",
    "target_value = 30\n",
    "index = linear_search(numbers, target_value)\n",
    "print(\"Индекс первого вхождения целевого значения:\", index)"
   ]
  },
  {
   "cell_type": "markdown",
   "metadata": {},
   "source": [
    "Пузырьковая сортировка"
   ]
  },
  {
   "cell_type": "code",
   "execution_count": 1,
   "metadata": {},
   "outputs": [
    {
     "name": "stdout",
     "output_type": "stream",
     "text": [
      "Исходный массив: [98, 32, 16, 8, 55, 1, 23]\n",
      "Проход 1\n",
      "Сравниваем 98 и 32\n",
      "Обмен: 32 и 98\n",
      "Сравниваем 98 и 16\n",
      "Обмен: 16 и 98\n",
      "Сравниваем 98 и 8\n",
      "Обмен: 8 и 98\n",
      "Сравниваем 98 и 55\n",
      "Обмен: 55 и 98\n",
      "Сравниваем 98 и 1\n",
      "Обмен: 1 и 98\n",
      "Сравниваем 98 и 23\n",
      "Обмен: 23 и 98\n",
      "Выводим массив после каждого прохода [1]: [32, 16, 8, 55, 1, 23, 98]\n",
      "\n",
      "Проход 2\n",
      "Сравниваем 32 и 16\n",
      "Обмен: 16 и 32\n",
      "Сравниваем 32 и 8\n",
      "Обмен: 8 и 32\n",
      "Сравниваем 32 и 55\n",
      "Обмен уже отсортирован\n",
      "Сравниваем 55 и 1\n",
      "Обмен: 1 и 55\n",
      "Сравниваем 55 и 23\n",
      "Обмен: 23 и 55\n",
      "Выводим массив после каждого прохода [2]: [16, 8, 32, 1, 23, 55, 98]\n",
      "\n",
      "Проход 3\n",
      "Сравниваем 16 и 8\n",
      "Обмен: 8 и 16\n",
      "Сравниваем 16 и 32\n",
      "Обмен уже отсортирован\n",
      "Сравниваем 32 и 1\n",
      "Обмен: 1 и 32\n",
      "Сравниваем 32 и 23\n",
      "Обмен: 23 и 32\n",
      "Выводим массив после каждого прохода [3]: [8, 16, 1, 23, 32, 55, 98]\n",
      "\n",
      "Проход 4\n",
      "Сравниваем 8 и 16\n",
      "Обмен уже отсортирован\n",
      "Сравниваем 16 и 1\n",
      "Обмен: 1 и 16\n",
      "Сравниваем 16 и 23\n",
      "Обмен уже отсортирован\n",
      "Выводим массив после каждого прохода [4]: [8, 1, 16, 23, 32, 55, 98]\n",
      "\n",
      "Проход 5\n",
      "Сравниваем 8 и 1\n",
      "Обмен: 1 и 8\n",
      "Сравниваем 8 и 16\n",
      "Обмен уже отсортирован\n",
      "Выводим массив после каждого прохода [5]: [1, 8, 16, 23, 32, 55, 98]\n",
      "\n",
      "Проход 6\n",
      "Сравниваем 1 и 8\n",
      "Обмен уже отсортирован\n",
      "Выводим массив после каждого прохода [6]: [1, 8, 16, 23, 32, 55, 98]\n",
      "\n",
      "Отсортированный массив: [1, 8, 16, 23, 32, 55, 98]\n"
     ]
    }
   ],
   "source": [
    "def bubble_sort(arr):\n",
    "    n = len(arr)\n",
    "\n",
    "    for i in range(n):\n",
    "        #Были ли произведены обмены в этом проходе\n",
    "        swapped = False\n",
    "        print(f\"Проход {i + 1}\")\n",
    "        for j in range(0, n-i-1):\n",
    "            print(f\"Сравниваем {arr[j]} и {arr[j + 1]}\")\n",
    "            # Если текущ. больше чем следующий, то меняем местами\n",
    "            if arr[j] > arr[j + 1]:\n",
    "                arr[j], arr[j + 1] = arr[j + 1], arr[j]\n",
    "                swapped = True\n",
    "                print(f\"Обмен: {arr[j]} и {arr[j + 1]}\")\n",
    "            else:\n",
    "                print(\"Обмен уже отсортирован\")\n",
    "\n",
    "        print(f\"Выводим массив после каждого прохода {[i + 1]}: {arr}\\n\")\n",
    "\n",
    "        if not swapped:\n",
    "            break\n",
    "\n",
    "array = [98, 32, 16, 8, 55, 1, 23]\n",
    "\n",
    "print(f\"Исходный массив: {array}\")\n",
    "\n",
    "bubble_sort(array)\n",
    "\n",
    "print(f\"Отсортированный массив: {array}\")"
   ]
  },
  {
   "cell_type": "code",
   "execution_count": 14,
   "metadata": {},
   "outputs": [
    {
     "name": "stdout",
     "output_type": "stream",
     "text": [
      "[2]\n",
      "[2, 7]\n",
      "[2, 7, 4]\n",
      "[2, 7, 4, 88]\n",
      "[2, 7, 4, 88, 34]\n",
      "[2, 7, 4, 88, 34, 7]\n",
      "Исходный массив: [2, 7, 4, 88, 34, 7]\n",
      "Проход 1\n",
      "Сравниваем 2 и 7\n",
      "Обмен не обнаружен\n",
      "Сравниваем 7 и 4\n",
      "Меняем местами 4 с 7\n",
      "Сравниваем 7 и 88\n",
      "Обмен не обнаружен\n",
      "Сравниваем 88 и 34\n",
      "Меняем местами 34 с 88\n",
      "Сравниваем 88 и 7\n",
      "Меняем местами 7 с 88\n",
      "Вводим массив поле каждого прохода 1: [2, 4, 7, 34, 7, 88]\n",
      "\n",
      "Проход 2\n",
      "Сравниваем 2 и 4\n",
      "Обмен не обнаружен\n",
      "Сравниваем 4 и 7\n",
      "Обмен не обнаружен\n",
      "Сравниваем 7 и 34\n",
      "Обмен не обнаружен\n",
      "Сравниваем 34 и 7\n",
      "Меняем местами 7 с 34\n",
      "Вводим массив поле каждого прохода 2: [2, 4, 7, 7, 34, 88]\n",
      "\n",
      "Проход 3\n",
      "Сравниваем 2 и 4\n",
      "Обмен не обнаружен\n",
      "Сравниваем 4 и 7\n",
      "Обмен не обнаружен\n",
      "Сравниваем 7 и 7\n",
      "Обмен не обнаружен\n",
      "Вводим массив поле каждого прохода 3: [2, 4, 7, 7, 34, 88]\n",
      "\n",
      "Отсортированный массив: [2, 4, 7, 7, 34, 88]\n"
     ]
    }
   ],
   "source": [
    "def bubble_sort(arr):\n",
    "    n = len(arr)\n",
    "    \n",
    "    for i in range(n):\n",
    "        swapped = False\n",
    "        print(f\"Проход {i + 1}\")\n",
    "        for j in range(0, n-i-1):\n",
    "            print(f\"Сравниваем {arr[j]} и {arr[j+1]}\")\n",
    "            if arr[j] > arr[j+1]:\n",
    "                arr[j], arr[j+1] = arr[j+1], arr[j]\n",
    "                swapped = True\n",
    "                print(f\"Меняем местами {arr[j]} с {arr[j+1]}\")\n",
    "            else:\n",
    "                print(f\"Обмен не обнаружен\")\n",
    "        print(f\"Вводим массив поле каждого прохода {i+1}: {arr}\\n\")\n",
    "        if not swapped:\n",
    "            break\n",
    "\n",
    "#array = [68, 32, 16, 8, 55, 1, 23]\n",
    "\n",
    "\n",
    "\n",
    "с = int (input (\"Введите размер/длину массива:\"))\n",
    "array= [] \n",
    "for i in range (с): \n",
    "    array.append (int (input (\"Введите числа массива\")))\n",
    "    print (array)\n",
    "\n",
    "print(f\"Исходный массив: {array}\")\n",
    "\n",
    "bubble_sort(array)\n",
    "\n",
    "print(f\"Отсортированный массив: {array}\")\n",
    "        \n",
    "\n",
    "    \n",
    "                \n",
    "\n",
    "    \n",
    "    "
   ]
  },
  {
   "cell_type": "code",
   "execution_count": 20,
   "metadata": {},
   "outputs": [
    {
     "name": "stdout",
     "output_type": "stream",
     "text": [
      "The original array [2]\n",
      "The original array [2, 6]\n",
      "The original array [2, 6, 1]\n",
      "The original array [2, 6, 1, 77]\n",
      "Исходный массив: [2, 6, 1, 77]\n",
      "Prohod № 1\n",
      "Compare 2 и 6\n",
      "No exchange detected\n",
      "Compare 6 и 1\n",
      "Swapping places 1 and 6\n",
      "Compare 6 и 77\n",
      "No exchange detected\n",
      "Output the array after each pass 1: [2, 1, 6, 77]\n",
      "\n",
      "Prohod № 2\n",
      "Compare 2 и 1\n",
      "Swapping places 1 and 2\n",
      "Compare 2 и 6\n",
      "No exchange detected\n",
      "Output the array after each pass 2: [1, 2, 6, 77]\n",
      "\n",
      "Prohod № 3\n",
      "Compare 1 и 2\n",
      "No exchange detected\n",
      "Output the array after each pass 3: [1, 2, 6, 77]\n",
      "\n",
      "Отсортированный массив: [1, 2, 6, 77]\n"
     ]
    }
   ],
   "source": [
    "def bubble_sort(arr):\n",
    "    n = len(arr)\n",
    "    for i in range(n):\n",
    "        swapped = False\n",
    "        print(f\"Prohod № {i+1}\")\n",
    "        for j in range(0, n-i-1):\n",
    "            print(f\"Compare {arr[j]} и {arr[j+1]}\")\n",
    "            if arr[j] > arr[j+1]:\n",
    "                arr[j], arr[j+1] = arr[j+1], arr[j]\n",
    "                swapped = True\n",
    "                print(f\"Swapping places {arr[j]} and {arr[j+1]}\")\n",
    "            else:\n",
    "                print(f\"No exchange detected\")\n",
    "        print(f\"Output the array after each pass {i+1}: {arr}\\n\")\n",
    "        if not swapped:\n",
    "            break\n",
    "c = int(input(\"Введите значание длинны массива\"))\n",
    "array = [] \n",
    "for i in range(c):\n",
    "    array.append(int(input(\"Enter the numbers in the array\")))\n",
    "    print(f\"The original array {array}\")\n",
    "\n",
    "\n",
    "\n",
    "print(f\"Исходный массив: {array}\")\n",
    "\n",
    "bubble_sort(array)\n",
    "\n",
    "print(f\"Отсортированный массив: {array}\")\n",
    "                \n"
   ]
  },
  {
   "cell_type": "markdown",
   "metadata": {},
   "source": [
    "Быстрая сортировка"
   ]
  },
  {
   "cell_type": "code",
   "execution_count": 4,
   "metadata": {},
   "outputs": [
    {
     "name": "stdout",
     "output_type": "stream",
     "text": [
      "Исходный массив:  [123, 32, 123, 5, 1, 5, 123, 32, 45, 687, 876, 2]\n",
      "Выбираем опорный элемент: 123\n",
      "Левая часть: [32, 5, 1, 5, 32, 45, 2]\n",
      "Правая часть: [687, 876]\n",
      "Средняя часть (опорные элементы): [123, 123, 123]\n",
      "Выбираем опорный элемент: 5\n",
      "Левая часть: [1, 2]\n",
      "Правая часть: [32, 32, 45]\n",
      "Средняя часть (опорные элементы): [5, 5]\n",
      "Выбираем опорный элемент: 2\n",
      "Левая часть: [1]\n",
      "Правая часть: []\n",
      "Средняя часть (опорные элементы): [2]\n",
      "Выбираем опорный элемент: 32\n",
      "Левая часть: []\n",
      "Правая часть: [45]\n",
      "Средняя часть (опорные элементы): [32, 32]\n",
      "Выбираем опорный элемент: 876\n",
      "Левая часть: [687]\n",
      "Правая часть: []\n",
      "Средняя часть (опорные элементы): [876]\n",
      "Отсортированный массив:  [1, 2, 5, 5, 32, 32, 45, 123, 123, 123, 687, 876]\n"
     ]
    }
   ],
   "source": [
    "def quick_sort(arr):\n",
    "    # Проверяем, если длина массива меньше или равна 1, возвращаем его как есть\n",
    "    if len(arr) <= 1:\n",
    "        return arr\n",
    "    \n",
    "    # Выбираем опорный элемент (pivot) из середины массива\n",
    "    pivot = arr[len(arr) // 2]\n",
    "    print(f\"Выбираем опорный элемент: {pivot}\")\n",
    "\n",
    "    # Создаем список элементов, меньших опорного\n",
    "    left = [x for x in arr if x < pivot]\n",
    "    # Создаем список элементов, равных опорному\n",
    "    middle = [x for x in arr if x == pivot]\n",
    "    # Создаем список элементов, больших опорного\n",
    "    right = [x for x in arr if x > pivot]\n",
    "\n",
    "    # Выводим части массива для отладки\n",
    "    print(f\"Левая часть: {left}\")\n",
    "    print(f\"Правая часть: {right}\")\n",
    "    print(f\"Средняя часть (опорные элементы): {middle}\")\n",
    "\n",
    "    # Рекурсивно сортируем левую и правую части, объединяем их с средней частью\n",
    "    return quick_sort(left) + middle + quick_sort(right)\n",
    "\n",
    "# Исходный массив для сортировки\n",
    "array = [123, 32, 123, 5, 1, 5, 123, 32, 45, 687, 876, 2]\n",
    "# Выводим исходный массив\n",
    "print(\"Исходный массив: \", array)\n",
    "# Сортируем массив и сохраняем результат в переменной sorted_array\n",
    "sorted_array = quick_sort(array)\n",
    "# Выводим отсортированный массив\n",
    "print(f\"Отсортированный массив: \", sorted_array)"
   ]
  },
  {
   "cell_type": "code",
   "execution_count": 2,
   "metadata": {},
   "outputs": [
    {
     "name": "stdout",
     "output_type": "stream",
     "text": [
      "Исходный массив: [123, 32, 123, 5, 1, 5, 123, 32, 45, 687, 576, 2]\n",
      "Выбранный центральный опорный элемент: 123\n",
      "Левая часть: [32, 5, 1, 5, 32, 45, 2]\n",
      "Правая часть: [687, 576]\n",
      "Средняя часть/опорный элемент(ы): [123, 123, 123]\n",
      "Выбранный центральный опорный элемент: 5\n",
      "Левая часть: [1, 2]\n",
      "Правая часть: [32, 32, 45]\n",
      "Средняя часть/опорный элемент(ы): [5, 5]\n",
      "Выбранный центральный опорный элемент: 2\n",
      "Левая часть: [1]\n",
      "Правая часть: []\n",
      "Средняя часть/опорный элемент(ы): [2]\n",
      "Выбранный центральный опорный элемент: 32\n",
      "Левая часть: []\n",
      "Правая часть: [45]\n",
      "Средняя часть/опорный элемент(ы): [32, 32]\n",
      "Выбранный центральный опорный элемент: 576\n",
      "Левая часть: []\n",
      "Правая часть: [687]\n",
      "Средняя часть/опорный элемент(ы): [576]\n",
      "Отсортированный массив: [1, 2, 5, 5, 32, 32, 45, 123, 123, 123, 576, 687]\n"
     ]
    }
   ],
   "source": [
    "def quick_sort(arr):\n",
    "    if len(arr) <=1:\n",
    "        return arr\n",
    "    pivot = arr[len(arr) // 2]\n",
    "    print(f\"Выбранный центральный опорный элемент: {pivot}\")\n",
    "    left = [x for x in arr if x < pivot]\n",
    "    right = [x for x in arr if x > pivot]\n",
    "    middle = [x for x in arr if x == pivot] \n",
    "    print(f\"Левая часть: {left}\")\n",
    "    print(f\"Правая часть: {right}\")\n",
    "    print(f\"Средняя часть/опорный элемент(ы): {middle}\")\n",
    "    return quick_sort(left) + middle + quick_sort(right)\n",
    "array = [123, 32, 123, 5, 1, 5, 123, 32, 45, 687, 576, 2]\n",
    "print(f\"Исходный массив: {array}\")\n",
    "sorted_array = quick_sort(array)\n",
    "print(f\"Отсортированный массив: {sorted_array}\")\n",
    "\n",
    "\n",
    "\n",
    "\n"
   ]
  },
  {
   "cell_type": "code",
   "execution_count": 9,
   "metadata": {},
   "outputs": [
    {
     "name": "stdout",
     "output_type": "stream",
     "text": [
      "The original array [2]\n",
      "The original array [2, 55]\n",
      "The original array [2, 55, 44]\n",
      "The original array [2, 55, 44, 878]\n",
      "The original array [2, 55, 44, 878, 5]\n",
      "Исходнй список: [2, 55, 44, 878, 5]\n",
      "Опорный элемент 44\n",
      "Опорный элемент 878\n",
      "Опорный элемент 5\n",
      "Осортированный список: [878, 55, 44, 5, 2]\n"
     ]
    }
   ],
   "source": [
    "def quick_sort(arr):\n",
    "    if len(arr) <= 1:\n",
    "        return arr\n",
    "    pivot = arr[len(arr) // 2]\n",
    "    print(f\"Опорный элемент {pivot}\")\n",
    "    left = [x for x in arr if x > pivot]\n",
    "    right = [x for x in arr if x < pivot]\n",
    "    middle = [x for x in arr if x == pivot]\n",
    "    return quick_sort(left) + middle + quick_sort(right)\n",
    "#array = [2, 33, 56, 78, 21, 5, 7]\n",
    "c = 5 #int(input(\"Введите значание длинны массива\"))\n",
    "array = [] \n",
    "for i in range(c):\n",
    "    array.append(int(input(\"Enter the numbers in the array\")))\n",
    "    print(f\"The original array {array}\")\n",
    "print(f\"Исходнй список: {array}\")\n",
    "sort_array = quick_sort(array)\n",
    "print(f\"Осортированный список: {sort_array}\")"
   ]
  },
  {
   "cell_type": "code",
   "execution_count": 1,
   "metadata": {},
   "outputs": [
    {
     "name": "stdout",
     "output_type": "stream",
     "text": [
      "Исходный код: [12, 32, 65, 78, 34, 6, 1]\n",
      "Опорный элемент: 78\n",
      "Слева: [12, 32, 65, 34, 6, 1]\n",
      "Справа: []\n",
      "Центр: [78]\n",
      "Опорный элемент: 34\n",
      "Слева: [12, 32, 6, 1]\n",
      "Справа: [65]\n",
      "Центр: [34]\n",
      "Опорный элемент: 6\n",
      "Слева: [1]\n",
      "Справа: [12, 32]\n",
      "Центр: [6]\n",
      "Опорный элемент: 32\n",
      "Слева: [12]\n",
      "Справа: []\n",
      "Центр: [32]\n",
      "Отортированный список: [1, 6, 12, 32, 34, 65, 78]\n"
     ]
    }
   ],
   "source": [
    "def quick_sort(arr):\n",
    "    if len(arr) <=1:\n",
    "        return arr\n",
    "    pivot = arr[len(arr) // 2]\n",
    "    print(f\"Опорный элемент: {pivot}\")\n",
    "    left = [x for x in arr if x < pivot]\n",
    "    print(f\"Слева: {left }\")\n",
    "    right = [x for x in arr if x > pivot]\n",
    "    print(f\"Справа: {right}\")\n",
    "    middle = [x for x in arr if x == pivot]\n",
    "    print(f\"Центр: {middle}\")\n",
    "    return quick_sort(left) + middle + quick_sort(right)\n",
    "array = [12, 32, 65, 78, 34, 6, 1]\n",
    "print(f\"Исходный код: {array}\")\n",
    "\n",
    "sort_arr = quick_sort(array)\n",
    "print(f\"Отортированный список: {sort_arr}\")\n",
    "\n"
   ]
  },
  {
   "cell_type": "code",
   "execution_count": 14,
   "metadata": {},
   "outputs": [
    {
     "name": "stdout",
     "output_type": "stream",
     "text": [
      "Исходный/введеный список: [1, 78, 22, 21, 90]\n",
      "Отсортированный список: [1, 21, 22, 78, 90]\n"
     ]
    }
   ],
   "source": [
    "def quick_sort(arr):\n",
    "    if len(arr) <=1:\n",
    "        return arr\n",
    "    pivot = arr[len(arr) // 2]\n",
    "    left = [x for x in arr if x < pivot]\n",
    "    right = [x for x in arr if x > pivot]\n",
    "    middle = [x for x in arr if x == pivot]\n",
    "    return quick_sort(left) + middle + quick_sort(right)\n",
    "\n",
    "c = int(input(\"Введите значение длинны списка\"))\n",
    "array =[]\n",
    "for i in range(c):\n",
    "    array.append(int(input(\"Введите число списка\")))\n",
    "print(f\"Исходный/введеный список: {array}\")\n",
    "\n",
    "sort_array = quick_sort(array)\n",
    "print(f\"Отсортированный список: {sort_array}\")"
   ]
  },
  {
   "cell_type": "code",
   "execution_count": 16,
   "metadata": {},
   "outputs": [
    {
     "name": "stdout",
     "output_type": "stream",
     "text": [
      "The original array [7]\n",
      "The original array [7, 3]\n",
      "The original array [7, 3, 87]\n",
      "The original array [7, 3, 87, 11]\n",
      "The original array [7, 3, 87, 11, 9]\n",
      "Исходный массив: [7, 3, 87, 11, 9]\n",
      "Prohod № 1\n",
      "Compare 7 и 3\n",
      "Swapping places 3 and 7\n",
      "Compare 7 и 87\n",
      "No exchange detected\n",
      "Compare 87 и 11\n",
      "Swapping places 11 and 87\n",
      "Compare 87 и 9\n",
      "Swapping places 9 and 87\n",
      "Output the array after each pass 1: [3, 7, 11, 9, 87]\n",
      "\n",
      "Prohod № 2\n",
      "Compare 3 и 7\n",
      "No exchange detected\n",
      "Compare 7 и 11\n",
      "No exchange detected\n",
      "Compare 11 и 9\n",
      "Swapping places 9 and 11\n",
      "Output the array after each pass 2: [3, 7, 9, 11, 87]\n",
      "\n",
      "Prohod № 3\n",
      "Compare 3 и 7\n",
      "No exchange detected\n",
      "Compare 7 и 9\n",
      "No exchange detected\n",
      "Output the array after each pass 3: [3, 7, 9, 11, 87]\n",
      "\n",
      "Отсортированный массив: [3, 7, 9, 11, 87]\n"
     ]
    }
   ],
   "source": [
    "def bubble_sort(arr):\n",
    "    n = len(arr)\n",
    "    for i in range(n):\n",
    "        swapped = False\n",
    "        print(f\"Prohod № {i+1}\")\n",
    "        for j in range(0, n-i-1):\n",
    "            print(f\"Compare {arr[j]} и {arr[j+1]}\")\n",
    "            if arr[j] > arr[j+1]:\n",
    "                arr[j], arr[j+1] = arr[j+1], arr[j]\n",
    "                swapped = True\n",
    "                print(f\"Swapping places {arr[j]} and {arr[j+1]}\")\n",
    "            else:\n",
    "                print(f\"No exchange detected\")\n",
    "        print(f\"Output the array after each pass {i+1}: {arr}\\n\")\n",
    "        if not swapped:\n",
    "            break\n",
    "c = int(input(\"Введите значание длинны массива\"))\n",
    "array = [] \n",
    "for i in range(c):\n",
    "    array.append(int(input(\"Enter the numbers in the array\")))\n",
    "    print(f\"The original array {array}\")\n",
    "\n",
    "\n",
    "\n",
    "print(f\"Исходный массив: {array}\")\n",
    "\n",
    "bubble_sort(array)\n",
    "\n",
    "print(f\"Отсортированный массив: {array}\")"
   ]
  },
  {
   "cell_type": "code",
   "execution_count": 4,
   "metadata": {},
   "outputs": [
    {
     "name": "stdout",
     "output_type": "stream",
     "text": [
      "Отсортированные Cлова в предложении: интересно на питоне программирование это\n"
     ]
    }
   ],
   "source": [
    "def bubble_sort_words(sentence):\n",
    "    words = sentence.split()\n",
    "    n = len(words)\n",
    "    for i in range(n):\n",
    "        for j in range(0, n-i-1):\n",
    "            if words[j] > words[j+1]:\n",
    "                words[j], words[j+1] = words[j+1], words[j]\n",
    "    return ' '.join(words)\n",
    "\n",
    "sentence = \"программирование на питоне это интересно\"\n",
    "sorted_sentence = bubble_sort_words(sentence)\n",
    "print(\"Отсортированные Cлова в предложении:\", sorted_sentence)"
   ]
  },
  {
   "cell_type": "code",
   "execution_count": 6,
   "metadata": {},
   "outputs": [
    {
     "name": "stdout",
     "output_type": "stream",
     "text": [
      "Отсортированные слова: Алексей Владимирович Косач\n"
     ]
    }
   ],
   "source": [
    "def bubble_sort_word(sentence):\n",
    "    words = sentence.split()\n",
    "    n = len(words)\n",
    "    for i in range(n):\n",
    "        for j in range(0, n-1-i):\n",
    "            if words[j] > words[j+1]:\n",
    "                words[j], words[j+1] = words[j+1], words[j]\n",
    "    return ' '.join(words)\n",
    "sentence = \"Косач Алексей Владимирович\"\n",
    "sort_sentence = bubble_sort_word(sentence)\n",
    "print(f\"Отсортированные слова: {sort_sentence}\")\n",
    "\n"
   ]
  },
  {
   "cell_type": "code",
   "execution_count": 15,
   "metadata": {},
   "outputs": [
    {
     "name": "stdout",
     "output_type": "stream",
     "text": [
      "Отсортированные слова: дела дядя ка как петя скажи твои\n"
     ]
    }
   ],
   "source": [
    "def bubble_sort_words(sentence):\n",
    "    sentence = sentence.lower()\n",
    "    words = sentence.split()\n",
    "    \n",
    "\n",
    "    n = len(words)\n",
    "    for i in range(n):\n",
    "        for j in range(0, n-1-i):\n",
    "            if words[j] > words[j+1]:\n",
    "                words[j], words[j+1] = words[j+1], words[j]\n",
    "    return ' ' .join(words)\n",
    "sentence = \"Скажи ка дядя петя как твои Дела\"\n",
    "sorted_words = bubble_sort_words(sentence)\n",
    "print(f\"Отсортированные слова: {sorted_words}\")"
   ]
  }
 ],
 "metadata": {
  "kernelspec": {
   "display_name": "Python 3",
   "language": "python",
   "name": "python3"
  },
  "language_info": {
   "codemirror_mode": {
    "name": "ipython",
    "version": 3
   },
   "file_extension": ".py",
   "mimetype": "text/x-python",
   "name": "python",
   "nbconvert_exporter": "python",
   "pygments_lexer": "ipython3",
   "version": "3.12.4"
  }
 },
 "nbformat": 4,
 "nbformat_minor": 2
}
