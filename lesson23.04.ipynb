{
 "cells": [
  {
   "cell_type": "markdown",
   "metadata": {},
   "source": [
    "*Редактор кода Курсор"
   ]
  },
  {
   "cell_type": "code",
   "execution_count": 1,
   "metadata": {},
   "outputs": [],
   "source": [
    "#паттерн MVS Модель (Model)\n",
    "class User:\n",
    "    def __init__(self, id, name, email):\n",
    "        self.id =id\n",
    "        self.name = name\n",
    "        self.email = email\n",
    "\n",
    "class UserModel:\n",
    "    def  __init__(self, database):\n",
    "        self.database = database\n",
    "\n",
    "    def get_user_by_id(self, user_id):\n",
    "        data =self.database.get(user_id)\n",
    "        if data:\n",
    "            return User(data['id'], data['name'], data['email'])\n",
    "        return None\n",
    "\n",
    "    def update_user_email(self, user_id, new_email):\n",
    "        print(f\"Updating email for user {user_id} to {new_email} in database\")\n",
    "        return True\n",
    "\n",
    "# Представление (View)\n",
    "class UserView:\n",
    "    def display_user(self, user):\n",
    "        if user:\n",
    "            print(f\"User ID: {user.id}\")\n",
    "            print(f\"User N {user.name}\")\n",
    "            print(f\"User Emai{user.email}\")\n",
    "\n",
    "        else:\n",
    "            print(\"User not found\")\n",
    "\n",
    "    def display_message(self, message):\n",
    "        print(message)\n",
    "\n",
    "#Контроллер (Controller)\n",
    "\n",
    "class UserController:\n",
    "    def __init__(self, model, view):\n",
    "        self.model = model\n",
    "        self.view = view\n",
    "\n",
    "    def det_user(self, user_id,):\n",
    "        user = self.model.get_user_by_id(user_id)\n",
    "        self.view.display_user(user)\n",
    "\n",
    "    def update_email(self, user_id, new_email):\n",
    "        if self.model.update_user_email(user_id, new_email):\n",
    "            self.view_display_message(\"Email update succesfully\")\n",
    "\n",
    "        else: \n",
    "            self.view_display_message(\"Email updat\")\n",
    "\n",
    "class FakeDatabase:\n",
    "    def __init__(self):\n",
    "        self.data = {\n",
    "            1: {'id' : 1, 'name': 'Oleg', 'email': 'superoleg@mail.ru'},\n",
    "            2: {'id' : 2,'name': 'D', 'email': 'superdg@mail.ru'},\n",
    "        }\n",
    "\n",
    "    def get(self, user_id):\n",
    "        return self.data.get(user_id)\n",
    "\n",
    "database = FakeDatabase()\n",
    "model = UserModel(database)\n",
    "view = UserView()\n",
    "\n",
    "        "
   ]
  },
  {
   "cell_type": "markdown",
   "metadata": {},
   "source": [
    "SOLID — это аббревиатура, которая обозначает пять основных принципов проектирования в объектно-ориентированном программировании. Они применимы и к разработке на языке Python."
   ]
  },
  {
   "cell_type": "markdown",
   "metadata": {},
   "source": [
    "Принципы SOLID:\n",
    "\n",
    "S — принцип единой ответственности (Single responsibility Principle). Каждый класс, метод и функция должны выполнять только одну задачу или иметь только одну причину для изменения. 1\n",
    "O — принцип открытости/закрытости (Open-closed Principle). Любой класс, метод и функция должны быть открыты для расширения, но закрыты для модификации. 1\n",
    "L — принцип подстановки Барбары Лисков (Liskov Substitution Principle). Объекты базового класса должны заменяться объектами его подклассов без нарушения поведения программы. 14\n",
    "I — принцип разделения интерфейса (Interface Segregation Principle). Интерфейс должен быть как можно более лаконичным с точки зрения связности. 1\n",
    "D — принцип инверсии зависимостей (Dependency Inversion Principle). Зависимости внутри системы должны строиться на основе абстракций, а не деталей. 13\n",
    "Цель использования принципов SOLID — упростить разработку, сделать её более гибкой и устойчивой к ошибкам. "
   ]
  },
  {
   "cell_type": "code",
   "execution_count": 2,
   "metadata": {},
   "outputs": [
    {
     "ename": "SyntaxError",
     "evalue": "invalid syntax (866939087.py, line 5)",
     "output_type": "error",
     "traceback": [
      "\u001b[1;36m  Cell \u001b[1;32mIn[2], line 5\u001b[1;36m\u001b[0m\n\u001b[1;33m    def\u001b[0m\n\u001b[1;37m        ^\u001b[0m\n\u001b[1;31mSyntaxError\u001b[0m\u001b[1;31m:\u001b[0m invalid syntax\n"
     ]
    }
   ],
   "source": [
    "#Single Responsibility Principle violation\n",
    "class OrderProcessor:\n",
    "    def __init__(self, order_data):\n",
    "        self.order_data = order_data\n",
    "\n",
    "    def validate_order(self):\n",
    "        pass\n",
    "\n",
    "    def calculate(self):\n",
    "        pass\n",
    "\n",
    "    def send_order(self):\n",
    "        pass\n",
    "\n",
    "\n",
    "#Open-closed Principle\n",
    "class DiscountCalculator():\n",
    "    def calculate_discount(self, order, disount_type):\n",
    "        if disount_type == \"fixed\":\n",
    "            return order.total - 10\n",
    "        elif disount_type == \"percentage\":\n",
    "            return order.total * 0.8 \n",
    "    \n",
    "\n",
    "\n",
    "    \n",
    "\n"
   ]
  },
  {
   "cell_type": "markdown",
   "metadata": {},
   "source": [
    "Flutter — комплект средств разработки и фреймворк с открытым исходным кодом для создания мобильных приложений под Android и iOS, веб-приложений, а также настольных приложений под Windows, macOS и Linux. Разработан и развиваем корпорацией Google.  1\n"
   ]
  },
  {
   "cell_type": "code",
   "execution_count": null,
   "metadata": {},
   "outputs": [],
   "source": [
    "from abc import ABC, abstractmethod\n",
    "\n",
    "class DiscountStrategy(ABC):\n",
    "    @abstractmethod\n",
    "    def calculate_discount(self, order):\n",
    "        pass\n",
    "\n",
    "class FixDiscount(DiscountStrategy):\n",
    "    def __init__(self, discount_size):\n",
    "        self.discount_size"
   ]
  }
 ],
 "metadata": {
  "kernelspec": {
   "display_name": "Python 3",
   "language": "python",
   "name": "python3"
  },
  "language_info": {
   "codemirror_mode": {
    "name": "ipython",
    "version": 3
   },
   "file_extension": ".py",
   "mimetype": "text/x-python",
   "name": "python",
   "nbconvert_exporter": "python",
   "pygments_lexer": "ipython3",
   "version": "3.11.9"
  }
 },
 "nbformat": 4,
 "nbformat_minor": 2
}
