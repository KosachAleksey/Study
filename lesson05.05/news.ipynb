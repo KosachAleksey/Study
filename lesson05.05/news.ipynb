{
 "cells": [
  {
   "cell_type": "code",
   "execution_count": 2,
   "metadata": {},
   "outputs": [
    {
     "name": "stdout",
     "output_type": "stream",
     "text": [
      "Заголовок не найден.\n"
     ]
    }
   ],
   "source": [
    "from bs4 import BeautifulSoup\n",
    "import requests\n",
    "\n",
    "url = \"https://sochi1.ru/text/world/2025/05/05/75423095/?ysclid=mabdt4xii5310162036\"\n",
    "\n",
    "page = requests.get(url)\n",
    "\n",
    "filterNews = []\n",
    "allNews = []\n",
    "\n",
    "# Использование правильного парсера (\"html.parser\")\n",
    "soup = BeautifulSoup(page.text, \"html.parser\")\n",
    "\n",
    "# Поиск первого элемента h2 на странице\n",
    "title_tag = soup.find(\"h2\")\n",
    "\n",
    "# Если тег h2 существует, печатаем его текст\n",
    "if title_tag:\n",
    "    print(title_tag.text)\n",
    "else:\n",
    "    print(\"Заголовок не найден.\")"
   ]
  }
 ],
 "metadata": {
  "kernelspec": {
   "display_name": "Python 3",
   "language": "python",
   "name": "python3"
  },
  "language_info": {
   "codemirror_mode": {
    "name": "ipython",
    "version": 3
   },
   "file_extension": ".py",
   "mimetype": "text/x-python",
   "name": "python",
   "nbconvert_exporter": "python",
   "pygments_lexer": "ipython3",
   "version": "3.11.9"
  }
 },
 "nbformat": 4,
 "nbformat_minor": 2
}
