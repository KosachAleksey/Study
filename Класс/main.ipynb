{
 "cells": [
  {
   "cell_type": "markdown",
   "metadata": {},
   "source": [
    "Работа с файлами"
   ]
  },
  {
   "cell_type": "code",
   "execution_count": 2,
   "metadata": {},
   "outputs": [],
   "source": [
    "with open(\"academy.txt\", \"a\") as myfile:\n",
    "    print(\"Файл записан\", file=myfile)"
   ]
  },
  {
   "cell_type": "code",
   "execution_count": 5,
   "metadata": {},
   "outputs": [
    {
     "name": "stdout",
     "output_type": "stream",
     "text": [
      "Mercedes-Banz E220\n",
      " BMW 5\n",
      " BMW 5 \n",
      " BMW 6 \n",
      " BMW 7\n",
      " Хонда\n",
      " БМВ\n",
      " Ява"
     ]
    }
   ],
   "source": [
    "with open(\"myCarShop.txt\", \"r\") as file:\n",
    "    for line in file:\n",
    "        print(line, end = \"\")"
   ]
  },
  {
   "cell_type": "code",
   "execution_count": 6,
   "metadata": {},
   "outputs": [
    {
     "name": "stdout",
     "output_type": "stream",
     "text": [
      "Mercedes-Banz E220\n",
      " BMW 5\n"
     ]
    }
   ],
   "source": [
    "with open(\"myCarShop.txt\", \"r\") as file:\n",
    "    str1 = file.readline()\n",
    "    print(str1, end = \"\")\n",
    "    str2 = file.readline()\n",
    "    print(str2, end = \"\")\n"
   ]
  },
  {
   "cell_type": "code",
   "execution_count": 7,
   "metadata": {},
   "outputs": [
    {
     "name": "stdout",
     "output_type": "stream",
     "text": [
      "Mercedes-Banz E220\n",
      " BMW 5\n",
      " BMW 5 \n",
      " BMW 6 \n",
      " BMW 7\n",
      " Хонда\n",
      " БМВ\n",
      " Ява"
     ]
    }
   ],
   "source": [
    "with open(\"myCarShop.txt\", \"r\") as file:\n",
    "    line = file.readline()\n",
    "    while line:\n",
    "        print(line, end = \"\")\n",
    "        line = file.readline()"
   ]
  },
  {
   "cell_type": "code",
   "execution_count": 8,
   "metadata": {},
   "outputs": [
    {
     "name": "stdout",
     "output_type": "stream",
     "text": [
      "Mercedes-Banz E220\n",
      " BMW 5\n",
      " BMW 5 \n",
      " BMW 6 \n",
      " BMW 7\n",
      " Хонда\n",
      " БМВ\n",
      " Ява\n"
     ]
    }
   ],
   "source": [
    "with open(\"myCarShop.txt\", \"r\") as file:\n",
    "    content = file.read()\n",
    "    print(content)"
   ]
  },
  {
   "cell_type": "code",
   "execution_count": 13,
   "metadata": {},
   "outputs": [
    {
     "name": "stdout",
     "output_type": "stream",
     "text": [
      "Mercedes-Banz E220\n",
      " BMW 5\n"
     ]
    }
   ],
   "source": [
    "with open(\"myCarShop.txt\", \"r\") as file:\n",
    "    content = file.readlines()\n",
    "    str1 = content[0]\n",
    "    str2 = content[1]\n",
    "    print(str1, end = \"\")\n",
    "    print(str2, end = \"\")"
   ]
  },
  {
   "cell_type": "markdown",
   "metadata": {},
   "source": [
    "Метод seek файл перезаписывается, а не дописывается/ file.seek(0) - переход по символам (начинается с выбранного символа (цифра в скобка))"
   ]
  },
  {
   "cell_type": "code",
   "execution_count": 17,
   "metadata": {},
   "outputs": [
    {
     "name": "stdout",
     "output_type": "stream",
     "text": [
      "Hello World. Yes!\n"
     ]
    }
   ],
   "source": [
    "with open(\"hello.txt\", \"w+\") as file:\n",
    "    file.write(\"Hello World. Yes!\")\n",
    "    file.seek(0)\n",
    "    content = file.read()\n",
    "    print(content)\n",
    "    "
   ]
  },
  {
   "cell_type": "code",
   "execution_count": 19,
   "metadata": {},
   "outputs": [
    {
     "name": "stdout",
     "output_type": "stream",
     "text": [
      "1\n",
      "\n",
      "Пока :3\n"
     ]
    }
   ],
   "source": [
    "filename = \"messages.txt\"\n",
    "def write():\n",
    "    messages = input(\"введите строку\")\n",
    "    with open(filename, \"a\") as file:\n",
    "        file.write (messages + \"\\n\")\n",
    "\n",
    "def read():\n",
    "    with open(filename, \"r\") as file:\n",
    "        for messages in file:\n",
    "            print(messages, end =\"\")\n",
    "    print()\n",
    "\n",
    "while(True):\n",
    "    selection = int(input(\"1. Запись в файл \\n. 2. Четение файла\\n. 3 Выход \\nВыверете действие.\"))\n",
    "    match selection:\n",
    "        case 1: write()\n",
    "        case 2: read()\n",
    "        case 3: break\n",
    "        case _: print(\"Некорректный ввод\")\n",
    "print(\"Пока :3\")\n",
    "\n",
    "\n",
    "       \n"
   ]
  },
  {
   "cell_type": "markdown",
   "metadata": {},
   "source": [
    "Двухмерный список"
   ]
  },
  {
   "cell_type": "code",
   "execution_count": 29,
   "metadata": {},
   "outputs": [],
   "source": [
    "import csv\n",
    "\n",
    "FILENAME = \"users.csv\"\n",
    "\n",
    "users = [\n",
    "    [\"Tom\", 28],\n",
    "    [\"Alice\", 23],\n",
    "    [\"Bob\", 34]\n",
    "]\n",
    "\n",
    "with open(FILENAME, \"w\", newline =\"\") as file:\n",
    "\n",
    "    writer = csv.writer(file)\n",
    "    writer.writerows(users)\n",
    "\n",
    "with open(FILENAME, \"a\", newline =\"\") as file:\n",
    "    user = [\"Sam\", 31]\n",
    "    writer = csv.writer(file)\n",
    "    writer.writerow(user)\n",
    "\n",
    "with open(FILENAME, \"a\", newline =\"\") as file:\n",
    "    user = [\"Nike\", 31]\n",
    "    writer = csv.writer(file)\n",
    "    writer.writerow(user)"
   ]
  },
  {
   "cell_type": "code",
   "execution_count": 41,
   "metadata": {},
   "outputs": [],
   "source": [
    "import csv\n",
    "\n",
    "FILENAME = \"weathers.csv\"\n",
    "\n",
    "weathers = [\n",
    "    [\"MSK\", -10],\n",
    "    [\"Tomsk\", -25],\n",
    "    [\"Sochi\", +10],\n",
    "    [\"Orel\", -12],\n",
    "    [\"Omsk\", -35],\n",
    "    [\"Chita\", -30],\n",
    "    [\"MSK\", -10],\n",
    "    [\"Tomsk\", -25],\n",
    "    [\"Sochi\", +10],\n",
    "    [\"Orel\", -12],\n",
    "    [\"Omsk\", -35],\n",
    "    [\"Chita\", -40],\n",
    "]\n",
    "\n",
    "\n",
    "with open(FILENAME, \"w\", newline =\"\") as file:\n",
    "\n",
    "    writer = csv.writer(file)\n",
    "    writer.writerows(weathers)\n",
    "\n",
    "\n",
    "with open(FILENAME, \"a\", newline =\"\") as file:\n",
    "    weather = [\"Pskov\", -8]\n",
    "    writer = csv.writer(file)\n",
    "    writer.writerow(weather)\n",
    "\n"
   ]
  },
  {
   "cell_type": "code",
   "execution_count": 42,
   "metadata": {},
   "outputs": [],
   "source": [
    "import csv\n",
    "\n",
    "FILENAME = \"weathers.csv\"\n",
    "\n",
    "weathers = [\n",
    "    [\"MSK\", -10],\n",
    "    [\"Tomsk\", -25],\n",
    "    [\"Sochi\", +10],\n",
    "    [\"Orel\", -12],\n",
    "    [\"Omsk\", -35],\n",
    "    [\"Chita\", -30],\n",
    "    [\"MSK\", -10],\n",
    "    [\"Tomsk\", -25],\n",
    "    [\"Sochi\", +10],\n",
    "    [\"Orel\", -12],\n",
    "    [\"Omsk\", -35],\n",
    "    [\"Chita\", -40],\n",
    "]\n",
    "\n",
    "\n",
    "with open(FILENAME, \"w\", newline =\"\") as file:\n",
    "\n",
    "    writer = csv.writer(file)\n",
    "    writer.writerows(weathers)\n",
    "\n",
    "\n",
    "with open(FILENAME, \"a\", newline =\"\") as file:\n",
    "    weather = [\"Pskov\", -8]\n",
    "    writer = csv.writer(file)\n",
    "    writer.writerow(weather)\n",
    "\n",
    "with open(FILENAME, \"a\", newline =\"\") as file:\n",
    "    weather = [\"Lvov\", -8]\n",
    "    writer = csv.writer(file)\n",
    "    writer.writerow(weather)"
   ]
  },
  {
   "cell_type": "markdown",
   "metadata": {},
   "source": [
    "Императи́вное программи́рование"
   ]
  },
  {
   "cell_type": "code",
   "execution_count": null,
   "metadata": {},
   "outputs": [],
   "source": [
    "#иниц. переменную \n",
    "total = 0\n",
    "n = 10\n",
    "#последовательно выполняем шаги\n",
    "for i in range(1, n + 1):\n",
    "    total +=i\n",
    "    print(f\"Сумма наших чисел от 1 до {n} равна {total}\")\n",
    "\n",
    "print(f\"Сумма наших чисел от 1 до {n} равна {total}\")"
   ]
  },
  {
   "cell_type": "markdown",
   "metadata": {},
   "source": [
    "Процедурное программирование"
   ]
  },
  {
   "cell_type": "code",
   "execution_count": 9,
   "metadata": {},
   "outputs": [
    {
     "name": "stdout",
     "output_type": "stream",
     "text": [
      "Сумма чисел от 1 до 10 равна 55\n"
     ]
    }
   ],
   "source": [
    "def calculate_sum(n):\n",
    "    total = 0\n",
    "   \n",
    "    for i in range(1, n+1):\n",
    "        total +=i \n",
    "    return total\n",
    "\n",
    "def display_result(n, result):\n",
    "    print(f\"Сумма чисел от 1 до {n} равна\", result)\n",
    "\n",
    "n = 10\n",
    "result = calculate_sum(n)\n",
    "display_result(n, result)\n"
   ]
  },
  {
   "cell_type": "markdown",
   "metadata": {},
   "source": [
    "Функциональное программирование "
   ]
  },
  {
   "cell_type": "code",
   "execution_count": 10,
   "metadata": {},
   "outputs": [
    {
     "name": "stdout",
     "output_type": "stream",
     "text": [
      "Результат сложения: 7\n"
     ]
    }
   ],
   "source": [
    "\n",
    "def add(x, y):\n",
    "    return x + y\n",
    "\n",
    "result = add (3, 4) #пример использования чистойт функции\n",
    "print(f\"Результат сложения: {result}\")"
   ]
  },
  {
   "cell_type": "markdown",
   "metadata": {},
   "source": [
    "Лямбда-функция — это безымянная функция, у которой есть ключевое слово lambda. Оно показывает, что дальше пойдёт безымянная функция"
   ]
  },
  {
   "cell_type": "code",
   "execution_count": 11,
   "metadata": {},
   "outputs": [
    {
     "name": "stdout",
     "output_type": "stream",
     "text": [
      "Результат умножения: 30\n"
     ]
    }
   ],
   "source": [
    "multiply = lambda a, b: a * b\n",
    "\n",
    "result = multiply(5, 6)\n",
    "print(f\"Результат умножения: {result}\")"
   ]
  },
  {
   "cell_type": "markdown",
   "metadata": {},
   "source": [
    "Функции высшего порядка. "
   ]
  },
  {
   "cell_type": "code",
   "execution_count": 15,
   "metadata": {},
   "outputs": [
    {
     "name": "stdout",
     "output_type": "stream",
     "text": [
      "Квадраты чисел: [1, 4, 9, 16, 25]\n",
      "Четные числа: [2, 4]\n"
     ]
    }
   ],
   "source": [
    "numbers = [1, 2, 3, 4, 5]\n",
    "\n",
    "#для возведения каждого числа в квадрат\n",
    "\n",
    "squared = list(map(lambda x: x ** 2, numbers))\n",
    "print(f\"Квадраты чисел: {squared}\")\n",
    "\n",
    "even_numbers = list(filter(lambda x: x % 2 == 0, numbers))\n",
    "print(f\"Четные числа: {even_numbers}\")\n"
   ]
  },
  {
   "cell_type": "markdown",
   "metadata": {},
   "source": [
    "Функция reduce. Сводит список к единствееному значению последовательно применяя функцию "
   ]
  },
  {
   "cell_type": "code",
   "execution_count": 18,
   "metadata": {},
   "outputs": [
    {
     "name": "stdout",
     "output_type": "stream",
     "text": [
      "Сумма чисел массива: 15\n",
      "Произведение чисел массива: 120\n"
     ]
    }
   ],
   "source": [
    "from functools import reduce\n",
    "\n",
    "numbers = [1, 2, 3, 4, 5]\n",
    "\n",
    "sum_result = reduce(lambda acc, x: acc + x, numbers)\n",
    "print(f\"Сумма чисел массива: {sum_result}\")\n",
    "\n",
    "mult_result = reduce(lambda acc, x: acc * x, numbers)\n",
    "print(f\"Произведение чисел массива: {mult_result}\")"
   ]
  },
  {
   "cell_type": "markdown",
   "metadata": {},
   "source": [
    "Определяем функцию которая принимает другую функцию в качестве аргумента"
   ]
  },
  {
   "cell_type": "code",
   "execution_count": 20,
   "metadata": {},
   "outputs": [
    {
     "name": "stdout",
     "output_type": "stream",
     "text": [
      "Результат применения фунции: 15\n",
      "Результат применения фунции: 21\n"
     ]
    }
   ],
   "source": [
    "#Определяем функцию которая принимает другую функцию в качестве аргумента\n",
    "def apply_function(func, value):\n",
    "    return func(value)\n",
    "\n",
    "\n",
    "def add_ten(x):\n",
    "    return x + 10\n",
    "\n",
    "result = apply_function(add_ten, 5)\n",
    "print(f\"Результат применения фунции: {result}\")\n",
    "\n",
    "result_lambda = apply_function(lambda x: x * 3, 7)\n",
    "print(f\"Результат применения фунции: {result_lambda}\")\n"
   ]
  },
  {
   "cell_type": "markdown",
   "metadata": {},
   "source": [
    "Декларативное программирование \n",
    "Основные этапы последовательности декларативного программирования:\n",
    "Определение цели:\n",
    "Сначала необходимо четко определить цель программы. Что именно вы хотите достичь? Например, вам может понадобиться вывести список студентов, отсортированный по успеваемости.\n",
    "Описание данных:\n",
    "Опишите данные, с которыми будете работать. В нашем примере это могут быть записи о студентах, содержащие имя, возраст и оценки.\n",
    "Формулировка условий:\n",
    "Определите условия, которым должны удовлетворять данные. Например, студенты должны быть старше определенного возраста или иметь средний балл выше заданного порога.\n",
    "Выбор метода обработки:\n",
    "Выберите метод обработки данных, соответствующий вашим условиям. В декларативном подходе обычно используются высокоуровневые конструкции языка, такие как фильтры, сортировки, преобразования и т.п.\n",
    "Запуск программы:\n",
    "Запустите программу, предоставив необходимые входные данные. Программа выполнит обработку согласно указанным условиям и методам.\n",
    "Анализ результатов:\n",
    "Проверьте результаты работы программы. Убедитесь, что они соответствуют ожидаемым результатам и удовлетворяют поставленным целям.\n",
    "Оптимизация (при необходимости):\n",
    "Если результаты неудовлетворительны или производительность программы оставляет желать лучшего, проведите оптимизацию. Возможно, потребуется изменить методы обработки данных или пересмотреть условия фильтрации.\n"
   ]
  },
  {
   "cell_type": "code",
   "execution_count": 23,
   "metadata": {},
   "outputs": [
    {
     "name": "stdout",
     "output_type": "stream",
     "text": [
      "Квадраты четных чисел: [4, 16]\n"
     ]
    }
   ],
   "source": [
    "numbers = [1, 2, 3, 4, 5]\n",
    "\n",
    "#декларативно создаеи новый список, для каждого числа х из списка намберс если ч четное число то мы возводим его в квадрат\n",
    "squared_evens = [x **2 for x in numbers if x % 2 == 0]\n",
    "\n",
    "print(f\"Квадраты четных чисел: {squared_evens}\")"
   ]
  },
  {
   "cell_type": "markdown",
   "metadata": {},
   "source": [
    "Создаем генератор которыфй будет выдаватьквадраты чисел для чисел от 1 до 10 если число делится на 3 без остатка"
   ]
  },
  {
   "cell_type": "code",
   "execution_count": 25,
   "metadata": {},
   "outputs": [
    {
     "name": "stdout",
     "output_type": "stream",
     "text": [
      "Квадрат числаб кратного 3: 9\n",
      "Квадрат числаб кратного 3: 36\n",
      "Квадрат числаб кратного 3: 81\n"
     ]
    }
   ],
   "source": [
    "squared_by_three = (x ** 2 for x in range(1, 11) if x % 3 == 0)\n",
    "\n",
    "for value in squared_by_three:\n",
    "    print(f\"Квадрат числаб кратного 3: {value}\")\n",
    "\n"
   ]
  },
  {
   "cell_type": "markdown",
   "metadata": {},
   "source": [
    "Словарями"
   ]
  },
  {
   "cell_type": "code",
   "execution_count": 27,
   "metadata": {},
   "outputs": [
    {
     "name": "stdout",
     "output_type": "stream",
     "text": [
      "Словарь с длинами слов ; {'apple': 5, 'banana': 6, 'cherry': 6}\n"
     ]
    }
   ],
   "source": [
    "words = [\"apple\", \"banana\", \"cherry\"]\n",
    "\n",
    "words_lehgths = {word: len(word) for word in words}\n",
    "\n",
    "print(f\"Словарь с длинами слов ; {words_lehgths}\")"
   ]
  },
  {
   "cell_type": "markdown",
   "metadata": {},
   "source": [
    "C библиотеками"
   ]
  },
  {
   "cell_type": "code",
   "execution_count": 29,
   "metadata": {},
   "outputs": [
    {
     "data": {
      "text/html": [
       "<div>\n",
       "<style scoped>\n",
       "    .dataframe tbody tr th:only-of-type {\n",
       "        vertical-align: middle;\n",
       "    }\n",
       "\n",
       "    .dataframe tbody tr th {\n",
       "        vertical-align: top;\n",
       "    }\n",
       "\n",
       "    .dataframe thead th {\n",
       "        text-align: right;\n",
       "    }\n",
       "</style>\n",
       "<table border=\"1\" class=\"dataframe\">\n",
       "  <thead>\n",
       "    <tr style=\"text-align: right;\">\n",
       "      <th></th>\n",
       "      <th>Name</th>\n",
       "      <th>Age</th>\n",
       "      <th>Salary</th>\n",
       "    </tr>\n",
       "  </thead>\n",
       "  <tbody>\n",
       "    <tr>\n",
       "      <th>1</th>\n",
       "      <td>Bob</td>\n",
       "      <td>30</td>\n",
       "      <td>60000</td>\n",
       "    </tr>\n",
       "    <tr>\n",
       "      <th>2</th>\n",
       "      <td>John</td>\n",
       "      <td>35</td>\n",
       "      <td>70000</td>\n",
       "    </tr>\n",
       "  </tbody>\n",
       "</table>\n",
       "</div>"
      ],
      "text/plain": [
       "   Name  Age  Salary\n",
       "1   Bob   30   60000\n",
       "2  John   35   70000"
      ]
     },
     "execution_count": 29,
     "metadata": {},
     "output_type": "execute_result"
    }
   ],
   "source": [
    "import pandas as pd\n",
    "#Создаем  из словаря где ключи - названия столбцов а значания - данные \n",
    "data = {\n",
    "    \"Name\": [\"Alice\", \"Bob\", \"John\"],\n",
    "    \"Age\": [25, 30, 35],\n",
    "    \"Salary\" : [50000, 60000, 70000]\n",
    "}\n",
    "\n",
    "df = pd.DataFrame(data)\n",
    "\n",
    "filtetred_df = df[df[\"Age\"] > 28]\n",
    "\n",
    "\n",
    "filtetred_df"
   ]
  }
 ],
 "metadata": {
  "kernelspec": {
   "display_name": "Python 3",
   "language": "python",
   "name": "python3"
  },
  "language_info": {
   "codemirror_mode": {
    "name": "ipython",
    "version": 3
   },
   "file_extension": ".py",
   "mimetype": "text/x-python",
   "name": "python",
   "nbconvert_exporter": "python",
   "pygments_lexer": "ipython3",
   "version": "3.11.9"
  }
 },
 "nbformat": 4,
 "nbformat_minor": 2
}
