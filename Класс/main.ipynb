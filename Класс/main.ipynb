{
 "cells": [
  {
   "cell_type": "markdown",
   "metadata": {},
   "source": [
    "Работа с файлами"
   ]
  },
  {
   "cell_type": "code",
   "execution_count": 2,
   "metadata": {},
   "outputs": [],
   "source": [
    "with open(\"academy.txt\", \"a\") as myfile:\n",
    "    print(\"Файл записан\", file=myfile)"
   ]
  },
  {
   "cell_type": "code",
   "execution_count": 5,
   "metadata": {},
   "outputs": [
    {
     "name": "stdout",
     "output_type": "stream",
     "text": [
      "Mercedes-Banz E220\n",
      " BMW 5\n",
      " BMW 5 \n",
      " BMW 6 \n",
      " BMW 7\n",
      " Хонда\n",
      " БМВ\n",
      " Ява"
     ]
    }
   ],
   "source": [
    "with open(\"myCarShop.txt\", \"r\") as file:\n",
    "    for line in file:\n",
    "        print(line, end = \"\")"
   ]
  },
  {
   "cell_type": "code",
   "execution_count": 6,
   "metadata": {},
   "outputs": [
    {
     "name": "stdout",
     "output_type": "stream",
     "text": [
      "Mercedes-Banz E220\n",
      " BMW 5\n"
     ]
    }
   ],
   "source": [
    "with open(\"myCarShop.txt\", \"r\") as file:\n",
    "    str1 = file.readline()\n",
    "    print(str1, end = \"\")\n",
    "    str2 = file.readline()\n",
    "    print(str2, end = \"\")\n"
   ]
  },
  {
   "cell_type": "code",
   "execution_count": 7,
   "metadata": {},
   "outputs": [
    {
     "name": "stdout",
     "output_type": "stream",
     "text": [
      "Mercedes-Banz E220\n",
      " BMW 5\n",
      " BMW 5 \n",
      " BMW 6 \n",
      " BMW 7\n",
      " Хонда\n",
      " БМВ\n",
      " Ява"
     ]
    }
   ],
   "source": [
    "with open(\"myCarShop.txt\", \"r\") as file:\n",
    "    line = file.readline()\n",
    "    while line:\n",
    "        print(line, end = \"\")\n",
    "        line = file.readline()"
   ]
  },
  {
   "cell_type": "code",
   "execution_count": 8,
   "metadata": {},
   "outputs": [
    {
     "name": "stdout",
     "output_type": "stream",
     "text": [
      "Mercedes-Banz E220\n",
      " BMW 5\n",
      " BMW 5 \n",
      " BMW 6 \n",
      " BMW 7\n",
      " Хонда\n",
      " БМВ\n",
      " Ява\n"
     ]
    }
   ],
   "source": [
    "with open(\"myCarShop.txt\", \"r\") as file:\n",
    "    content = file.read()\n",
    "    print(content)"
   ]
  },
  {
   "cell_type": "code",
   "execution_count": 13,
   "metadata": {},
   "outputs": [
    {
     "name": "stdout",
     "output_type": "stream",
     "text": [
      "Mercedes-Banz E220\n",
      " BMW 5\n"
     ]
    }
   ],
   "source": [
    "with open(\"myCarShop.txt\", \"r\") as file:\n",
    "    content = file.readlines()\n",
    "    str1 = content[0]\n",
    "    str2 = content[1]\n",
    "    print(str1, end = \"\")\n",
    "    print(str2, end = \"\")"
   ]
  },
  {
   "cell_type": "markdown",
   "metadata": {},
   "source": [
    "Метод seek файл перезаписывается, а не дописывается/ file.seek(0) - переход по символам (начинается с выбранного символа (цифра в скобка))"
   ]
  },
  {
   "cell_type": "code",
   "execution_count": 17,
   "metadata": {},
   "outputs": [
    {
     "name": "stdout",
     "output_type": "stream",
     "text": [
      "Hello World. Yes!\n"
     ]
    }
   ],
   "source": [
    "with open(\"hello.txt\", \"w+\") as file:\n",
    "    file.write(\"Hello World. Yes!\")\n",
    "    file.seek(0)\n",
    "    content = file.read()\n",
    "    print(content)\n",
    "    "
   ]
  },
  {
   "cell_type": "code",
   "execution_count": 19,
   "metadata": {},
   "outputs": [
    {
     "name": "stdout",
     "output_type": "stream",
     "text": [
      "1\n",
      "\n",
      "Пока :3\n"
     ]
    }
   ],
   "source": [
    "filename = \"messages.txt\"\n",
    "def write():\n",
    "    messages = input(\"введите строку\")\n",
    "    with open(filename, \"a\") as file:\n",
    "        file.write (messages + \"\\n\")\n",
    "\n",
    "def read():\n",
    "    with open(filename, \"r\") as file:\n",
    "        for messages in file:\n",
    "            print(messages, end =\"\")\n",
    "    print()\n",
    "\n",
    "while(True):\n",
    "    selection = int(input(\"1. Запись в файл \\n. 2. Четение файла\\n. 3 Выход \\nВыверете действие.\"))\n",
    "    match selection:\n",
    "        case 1: write()\n",
    "        case 2: read()\n",
    "        case 3: break\n",
    "        case _: print(\"Некорректный ввод\")\n",
    "print(\"Пока :3\")\n",
    "\n",
    "\n",
    "       \n"
   ]
  },
  {
   "cell_type": "markdown",
   "metadata": {},
   "source": [
    "Двухмерный список"
   ]
  },
  {
   "cell_type": "code",
   "execution_count": 29,
   "metadata": {},
   "outputs": [],
   "source": [
    "import csv\n",
    "\n",
    "FILENAME = \"users.csv\"\n",
    "\n",
    "users = [\n",
    "    [\"Tom\", 28],\n",
    "    [\"Alice\", 23],\n",
    "    [\"Bob\", 34]\n",
    "]\n",
    "\n",
    "with open(FILENAME, \"w\", newline =\"\") as file:\n",
    "\n",
    "    writer = csv.writer(file)\n",
    "    writer.writerows(users)\n",
    "\n",
    "with open(FILENAME, \"a\", newline =\"\") as file:\n",
    "    user = [\"Sam\", 31]\n",
    "    writer = csv.writer(file)\n",
    "    writer.writerow(user)\n",
    "\n",
    "with open(FILENAME, \"a\", newline =\"\") as file:\n",
    "    user = [\"Nike\", 31]\n",
    "    writer = csv.writer(file)\n",
    "    writer.writerow(user)"
   ]
  },
  {
   "cell_type": "code",
   "execution_count": 41,
   "metadata": {},
   "outputs": [],
   "source": [
    "import csv\n",
    "\n",
    "FILENAME = \"weathers.csv\"\n",
    "\n",
    "weathers = [\n",
    "    [\"MSK\", -10],\n",
    "    [\"Tomsk\", -25],\n",
    "    [\"Sochi\", +10],\n",
    "    [\"Orel\", -12],\n",
    "    [\"Omsk\", -35],\n",
    "    [\"Chita\", -30],\n",
    "    [\"MSK\", -10],\n",
    "    [\"Tomsk\", -25],\n",
    "    [\"Sochi\", +10],\n",
    "    [\"Orel\", -12],\n",
    "    [\"Omsk\", -35],\n",
    "    [\"Chita\", -40],\n",
    "]\n",
    "\n",
    "\n",
    "with open(FILENAME, \"w\", newline =\"\") as file:\n",
    "\n",
    "    writer = csv.writer(file)\n",
    "    writer.writerows(weathers)\n",
    "\n",
    "\n",
    "with open(FILENAME, \"a\", newline =\"\") as file:\n",
    "    weather = [\"Pskov\", -8]\n",
    "    writer = csv.writer(file)\n",
    "    writer.writerow(weather)\n",
    "\n"
   ]
  },
  {
   "cell_type": "code",
   "execution_count": 42,
   "metadata": {},
   "outputs": [],
   "source": [
    "import csv\n",
    "\n",
    "FILENAME = \"weathers.csv\"\n",
    "\n",
    "weathers = [\n",
    "    [\"MSK\", -10],\n",
    "    [\"Tomsk\", -25],\n",
    "    [\"Sochi\", +10],\n",
    "    [\"Orel\", -12],\n",
    "    [\"Omsk\", -35],\n",
    "    [\"Chita\", -30],\n",
    "    [\"MSK\", -10],\n",
    "    [\"Tomsk\", -25],\n",
    "    [\"Sochi\", +10],\n",
    "    [\"Orel\", -12],\n",
    "    [\"Omsk\", -35],\n",
    "    [\"Chita\", -40],\n",
    "]\n",
    "\n",
    "\n",
    "with open(FILENAME, \"w\", newline =\"\") as file:\n",
    "\n",
    "    writer = csv.writer(file)\n",
    "    writer.writerows(weathers)\n",
    "\n",
    "\n",
    "with open(FILENAME, \"a\", newline =\"\") as file:\n",
    "    weather = [\"Pskov\", -8]\n",
    "    writer = csv.writer(file)\n",
    "    writer.writerow(weather)\n",
    "\n",
    "with open(FILENAME, \"a\", newline =\"\") as file:\n",
    "    weather = [\"Lvov\", -8]\n",
    "    writer = csv.writer(file)\n",
    "    writer.writerow(weather)"
   ]
  },
  {
   "cell_type": "markdown",
   "metadata": {},
   "source": [
    "Императи́вное программи́рование"
   ]
  },
  {
   "cell_type": "code",
   "execution_count": null,
   "metadata": {},
   "outputs": [],
   "source": [
    "#иниц. переменную \n",
    "total = 0\n",
    "n = 10\n",
    "#последовательно выполняем шаги\n",
    "for i in range(1, n + 1):\n",
    "    total +=i\n",
    "    print(f\"Сумма наших чисел от 1 до {n} равна {total}\")\n",
    "\n",
    "print(f\"Сумма наших чисел от 1 до {n} равна {total}\")"
   ]
  },
  {
   "cell_type": "markdown",
   "metadata": {},
   "source": [
    "Процедурное программирование"
   ]
  },
  {
   "cell_type": "code",
   "execution_count": 9,
   "metadata": {},
   "outputs": [
    {
     "name": "stdout",
     "output_type": "stream",
     "text": [
      "Сумма чисел от 1 до 10 равна 55\n"
     ]
    }
   ],
   "source": [
    "def calculate_sum(n):\n",
    "    total = 0\n",
    "   \n",
    "    for i in range(1, n+1):\n",
    "        total +=i \n",
    "    return total\n",
    "\n",
    "def display_result(n, result):\n",
    "    print(f\"Сумма чисел от 1 до {n} равна\", result)\n",
    "\n",
    "n = 10\n",
    "result = calculate_sum(n)\n",
    "display_result(n, result)\n"
   ]
  },
  {
   "cell_type": "markdown",
   "metadata": {},
   "source": [
    "Функциональное программирование "
   ]
  },
  {
   "cell_type": "code",
   "execution_count": 10,
   "metadata": {},
   "outputs": [
    {
     "name": "stdout",
     "output_type": "stream",
     "text": [
      "Результат сложения: 7\n"
     ]
    }
   ],
   "source": [
    "\n",
    "def add(x, y):\n",
    "    return x + y\n",
    "\n",
    "result = add (3, 4) #пример использования чистойт функции\n",
    "print(f\"Результат сложения: {result}\")"
   ]
  },
  {
   "cell_type": "markdown",
   "metadata": {},
   "source": [
    "Лямбда-функция — это безымянная функция, у которой есть ключевое слово lambda. Оно показывает, что дальше пойдёт безымянная функция"
   ]
  },
  {
   "cell_type": "code",
   "execution_count": 11,
   "metadata": {},
   "outputs": [
    {
     "name": "stdout",
     "output_type": "stream",
     "text": [
      "Результат умножения: 30\n"
     ]
    }
   ],
   "source": [
    "multiply = lambda a, b: a * b\n",
    "\n",
    "result = multiply(5, 6)\n",
    "print(f\"Результат умножения: {result}\")"
   ]
  },
  {
   "cell_type": "markdown",
   "metadata": {},
   "source": [
    "Функции высшего порядка. "
   ]
  },
  {
   "cell_type": "code",
   "execution_count": 15,
   "metadata": {},
   "outputs": [
    {
     "name": "stdout",
     "output_type": "stream",
     "text": [
      "Квадраты чисел: [1, 4, 9, 16, 25]\n",
      "Четные числа: [2, 4]\n"
     ]
    }
   ],
   "source": [
    "numbers = [1, 2, 3, 4, 5]\n",
    "\n",
    "#для возведения каждого числа в квадрат\n",
    "\n",
    "squared = list(map(lambda x: x ** 2, numbers))\n",
    "print(f\"Квадраты чисел: {squared}\")\n",
    "\n",
    "even_numbers = list(filter(lambda x: x % 2 == 0, numbers))\n",
    "print(f\"Четные числа: {even_numbers}\")\n"
   ]
  },
  {
   "cell_type": "markdown",
   "metadata": {},
   "source": [
    "Функция reduce. Сводит список к единствееному значению последовательно применяя функцию "
   ]
  },
  {
   "cell_type": "code",
   "execution_count": 18,
   "metadata": {},
   "outputs": [
    {
     "name": "stdout",
     "output_type": "stream",
     "text": [
      "Сумма чисел массива: 15\n",
      "Произведение чисел массива: 120\n"
     ]
    }
   ],
   "source": [
    "from functools import reduce\n",
    "\n",
    "numbers = [1, 2, 3, 4, 5]\n",
    "\n",
    "sum_result = reduce(lambda acc, x: acc + x, numbers)\n",
    "print(f\"Сумма чисел массива: {sum_result}\")\n",
    "\n",
    "mult_result = reduce(lambda acc, x: acc * x, numbers)\n",
    "print(f\"Произведение чисел массива: {mult_result}\")"
   ]
  },
  {
   "cell_type": "markdown",
   "metadata": {},
   "source": [
    "Определяем функцию которая принимает другую функцию в качестве аргумента"
   ]
  },
  {
   "cell_type": "code",
   "execution_count": 20,
   "metadata": {},
   "outputs": [
    {
     "name": "stdout",
     "output_type": "stream",
     "text": [
      "Результат применения фунции: 15\n",
      "Результат применения фунции: 21\n"
     ]
    }
   ],
   "source": [
    "#Определяем функцию которая принимает другую функцию в качестве аргумента\n",
    "def apply_function(func, value):\n",
    "    return func(value)\n",
    "\n",
    "\n",
    "def add_ten(x):\n",
    "    return x + 10\n",
    "\n",
    "result = apply_function(add_ten, 5)\n",
    "print(f\"Результат применения фунции: {result}\")\n",
    "\n",
    "result_lambda = apply_function(lambda x: x * 3, 7)\n",
    "print(f\"Результат применения фунции: {result_lambda}\")\n"
   ]
  },
  {
   "cell_type": "markdown",
   "metadata": {},
   "source": [
    "Декларативное программирование \n",
    "Основные этапы последовательности декларативного программирования:\n",
    "Определение цели:\n",
    "Сначала необходимо четко определить цель программы. Что именно вы хотите достичь? Например, вам может понадобиться вывести список студентов, отсортированный по успеваемости.\n",
    "Описание данных:\n",
    "Опишите данные, с которыми будете работать. В нашем примере это могут быть записи о студентах, содержащие имя, возраст и оценки.\n",
    "Формулировка условий:\n",
    "Определите условия, которым должны удовлетворять данные. Например, студенты должны быть старше определенного возраста или иметь средний балл выше заданного порога.\n",
    "Выбор метода обработки:\n",
    "Выберите метод обработки данных, соответствующий вашим условиям. В декларативном подходе обычно используются высокоуровневые конструкции языка, такие как фильтры, сортировки, преобразования и т.п.\n",
    "Запуск программы:\n",
    "Запустите программу, предоставив необходимые входные данные. Программа выполнит обработку согласно указанным условиям и методам.\n",
    "Анализ результатов:\n",
    "Проверьте результаты работы программы. Убедитесь, что они соответствуют ожидаемым результатам и удовлетворяют поставленным целям.\n",
    "Оптимизация (при необходимости):\n",
    "Если результаты неудовлетворительны или производительность программы оставляет желать лучшего, проведите оптимизацию. Возможно, потребуется изменить методы обработки данных или пересмотреть условия фильтрации.\n"
   ]
  },
  {
   "cell_type": "code",
   "execution_count": 23,
   "metadata": {},
   "outputs": [
    {
     "name": "stdout",
     "output_type": "stream",
     "text": [
      "Квадраты четных чисел: [4, 16]\n"
     ]
    }
   ],
   "source": [
    "numbers = [1, 2, 3, 4, 5]\n",
    "\n",
    "#декларативно создаеи новый список, для каждого числа х из списка намберс если ч четное число то мы возводим его в квадрат\n",
    "squared_evens = [x **2 for x in numbers if x % 2 == 0]\n",
    "\n",
    "print(f\"Квадраты четных чисел: {squared_evens}\")"
   ]
  },
  {
   "cell_type": "markdown",
   "metadata": {},
   "source": [
    "Создаем генератор которыфй будет выдаватьквадраты чисел для чисел от 1 до 10 если число делится на 3 без остатка"
   ]
  },
  {
   "cell_type": "code",
   "execution_count": 25,
   "metadata": {},
   "outputs": [
    {
     "name": "stdout",
     "output_type": "stream",
     "text": [
      "Квадрат числаб кратного 3: 9\n",
      "Квадрат числаб кратного 3: 36\n",
      "Квадрат числаб кратного 3: 81\n"
     ]
    }
   ],
   "source": [
    "squared_by_three = (x ** 2 for x in range(1, 11) if x % 3 == 0)\n",
    "\n",
    "for value in squared_by_three:\n",
    "    print(f\"Квадрат числаб кратного 3: {value}\")\n",
    "\n"
   ]
  },
  {
   "cell_type": "markdown",
   "metadata": {},
   "source": [
    "Словарями"
   ]
  },
  {
   "cell_type": "code",
   "execution_count": 27,
   "metadata": {},
   "outputs": [
    {
     "name": "stdout",
     "output_type": "stream",
     "text": [
      "Словарь с длинами слов ; {'apple': 5, 'banana': 6, 'cherry': 6}\n"
     ]
    }
   ],
   "source": [
    "words = [\"apple\", \"banana\", \"cherry\"]\n",
    "\n",
    "words_lehgths = {word: len(word) for word in words}\n",
    "\n",
    "print(f\"Словарь с длинами слов ; {words_lehgths}\")"
   ]
  },
  {
   "cell_type": "markdown",
   "metadata": {},
   "source": [
    "C библиотеками"
   ]
  },
  {
   "cell_type": "code",
   "execution_count": 29,
   "metadata": {},
   "outputs": [
    {
     "data": {
      "text/html": [
       "<div>\n",
       "<style scoped>\n",
       "    .dataframe tbody tr th:only-of-type {\n",
       "        vertical-align: middle;\n",
       "    }\n",
       "\n",
       "    .dataframe tbody tr th {\n",
       "        vertical-align: top;\n",
       "    }\n",
       "\n",
       "    .dataframe thead th {\n",
       "        text-align: right;\n",
       "    }\n",
       "</style>\n",
       "<table border=\"1\" class=\"dataframe\">\n",
       "  <thead>\n",
       "    <tr style=\"text-align: right;\">\n",
       "      <th></th>\n",
       "      <th>Name</th>\n",
       "      <th>Age</th>\n",
       "      <th>Salary</th>\n",
       "    </tr>\n",
       "  </thead>\n",
       "  <tbody>\n",
       "    <tr>\n",
       "      <th>1</th>\n",
       "      <td>Bob</td>\n",
       "      <td>30</td>\n",
       "      <td>60000</td>\n",
       "    </tr>\n",
       "    <tr>\n",
       "      <th>2</th>\n",
       "      <td>John</td>\n",
       "      <td>35</td>\n",
       "      <td>70000</td>\n",
       "    </tr>\n",
       "  </tbody>\n",
       "</table>\n",
       "</div>"
      ],
      "text/plain": [
       "   Name  Age  Salary\n",
       "1   Bob   30   60000\n",
       "2  John   35   70000"
      ]
     },
     "execution_count": 29,
     "metadata": {},
     "output_type": "execute_result"
    }
   ],
   "source": [
    "import pandas as pd\n",
    "#Создаем  из словаря где ключи - названия столбцов а значания - данные \n",
    "data = {\n",
    "    \"Name\": [\"Alice\", \"Bob\", \"John\"],\n",
    "    \"Age\": [25, 30, 35],\n",
    "    \"Salary\" : [50000, 60000, 70000]\n",
    "}\n",
    "\n",
    "df = pd.DataFrame(data)\n",
    "\n",
    "filtetred_df = df[df[\"Age\"] > 28]\n",
    "\n",
    "\n",
    "filtetred_df"
   ]
  },
  {
   "cell_type": "code",
   "execution_count": 1,
   "metadata": {},
   "outputs": [
    {
     "name": "stdout",
     "output_type": "stream",
     "text": [
      "исходный список: [12, 65, 78, 23, 1, 6]\n",
      "Отсортированный список: [1, 6, 12, 23, 65, 78]\n"
     ]
    }
   ],
   "source": [
    "def quick_sort(arr):\n",
    "    if len(arr) <= 1:\n",
    "        return arr\n",
    "    pivot = arr[len(arr) // 2]\n",
    "    left = [x for x in arr if x < pivot]\n",
    "    right = [x for x in arr if x > pivot]\n",
    "    middle = [x for x in arr if x == pivot]\n",
    "    return quick_sort(left) + middle + quick_sort(right)\n",
    "array = [12, 65, 78,23, 1, 6]\n",
    "print(f\"исходный список: {array}\")\n",
    "sort_array = quick_sort(array)\n",
    "print(f\"Отсортированный список: {sort_array}\")\n",
    "\n"
   ]
  },
  {
   "cell_type": "code",
   "execution_count": null,
   "metadata": {},
   "outputs": [],
   "source": [
    "def sum_even_numbers_imperative(numbers):\n",
    "    result = 0\n",
    "    for num in numbers:\n",
    "        if num % 2 == 0:\n",
    "            result += num\n",
    "    return result\n",
    "\n",
    "numbers = [1, 2, 3, 4, 5, 6, 7, 8, 9, 10]\n",
    "result = sum_even_numbers_imperative(numbers)\n",
    "print(result) "
   ]
  },
  {
   "cell_type": "code",
   "execution_count": null,
   "metadata": {},
   "outputs": [],
   "source": [
    "def is_even(num):\n",
    "    return num % 2 == 0\n",
    "\n",
    "def get_sum_of_evens(numbers):\n",
    "    evens = []\n",
    "    for num in numbers:\n",
    "        if is_even(num):\n",
    "            evens.append(num)\n",
    "    return sum(evens)\n",
    "\n",
    "numbers = [1, 2, 3, 4, 5, 6, 7, 8, 9, 10]\n",
    "result = get_sum_of_evens(numbers)\n",
    "print(result) "
   ]
  },
  {
   "cell_type": "code",
   "execution_count": 1,
   "metadata": {},
   "outputs": [
    {
     "name": "stdout",
     "output_type": "stream",
     "text": [
      "30\n"
     ]
    }
   ],
   "source": [
    "def sum_even_numbers_functional(numbers):\n",
    "    even_numbers = list(filter(lambda x: x % 2 == 0, numbers))\n",
    "    return sum(even_numbers)\n",
    "\n",
    "numbers = [1, 2, 3, 4, 5, 6, 7, 8, 9, 10]\n",
    "result = sum_even_numbers_functional(numbers)\n",
    "print(result) "
   ]
  },
  {
   "cell_type": "markdown",
   "metadata": {},
   "source": [
    "Классы"
   ]
  },
  {
   "cell_type": "code",
   "execution_count": null,
   "metadata": {},
   "outputs": [],
   "source": [
    "class Human:\n",
    "    pass \n",
    "\n",
    "myHuman = Human()"
   ]
  },
  {
   "cell_type": "code",
   "execution_count": 4,
   "metadata": {},
   "outputs": [
    {
     "name": "stdout",
     "output_type": "stream",
     "text": [
      "1\n",
      "[3, 2]\n",
      "2\n",
      "[3]\n",
      "3\n",
      "[]\n"
     ]
    }
   ],
   "source": [
    "stek = []\n",
    "\n",
    "def push(val):\n",
    "    stek.append(val)\n",
    "\n",
    "def pop():\n",
    "    val = stek[-1]\n",
    "    del stek[-1]\n",
    "    return val\n",
    "\n",
    "push(3)\n",
    "push(2)\n",
    "push(1)\n",
    "print(pop())\n",
    "print(stek)\n",
    "print(pop())\n",
    "print(stek)\n",
    "print(pop())\n",
    "print(stek)"
   ]
  },
  {
   "cell_type": "code",
   "execution_count": 11,
   "metadata": {},
   "outputs": [
    {
     "name": "stdout",
     "output_type": "stream",
     "text": [
      "Владимир\n",
      "20\n",
      "Дмитрий\n",
      "20\n"
     ]
    }
   ],
   "source": [
    "class Human:\n",
    "    name = \"\"\n",
    "    age = 20\n",
    "\n",
    "vladimir = Human()\n",
    "vladimir.name = \"Владимир\"\n",
    "print(vladimir.name)\n",
    "print(vladimir.age)\n",
    "\n",
    "dima = Human()\n",
    "dima.name = \"Дмитрий\"\n",
    "print(dima.name)\n",
    "print(dima.age)"
   ]
  },
  {
   "cell_type": "code",
   "execution_count": 12,
   "metadata": {},
   "outputs": [
    {
     "name": "stdout",
     "output_type": "stream",
     "text": [
      "Олег\n"
     ]
    }
   ],
   "source": [
    "class Human:\n",
    "    def __init__(self, name, age):\n",
    "        self.name = name\n",
    "        self.age = age\n",
    "\n",
    "Oleg = Human(\"Олег\", 12)\n",
    "print(Oleg.name)"
   ]
  },
  {
   "cell_type": "code",
   "execution_count": 18,
   "metadata": {},
   "outputs": [
    {
     "name": "stdout",
     "output_type": "stream",
     "text": [
      "Hi!\n"
     ]
    }
   ],
   "source": [
    "class Stack:\n",
    "    def __init__(self):\n",
    "        print(\"Hi!\")\n",
    "\n",
    "stackObject = Stack()"
   ]
  },
  {
   "cell_type": "code",
   "execution_count": 23,
   "metadata": {},
   "outputs": [
    {
     "name": "stdout",
     "output_type": "stream",
     "text": [
      "Привет меня зовут Kris мне 19\n"
     ]
    }
   ],
   "source": [
    "class Human:\n",
    "    def __init__(self, name, age):\n",
    "        self.name = name\n",
    "        self.age = age\n",
    "    def greet(self):\n",
    "            print(f\"Привет меня зовут {self.name} мне {self.age}\")\n",
    "\n",
    "concreteHumanObject = Human(\"Kris\", 19)\n",
    "concreteHumanObject.greet()"
   ]
  },
  {
   "cell_type": "code",
   "execution_count": 28,
   "metadata": {},
   "outputs": [
    {
     "name": "stdout",
     "output_type": "stream",
     "text": [
      "0\n"
     ]
    }
   ],
   "source": [
    "class Stack:\n",
    "    def __init__(self):\n",
    "        self.stackList = []\n",
    "stackObject = Stack()\n",
    "print(len(stackObject.stackList))"
   ]
  },
  {
   "cell_type": "code",
   "execution_count": 29,
   "metadata": {},
   "outputs": [
    {
     "ename": "AttributeError",
     "evalue": "'Stack' object has no attribute 'push'",
     "output_type": "error",
     "traceback": [
      "\u001b[1;31m---------------------------------------------------------------------------\u001b[0m",
      "\u001b[1;31mAttributeError\u001b[0m                            Traceback (most recent call last)",
      "Cell \u001b[1;32mIn[29], line 1\u001b[0m\n\u001b[1;32m----> 1\u001b[0m \u001b[38;5;28;43;01mclass\u001b[39;49;00m\u001b[43m \u001b[49m\u001b[38;5;21;43;01mSteck\u001b[39;49;00m\u001b[43m:\u001b[49m\n\u001b[0;32m      2\u001b[0m \u001b[43m    \u001b[49m\u001b[38;5;28;43;01mdef\u001b[39;49;00m\u001b[43m \u001b[49m\u001b[38;5;21;43m__init__\u001b[39;49m\u001b[43m(\u001b[49m\u001b[38;5;28;43mself\u001b[39;49m\u001b[43m)\u001b[49m\u001b[43m:\u001b[49m\n\u001b[0;32m      3\u001b[0m \u001b[43m        \u001b[49m\u001b[38;5;28;43mself\u001b[39;49m\u001b[38;5;241;43m.\u001b[39;49m\u001b[43m__steckList\u001b[49m\u001b[43m \u001b[49m\u001b[38;5;241;43m=\u001b[39;49m\u001b[43m \u001b[49m\u001b[43m[\u001b[49m\u001b[43m]\u001b[49m\n",
      "Cell \u001b[1;32mIn[29], line 14\u001b[0m, in \u001b[0;36mSteck\u001b[1;34m()\u001b[0m\n\u001b[0;32m     11\u001b[0m     \u001b[38;5;28;01mreturn\u001b[39;00m val\n\u001b[0;32m     13\u001b[0m stackObject \u001b[38;5;241m=\u001b[39m Stack()\n\u001b[1;32m---> 14\u001b[0m \u001b[43mstackObject\u001b[49m\u001b[38;5;241;43m.\u001b[39;49m\u001b[43mpush\u001b[49m(\u001b[38;5;241m3\u001b[39m)\n\u001b[0;32m     15\u001b[0m stackObject\u001b[38;5;241m.\u001b[39mpush(\u001b[38;5;241m2\u001b[39m)\n\u001b[0;32m     16\u001b[0m stackObject\u001b[38;5;241m.\u001b[39mpush(\u001b[38;5;241m1\u001b[39m)\n",
      "\u001b[1;31mAttributeError\u001b[0m: 'Stack' object has no attribute 'push'"
     ]
    }
   ],
   "source": [
    "class Steck:\n",
    "    def __init__(self):\n",
    "        self.__steckList = []\n",
    "\n",
    "    def push(self, val):\n",
    "        self.__steckList.append(val)\n",
    "\n",
    "    def pop(self, val):\n",
    "        val = self.__steckList[-1]\n",
    "        del self.__steckList[-1]\n",
    "        return val\n",
    "    \n",
    "    stackObject = Stack()\n",
    "    stackObject.push(3)\n",
    "    stackObject.push(2)\n",
    "    stackObject.push(1)\n",
    "\n",
    "    print(stackObject.pop())\n",
    "    print(stackObject.pop())\n",
    "    print(stackObject.pop())\n",
    "\n",
    "    \n"
   ]
  },
  {
   "cell_type": "code",
   "execution_count": 36,
   "metadata": {},
   "outputs": [
    {
     "name": "stdout",
     "output_type": "stream",
     "text": [
      "3\n"
     ]
    }
   ],
   "source": [
    "class Steck:\n",
    "    def __init__(self):\n",
    "        self.__steckList = []\n",
    "\n",
    "    def push(self, val):\n",
    "        self.__steckList.append(val)\n",
    "\n",
    "    def pop(self, val):\n",
    "        val = self.__steckList[-1]\n",
    "        del self.__steckList[-1]\n",
    "        return val\n",
    "\n",
    "# Создаем экземпляр класса вне определения класса\n",
    "stackObject1 = Stack() #Создание объектов\n",
    "stackObject2 = Stack()\n",
    "\n",
    "stackObject1.push(3)\n",
    "stackObject2.push(stackObject1.pop())\n",
    "\n",
    "print(stackObject2.pop())\n"
   ]
  },
  {
   "cell_type": "code",
   "execution_count": 46,
   "metadata": {},
   "outputs": [
    {
     "data": {
      "text/plain": [
       "0"
      ]
     },
     "execution_count": 46,
     "metadata": {},
     "output_type": "execute_result"
    }
   ],
   "source": [
    "class Steck:\n",
    "    def __init__(self):\n",
    "        self.__steckList = []\n",
    "\n",
    "    def push(self, val):\n",
    "        self.__steckList.append(val)\n",
    "\n",
    "    def pop(self):\n",
    "        val = self.__steckList[-1]\n",
    "        del self.__steckList[-1]\n",
    "        return val\n",
    "    \n",
    "littleSteck = Steck()\n",
    "anotherSteck = Steck()\n",
    "funnySteck = Steck()\n",
    "\n",
    "littleSteck.push(1)\n",
    "anotherSteck.push(littleSteck.pop() + 1)\n",
    "funnySteck.push(anotherSteck.pop() - 2)\n",
    "\n",
    "funnySteck.pop()\n"
   ]
  },
  {
   "cell_type": "code",
   "execution_count": 47,
   "metadata": {},
   "outputs": [],
   "source": [
    "class Steck:\n",
    "    def __init__(self):\n",
    "        self.__steckList = []\n",
    "\n",
    "    def push(self, val):\n",
    "        self.__steckList.append(val)\n",
    "\n",
    "    def pop(self):\n",
    "        val = self.__steckList[-1]\n",
    "        del self.__steckList[-1]\n",
    "        return val\n",
    "    \n",
    "class AddingSteck(Steck):\n",
    "    def __init__(self):\n",
    "        Steck.__init__(self)\n",
    "        self.__sum = 0\n",
    "\n",
    "    def push(self, val):\n",
    "        self.__sum += val\n",
    "        Steck.push(self, val)"
   ]
  },
  {
   "cell_type": "code",
   "execution_count": 48,
   "metadata": {},
   "outputs": [
    {
     "name": "stdout",
     "output_type": "stream",
     "text": [
      "Барсик издает звук\n",
      "Мяу\n",
      "Шарик издает звук\n",
      "Гав\n"
     ]
    }
   ],
   "source": [
    "class Animal:\n",
    "    def __init__(self, name):\n",
    "        self.name = name\n",
    "\n",
    "    def voice(self):\n",
    "        print(f\"{self.name} издает звук\")\n",
    "\n",
    "class Cat(Animal):\n",
    "    def voice(self):\n",
    "        Animal.voice(self)\n",
    "        print(\"Мяу\")\n",
    "\n",
    "class Dog(Animal):\n",
    "    def voice(self):\n",
    "        Animal.voice(self)\n",
    "        print(\"Гав\")\n",
    "myCat = Cat(\"Барсик\")\n",
    "myDog = Dog(\"Шарик\")\n",
    "\n",
    "myCat.voice()\n",
    "myDog.voice()\n"
   ]
  }
 ],
 "metadata": {
  "kernelspec": {
   "display_name": "Python 3",
   "language": "python",
   "name": "python3"
  },
  "language_info": {
   "codemirror_mode": {
    "name": "ipython",
    "version": 3
   },
   "file_extension": ".py",
   "mimetype": "text/x-python",
   "name": "python",
   "nbconvert_exporter": "python",
   "pygments_lexer": "ipython3",
   "version": "3.11.9"
  }
 },
 "nbformat": 4,
 "nbformat_minor": 2
}
