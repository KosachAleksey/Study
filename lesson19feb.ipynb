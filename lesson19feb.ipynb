{
 "cells": [
  {
   "cell_type": "code",
   "execution_count": 1,
   "metadata": {},
   "outputs": [
    {
     "name": "stdout",
     "output_type": "stream",
     "text": [
      "Hi\n"
     ]
    }
   ],
   "source": [
    "print(\"Hi\")"
   ]
  },
  {
   "cell_type": "markdown",
   "metadata": {},
   "source": [
    "Классы объекты "
   ]
  },
  {
   "cell_type": "code",
   "execution_count": 3,
   "metadata": {},
   "outputs": [
    {
     "name": "stdout",
     "output_type": "stream",
     "text": [
      "Барбос произносит: Гав!\n"
     ]
    }
   ],
   "source": [
    "class Dog:\n",
    "\n",
    "    def __init__(self, name, age):\n",
    "        self.name = name \n",
    "        self.age = age\n",
    "\n",
    "    def bark(self):\n",
    "        print(f\"{self.name} произносит: Гав!\")\n",
    "\n",
    "my_dog = Dog(\"Барбос\", 5)\n",
    "my_dog.bark()"
   ]
  },
  {
   "cell_type": "markdown",
   "metadata": {},
   "source": [
    "Настледование"
   ]
  },
  {
   "cell_type": "code",
   "execution_count": 4,
   "metadata": {},
   "outputs": [
    {
     "name": "stdout",
     "output_type": "stream",
     "text": [
      "Матроскин говорит: Мяу!\n"
     ]
    }
   ],
   "source": [
    "class Animal:\n",
    "    def __init__(self, name):\n",
    "        self.name = name\n",
    "    def speak(self):\n",
    "        print(f\"{self.name} говорит: Гав!\")\n",
    "\n",
    "class Cat(Animal):\n",
    "    def speak(self):\n",
    "        print(f\"{self.name} говорит: Мяу!\")\n",
    "\n",
    "my_cat = Cat(\"Матроскин\")\n",
    "\n",
    "my_cat.speak()\n"
   ]
  },
  {
   "cell_type": "markdown",
   "metadata": {},
   "source": [
    "Инкапсуляция"
   ]
  },
  {
   "cell_type": "code",
   "execution_count": 8,
   "metadata": {},
   "outputs": [
    {
     "name": "stdout",
     "output_type": "stream",
     "text": [
      "Внесено на баланс: 100 Текущий баланс: 600\n",
      "Снято: 99 Текущий баланс: 501\n"
     ]
    }
   ],
   "source": [
    "class BankAccout:\n",
    "    def __init__(self, balance = 0):\n",
    "        self.__balance = balance\n",
    "\n",
    "    def deposit(self, sum):\n",
    "        if sum > 0:\n",
    "            self.__balance += sum\n",
    "            print(f\"Внесено на баланс: {sum} Текущий баланс: {self.__balance}\")\n",
    "        else:\n",
    "            print(\"Ошибка\") \n",
    "\n",
    "    def withdraw(self, n):  \n",
    "        if n > 0 and n <= self.__balance:\n",
    "            self.__balance -= n\n",
    "            print(f\"Снято: {n} Текущий баланс: {self.__balance}\") \n",
    "        else:\n",
    "            print(\"Ошибка\") \n",
    "\n",
    "balanc = BankAccout(500)\n",
    "balanc.deposit(100)\n",
    "balanc.withdraw(99)\n",
    "\n",
    "balanc.__balance = 10000#не работает потомучто инкапсуляция"
   ]
  },
  {
   "cell_type": "markdown",
   "metadata": {},
   "source": [
    "Полиморфизм"
   ]
  },
  {
   "cell_type": "code",
   "execution_count": 14,
   "metadata": {},
   "outputs": [
    {
     "name": "stdout",
     "output_type": "stream",
     "text": [
      "50\n",
      "Площадь круга 153.86\n"
     ]
    }
   ],
   "source": [
    "class Shape:\n",
    "    def area(self):\n",
    "        pass\n",
    "\n",
    "class Rectangle(Shape):\n",
    "    def __init__(self, width, height):\n",
    "        self.width = width\n",
    "        self.height = height\n",
    "\n",
    "    def area(self):\n",
    "        return self.width * self.height\n",
    "    \n",
    "class Circle(Shape):\n",
    "    def __init__(self, radius):\n",
    "        self.radius = radius\n",
    "\n",
    "    def area(self):\n",
    "        return 3.14 * self.radius ** 2\n",
    "    \n",
    "rect = Rectangle(5, 10)\n",
    "circle = Circle(7)\n",
    "\n",
    "print(f\"{rect.area()}\")\n",
    "print(f\"Площадь круга {circle.area()}\")\n",
    "       \n",
    "        "
   ]
  },
  {
   "cell_type": "markdown",
   "metadata": {},
   "source": [
    "Композиция"
   ]
  },
  {
   "cell_type": "code",
   "execution_count": 13,
   "metadata": {},
   "outputs": [
    {
     "name": "stdout",
     "output_type": "stream",
     "text": [
      "Автомобиль BMW c двигателем мощностью 150\n"
     ]
    }
   ],
   "source": [
    "class Engine:\n",
    "    def __init__(self, power):\n",
    "        self.power = power\n",
    "\n",
    "class Car: \n",
    "    def __init__(self, model, engine):\n",
    "        self.model = model\n",
    "        self.engine = engine\n",
    "\n",
    "    def display_info(self):\n",
    "        print(f\"Автомобиль {self.model} c двигателем мощностью {self.engine.power}\")\n",
    "\n",
    "engine = Engine(150)\n",
    "my_car = Car(\"BMW\", engine)\n",
    "my_car.display_info()"
   ]
  },
  {
   "cell_type": "markdown",
   "metadata": {},
   "source": [
    "Зоо"
   ]
  },
  {
   "cell_type": "code",
   "execution_count": 3,
   "metadata": {},
   "outputs": [
    {
     "name": "stdout",
     "output_type": "stream",
     "text": [
      "Вольер Саванна добавлен в зоопарк Сафари зоо\n",
      "Вольер Джунгли добавлен в зоопарк Сафари зоо\n",
      "Сотрудник Борис добавлен в зоопарк Сафари зоо\n",
      "Сотрудник Ян добавлен в зоопарк Сафари зоо\n",
      "Симба добаввлен Саванна\n",
      "Боб добаввлен Джунгли\n",
      "Яго добаввлен Джунгли\n",
      "Информация о зоопарке Сафари зоо\n",
      "Вальеры\n",
      "Саванна\n",
      "Джунгли\n",
      "Сотрудник: \n",
      "Борис\n",
      "Ян\n"
     ]
    }
   ],
   "source": [
    "class Animal:\n",
    "    def __init__(self, name, type, age):\n",
    "        self.name = name\n",
    "        self.type = type\n",
    "        self.age = age\n",
    "\n",
    "    def make_command(self):\n",
    "        print(f\"{self.name} умеет делать комманду\")\n",
    "\n",
    "class Lion(Animal):\n",
    "        def make_command(self):\n",
    "            print(f\"{self.name} умеет делать комманду лежать\")\n",
    "\n",
    "class Elephant(Animal):\n",
    "        def make_command(self):\n",
    "            print(f\"{self.name} умеет делать комманду стоять на задних лапах\")\n",
    "\n",
    "class Bird(Animal):\n",
    "        def make_command(self):\n",
    "            print(f\"{self.name} умеет делать комманду каркать\")\n",
    "\n",
    "class Enclosure:\n",
    "        def __init__(self, name):\n",
    "            self.name = name\n",
    "            self.animals = []\n",
    "\n",
    "        def add_animal(self, animal):\n",
    "            if isinstance(animal, Animal):\n",
    "                self.animals.append(animal)\n",
    "                print(f\"{animal.name} добаввлен {self.name}\")\n",
    "            else:\n",
    "                print(\"Такогго животного у нас нет\")\n",
    "\n",
    "        def show_animals(self):\n",
    "            print(f\"В вольере {self.name} находятся: \")\n",
    "            for animal in self.animals:\n",
    "                print(f\" - {animal.name} ({animal.tyte}), ({animal.age}) лет\")\n",
    "\n",
    "class ZooKeeper:\n",
    "        def __init__(self, name, enclosure):\n",
    "            self.name = name\n",
    "            self.enclosure = enclosure\n",
    "        def feed_animals(self):\n",
    "            print(f\"{self.name} кормит животное в вольере {self.enclosure.name}\")\n",
    "\n",
    "class Zoo:\n",
    "        def __init__(self, name):\n",
    "            self.name = name\n",
    "            self.enclosures = []\n",
    "            self.zookeepers = []\n",
    "\n",
    "        def add_enclosure(self, enclosure):\n",
    "            self.enclosures.append(enclosure)\n",
    "            print(f\"Вольер {enclosure.name} добавлен в зоопарк {self.name}\")\n",
    "\n",
    "        def add_zookeeper(self, zookeeper):\n",
    "            self.zookeepers.append(zookeeper)\n",
    "            print(f\"Сотрудник {zookeeper.name} добавлен в зоопарк {self.name}\")\n",
    "\n",
    "        def show_zoo_info(self):\n",
    "            print(f\"Информация о зоопарке {self.name}\")\n",
    "            print(\"Вальеры\")\n",
    "            for enclosure in  self.enclosures:\n",
    "                print(f\"{enclosure.name}\")\n",
    "            print(\"Сотрудник: \")\n",
    "            for zookeeper in  self.zookeepers:\n",
    "                print(f\"{zookeeper.name}\")\n",
    "\n",
    "zoo = Zoo(\"Сафари зоо\")\n",
    "lion = Lion(\"Симба\", \"лев\", 10)\n",
    "elephant = Elephant(\"Боб\", \"слон\", 19)\n",
    "bird = Bird(\"Яго\", \"попугай\", 3)\n",
    "\n",
    "savanna = Enclosure(\"Саванна\")\n",
    "jungle = Enclosure(\"Джунгли\")\n",
    "\n",
    "keeper1 = ZooKeeper(\"Борис\", savanna)\n",
    "keeper2 = ZooKeeper(\"Ян\", jungle)\n",
    "\n",
    "zoo.add_enclosure(savanna)\n",
    "zoo.add_enclosure(jungle)\n",
    "\n",
    "zoo.add_zookeeper(keeper1)\n",
    "zoo.add_zookeeper(keeper2)\n",
    "\n",
    "savanna.add_animal(lion)\n",
    "jungle.add_animal(elephant)\n",
    "jungle.add_animal(bird)\n",
    "\n",
    "zoo.show_zoo_info()\n",
    "    \n",
    "\n",
    "\n",
    "\n",
    "\n"
   ]
  }
 ],
 "metadata": {
  "kernelspec": {
   "display_name": "Python 3",
   "language": "python",
   "name": "python3"
  },
  "language_info": {
   "codemirror_mode": {
    "name": "ipython",
    "version": 3
   },
   "file_extension": ".py",
   "mimetype": "text/x-python",
   "name": "python",
   "nbconvert_exporter": "python",
   "pygments_lexer": "ipython3",
   "version": "3.12.2"
  }
 },
 "nbformat": 4,
 "nbformat_minor": 2
}
