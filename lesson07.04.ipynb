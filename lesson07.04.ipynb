{
 "cells": [
  {
   "cell_type": "markdown",
   "metadata": {},
   "source": [
    "Патерное проектрование Одиночка"
   ]
  },
  {
   "cell_type": "markdown",
   "metadata": {},
   "source": [
    "Описание: Необходимо реализовать систему управления заказами в онлайн\u0002магазине, которая использует паттерн проектирования «Фабричный Метод». \n",
    "Система должна позволять создавать разные типы заказов (например, \n",
    "обычный заказ, срочный заказ, международный заказ и т.д.). Каждый тип \n",
    "заказа должен иметь свои уникальные характеристики и обработку.\n",
    "\n",
    "Требования\n",
    " Создайте абстрактный класс Order с общими методами для всех типов \n",
    "заказов (например, process_order)\n",
    " Создайте конкретные классы для различных типов заказов, \n",
    "наследующиеся от абстрактного класса\n",
    "X Реализуйте абстрактный класс OrderFactory, содержащий фабричный метод \n",
    "create_order, который будут реализовывать конкретные фабрики\n",
    "R Создайте конкретные фабрики (RegularOrderFactory, UrgentOrderFactory, \n",
    "InternationalOrderFactory) для создания соответствующих типов заказов\n",
    "f Продемонстрируйте использование фабричного метода, создав несколько \n",
    "различных заказов и вызвав для каждого из них метод обработки"
   ]
  },
  {
   "cell_type": "code",
   "execution_count": 4,
   "metadata": {},
   "outputs": [
    {
     "name": "stdout",
     "output_type": "stream",
     "text": [
      "Срочный заказ обрабатывается с приоритетом\n",
      "Срочный заказ обрабатывается с приоритетом\n",
      "Международный заказ заказ обрабатывается с учетом таможни\n"
     ]
    }
   ],
   "source": [
    "from abc import ABC, abstractmethod\n",
    "\n",
    "class Order(ABC):\n",
    "    @abstractmethod\n",
    "    def process_order(self):\n",
    "        pass\n",
    "\n",
    "class RegularOrder(Order):\n",
    "    def process_order(self):\n",
    "        return \"Обычный заказ обрабатывается стандартным методом\"\n",
    "\n",
    "class UrgentOrder(Order):\n",
    "    def process_order(self):\n",
    "        return \"Срочный заказ обрабатывается с приоритетом\"\n",
    "class International(Order):\n",
    "    def process_order(self):\n",
    "        return \"Международный заказ заказ обрабатывается с учетом таможни\"\n",
    "\n",
    "#Абстрактный класс для фабрики заказов\n",
    "class OrderFactory(ABC):\n",
    "    @abstractmethod\n",
    "    def creat_order(self):\n",
    "        pass\n",
    "\n",
    "class RegularOrderFactory(OrderFactory):\n",
    "    def creat_order(self):\n",
    "        return RegularOrder()\n",
    "\n",
    "class UrgentOrderFactory(OrderFactory):\n",
    "    def creat_order(self):\n",
    "        return UrgentOrder()\n",
    "\n",
    "class InternationalOrderFactory(OrderFactory):\n",
    "    def creat_order(self):\n",
    "        return International()\n",
    "\n",
    "def work_order(factory: OrderFactory):\n",
    "    order = factory.creat_order()\n",
    "    print(order.process_order())\n",
    "\n",
    "regular_order_factory = UrgentOrderFactory()\n",
    "urgent_order_factory = UrgentOrderFactory()\n",
    "international_order_factory = InternationalOrderFactory()\n",
    "\n",
    "work_order(regular_order_factory)\n",
    "work_order(urgent_order_factory)\n",
    "work_order(international_order_factory)\n"
   ]
  },
  {
   "cell_type": "markdown",
   "metadata": {},
   "source": []
  },
  {
   "cell_type": "code",
   "execution_count": 12,
   "metadata": {},
   "outputs": [
    {
     "name": "stdout",
     "output_type": "stream",
     "text": [
      "Использование фабрики для Виндоус\n",
      "Кнопка на Виндоус нажата\n",
      "Окно Виндоус отрисованно\n",
      "Использование фабрики для MacOS\n",
      "Кнопка на Виндоус нажата\n",
      "Окно Виндоус отрисованно\n"
     ]
    }
   ],
   "source": [
    "from abc import ABC, abstractmethod\n",
    "\n",
    "class Button(ABC):\n",
    "    @abstractmethod\n",
    "    def click(self):\n",
    "        pass\n",
    "\n",
    "class Windows(ABC):\n",
    "    @abstractmethod\n",
    "    def  render(self):\n",
    "        pass\n",
    "\n",
    "class WindowsButton(Button):\n",
    "   \n",
    "    def  click(self):\n",
    "        return \"Кнопка на Виндоус нажата\"\n",
    "\n",
    "class WindowsWindow(Windows):\n",
    "   \n",
    "    def  render(self):\n",
    "        return \"Окно Виндоус отрисованно\"\n",
    "    \n",
    "class MacOSButton(Button):\n",
    "    \n",
    "    def  click(self):\n",
    "        return \"Кнопка на Виндоус нажата\"\n",
    "\n",
    "class MacOSWindow(Windows):\n",
    " \n",
    "    def  render(self):\n",
    "        return \"Окно Виндоус отрисованно\"\n",
    "    \n",
    "    #Создаем фабрику\n",
    "class GUIFactory(ABC):\n",
    "    @abstractmethod\n",
    "    def create_button(self):\n",
    "        pass\n",
    "    @abstractmethod\n",
    "    def create_window(self):\n",
    "        pass\n",
    "\n",
    "#фабрика для Windows\n",
    "class WindowsFactory(GUIFactory):\n",
    "    def create_button(self):\n",
    "        return WindowsButton()\n",
    "    \n",
    "    def create_window(self):\n",
    "        return WindowsWindow()\n",
    "\n",
    "\n",
    "#фабрика для MacOS\n",
    "class MacOSFactory(GUIFactory):\n",
    "    def create_button(self):\n",
    "        return MacOSButton()\n",
    "    \n",
    "    def create_window(self):\n",
    "        return MacOSWindow()\n",
    "    \n",
    "\n",
    "def client_code(factory: GUIFactory):\n",
    "    button = factory.create_button()\n",
    "    window = factory.create_window()\n",
    "    print(button.click())\n",
    "    print(window.render())\n",
    "\n",
    "print(\"Использование фабрики для Виндоус\")\n",
    "windows_factory = WindowsFactory()\n",
    "client_code(windows_factory)\n",
    "\n",
    "print(\"Использование фабрики для MacOS\")\n",
    "MacOS_factory = MacOSFactory()\n",
    "client_code(MacOS_factory)\n",
    "    \n"
   ]
  },
  {
   "cell_type": "markdown",
   "metadata": {},
   "source": [
    "Прототип"
   ]
  },
  {
   "cell_type": "code",
   "execution_count": 15,
   "metadata": {},
   "outputs": [
    {
     "name": "stdout",
     "output_type": "stream",
     "text": [
      "Оригинальный отчет\n",
      "Документ: Отчет по проекту содержание Содержание отчета\n",
      "\n",
      "Клонированный отчет\n",
      "Документ: Отчет по проекту (Копия) содержание Измененное содержание отчета\n",
      "Оригинальное письмо\n",
      "Письмо для: Иванов, содерджание: Здравствуйте Иванов, письмо от комапании\n",
      "\n",
      "Клонированное письмо\n",
      "Письмо для: Иванов, содерджание: ПРивет Иванов, письмо от моей компании\n"
     ]
    }
   ],
   "source": [
    "import copy \n",
    "from abc import ABC, abstractmethod\n",
    "from dataclasses import dataclass\n",
    "\n",
    "class Document(ABC):\n",
    "    @abstractmethod\n",
    "    def clone(self):\n",
    "        pass\n",
    "\n",
    "@dataclass\n",
    "\n",
    "class Report(Document): #Конкретный класс протопипа\n",
    "   \n",
    "        title: str\n",
    "        content: str\n",
    "        \n",
    "        def clone(self):\n",
    "            return copy.deepcopy(self)\n",
    "        \n",
    "        def display(self):\n",
    "            return f\"Документ: {self.title} содержание {self.content}\"\n",
    "@dataclass\n",
    "class Letter(Document):\n",
    "     recipient: str\n",
    "     message: str\n",
    "\n",
    "     def clone(self):\n",
    "          return copy.deepcopy(self)\n",
    "     \n",
    "     def display(self):\n",
    "          return f\"Письмо для: {self.recipient}, содерджание: {self.message}\"\n",
    "     \n",
    "original_report = Report(\"Отчет по проекту\", \"Содержание отчета\")\n",
    "original_letter = Letter(\"Иванов\", \"Здравствуйте Иванов, письмо от комапании\")\n",
    "\n",
    "clone_report = original_report.clone()\n",
    "clone_letter = original_letter.clone()\n",
    "\n",
    "clone_report.title = \"Отчет по проекту (Копия)\"\n",
    "clone_report.content = \"Измененное содержание отчета\"\n",
    "clone_letter.message = \"ПРивет Иванов, письмо от моей компании\"\n",
    "\n",
    "print(\"Оригинальный отчет\")\n",
    "print(original_report.display())\n",
    "print(\"\\nКлонированный отчет\")\n",
    "print(clone_report.display())\n",
    "\n",
    "print(\"Оригинальное письмо\")\n",
    "print(original_letter.display())\n",
    "print(\"\\nКлонированное письмо\")\n",
    "print(clone_letter.display())\n"
   ]
  },
  {
   "cell_type": "markdown",
   "metadata": {},
   "source": [
    "Метакласс - управляет создание других классов"
   ]
  },
  {
   "cell_type": "code",
   "execution_count": 16,
   "metadata": {},
   "outputs": [
    {
     "data": {
      "text/plain": [
       "'Привет я класс созданный Метаклассом'"
      ]
     },
     "execution_count": 16,
     "metadata": {},
     "output_type": "execute_result"
    }
   ],
   "source": [
    "class MyMeta(type):\n",
    "    def __new__(cls, name, bases, dct):\n",
    "        dct[\"say_hello\"] = lambda self: \"Привет я класс созданный Метаклассом\"\n",
    "        return super().__new__(cls, name, bases, dct)\n",
    "    \n",
    "class MyClass(metaclass=MyMeta):\n",
    "    pass\n",
    "\n",
    "obj = MyClass()\n",
    "obj.say_hello()"
   ]
  }
 ],
 "metadata": {
  "kernelspec": {
   "display_name": "Python 3",
   "language": "python",
   "name": "python3"
  },
  "language_info": {
   "codemirror_mode": {
    "name": "ipython",
    "version": 3
   },
   "file_extension": ".py",
   "mimetype": "text/x-python",
   "name": "python",
   "nbconvert_exporter": "python",
   "pygments_lexer": "ipython3",
   "version": "3.11.9"
  }
 },
 "nbformat": 4,
 "nbformat_minor": 2
}
