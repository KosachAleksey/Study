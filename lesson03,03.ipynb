{
 "cells": [
  {
   "cell_type": "code",
   "execution_count": 1,
   "metadata": {},
   "outputs": [
    {
     "name": "stdout",
     "output_type": "stream",
     "text": [
      "Hi!\n"
     ]
    }
   ],
   "source": [
    "print(\"Hi!\")\n"
   ]
  },
  {
   "cell_type": "markdown",
   "metadata": {},
   "source": [
    "В этом задании вам предстоит реализовать класс, представляющий вектор в двумерном пространстве, с использованием концепции перегрузки операторов. Перегрузка операторов позволяет вам определять поведение стандартных операторов для объектов пользовательских типов данных. Необходимо создать класс Vector2D, перегрузить в нем операторы для выполнения арифметических операций с векторами, а также добавить дополнительные методы для работы с векторами.\n",
    "Требования\n",
    "i Создание класса Vector2Dn\n",
    "i Класс должен представлять вектор в двумерном \n",
    "пространстве с координатами (x, y)V\n",
    "i Перегрузка операторовn\n",
    "i Сложение (+): сложение двух векторов (прибавление \n",
    "соответствующих координат)V\n",
    "i Вычитание (-): вычитание двух векторов (вычитание \n",
    "соответствующих координат)V\n",
    "i Умножение на скаляр (*): умножение вектора на скаляр \n",
    "(умножение каждой координаты на число)V\n",
    "i Сравнение (==): проверка на равенство двух векторов \n",
    "(сравнение соответствующих координат)V\n",
    "i Методы классаn\n",
    "i Метод magnitude(), который вычисляет длину вектораV\n",
    "i Пример использования класса: Напишите небольшой скрипт, \n",
    "который демонстрирует работу перегруженных операторов для \n",
    "объектов класса Vector2DV\n",
    "i Комментарирование кода:\n",
    "Каждый класс и метод должен быть прокомментирован, \n",
    "объясняя его назначение и работу. Особое внимание уделите \n",
    "описанию перегруженных операторов."
   ]
  },
  {
   "cell_type": "code",
   "execution_count": 8,
   "metadata": {},
   "outputs": [
    {
     "name": "stdout",
     "output_type": "stream",
     "text": [
      "Matrix2x2(3, 6, 9, 12)\n",
      "Matrix2x2(1, 2, 3, 4)\n",
      "Matrix2x2(5, 6, 7, 8)\n",
      "Matrix2x2(2, 4, 6, 8)\n"
     ]
    }
   ],
   "source": [
    "class Matrix2x2:\n",
    "    def __init__(self, a, b, c, d):\n",
    "\n",
    "        self.matrix = [[a, b], [c, d]]\n",
    "\n",
    "    def __str__(self):\n",
    "        return f\"Matrix2x2({self.matrix[0][0]}, {self.matrix[0][1]}, {self.matrix[1][0]}, {self.matrix[1][1]})\"\n",
    "    \n",
    "    def determinant(self):\n",
    "        return self.matrix[0][0] * self.matrix[1][1] - self.matrix[0][1] * self.matrix[1][0]\n",
    "    \n",
    "    def __add__(self, other):\n",
    "        return Matrix2x2(\n",
    "            self.matrix[0][0] + other.matrix[0][0], self.matrix[0][1] + other.matrix[0][1], self.matrix[1][0] + other.matrix[1][0], self.matrix[1][1] + other.matrix[1][1]\n",
    "        )\n",
    "    \n",
    "    def __sub__(self, other):\n",
    "        return Matrix2x2(\n",
    "            self.matrix[0][0] - other.matrix[0][0], self.matrix[0][1] - other.matrix[0][1], self.matrix[1][0] - other.matrix[1][0], self.matrix[1][1] - other.matrix[1][1]\n",
    "        )\n",
    "    \n",
    "    def __mul__(self, scalar):\n",
    "        return Matrix2x2(\n",
    "            self.matrix[0][0] * scalar , self.matrix[0][1] * scalar, self.matrix[1][0] * scalar, self.matrix[1][1] * scalar\n",
    "        )\n",
    "    \n",
    "    def __eq__(self, other):\n",
    "        return self.matrix == other.matrix \n",
    "\n",
    "\n",
    "\n",
    "matrix1 = Matrix2x2(1, 2, 3, 4)\n",
    "\n",
    "matrix2 = Matrix2x2(5, 6, 7, 8)\n",
    "\n",
    "matrix3 = matrix1 + matrix2\n",
    "\n",
    "matrix4 = matrix1 - matrix2\n",
    "\n",
    "matrixScalar = matrix1 * 3\n",
    "\n",
    "print(matrixScalar)\n",
    "\n",
    "print(matrix1)\n",
    "\n",
    "print(matrix2)\n",
    "\n",
    "result = matrix1 + matrix1\n",
    "print(result)\n",
    "        "
   ]
  },
  {
   "cell_type": "markdown",
   "metadata": {},
   "source": [
    "Метапрограммирование"
   ]
  },
  {
   "cell_type": "code",
   "execution_count": 18,
   "metadata": {},
   "outputs": [
    {
     "name": "stdout",
     "output_type": "stream",
     "text": [
      "Hello world my_func\n"
     ]
    }
   ],
   "source": [
    "def create_function(name):\n",
    "    code = f\"def {name}(): print('Hello world {name}')\"\n",
    "    exec(code, globals())\n",
    "    return globals()[name]\n",
    "\n",
    "f = create_function(\"my_func\")\n",
    "\n",
    "f()"
   ]
  },
  {
   "cell_type": "code",
   "execution_count": 21,
   "metadata": {},
   "outputs": [
    {
     "name": "stdout",
     "output_type": "stream",
     "text": [
      "20\n"
     ]
    }
   ],
   "source": [
    "user = input(\"Введите код\") #вводится print(10+10)\n",
    "exec(user)\n"
   ]
  },
  {
   "cell_type": "code",
   "execution_count": 22,
   "metadata": {},
   "outputs": [
    {
     "name": "stdout",
     "output_type": "stream",
     "text": [
      "Что-то происходит до вызова функции\n",
      "Привет\n",
      "Что-то происходит ПОСЛЕ вызова функции\n"
     ]
    }
   ],
   "source": [
    "#декоратор\n",
    "def my_decorator(func):\n",
    "    def wrapper():\n",
    "        print(\"Что-то происходит до вызова функции\")\n",
    "        func()\n",
    "        print(\"Что-то происходит ПОСЛЕ вызова функции\")\n",
    "    return wrapper\n",
    "\n",
    "@my_decorator\n",
    "def say_hello():\n",
    "    print(\"Привет\")\n",
    "\n",
    "say_hello()\n"
   ]
  },
  {
   "cell_type": "code",
   "execution_count": 25,
   "metadata": {},
   "outputs": [
    {
     "name": "stdout",
     "output_type": "stream",
     "text": [
      "вызов функции add, возвращает с аргументами 3 и 5\n",
      "Результат 8\n"
     ]
    },
    {
     "data": {
      "text/plain": [
       "8"
      ]
     },
     "execution_count": 25,
     "metadata": {},
     "output_type": "execute_result"
    }
   ],
   "source": [
    "def log_decorator(func):\n",
    "    def wrapper(a, b):\n",
    "        print(f\"вызов функции {func.__name__}, возвращает с аргументами {a} и {b}\")\n",
    "        result = func(a, b)\n",
    "        print(f\"Результат {result}\")\n",
    "        return result\n",
    "    return wrapper\n",
    "\n",
    "\n",
    "@log_decorator\n",
    "def add(a, b):\n",
    "    return a + b\n",
    "\n",
    "add(3, 5)"
   ]
  },
  {
   "cell_type": "code",
   "execution_count": 29,
   "metadata": {},
   "outputs": [
    {
     "name": "stdout",
     "output_type": "stream",
     "text": [
      "Печать: именнорванный аргумент name, его значение: Коля\n",
      "Печать: именнорванный аргумент id, его значение: 123452\n"
     ]
    },
    {
     "data": {
      "text/plain": [
       "{'name': 'Коля', 'id': '123452'}"
      ]
     },
     "execution_count": 29,
     "metadata": {},
     "output_type": "execute_result"
    }
   ],
   "source": [
    "def log_decorator(func):\n",
    "    def wrapper(*args, **kwargs):\n",
    "        print(f\"вызов функции {func.__name__}, возвращает с аргументами {args} и {kwargs}\")\n",
    "        result = func(*args, **kwargs)\n",
    "        print(f\"Результат {result}\")\n",
    "        return result\n",
    "    return wrapper\n",
    "\n",
    "\n",
    "@log_decorator\n",
    "def add(a, b):\n",
    "    return a + b\n",
    "\n",
    "@log_decorator\n",
    "def sub3x(a, b, c): return a - b -c \n",
    "\n",
    "def print_kwargs(**kwargs):\n",
    "    for name, value in kwargs.items():\n",
    "        print(f\"Печать: именнорванный аргумент {name}, его значение: {value}\")\n",
    "    return kwargs\n",
    "print_kwargs(name =\"Коля\", id = \"123452\")\n"
   ]
  },
  {
   "cell_type": "code",
   "execution_count": 30,
   "metadata": {},
   "outputs": [
    {
     "name": "stdout",
     "output_type": "stream",
     "text": [
      "1\n",
      "2\n",
      "3\n",
      "4\n",
      "5\n",
      "6\n",
      "7\n"
     ]
    }
   ],
   "source": [
    "def test_args(args):\n",
    "    for arg in args:\n",
    "        print(arg)\n",
    "\n",
    "test_args((1, 2, 3, 4, 5, 6, 7))"
   ]
  },
  {
   "cell_type": "code",
   "execution_count": 37,
   "metadata": {},
   "outputs": [
    {
     "name": "stdout",
     "output_type": "stream",
     "text": [
      "1\n",
      "2\n",
      "3\n",
      "4\n",
      "5\n",
      "6\n",
      "7\n"
     ]
    }
   ],
   "source": [
    "def test_args(*args):\n",
    "    for arg in args:\n",
    "        print(arg)\n",
    "\n",
    "test_args(1, 2, 3, 4, 5, 6, 7)"
   ]
  },
  {
   "cell_type": "code",
   "execution_count": 33,
   "metadata": {},
   "outputs": [
    {
     "name": "stdout",
     "output_type": "stream",
     "text": [
      "name\n",
      "id\n",
      "role\n"
     ]
    }
   ],
   "source": [
    "def test_args(**kwargs):\n",
    "    for arg in kwargs:\n",
    "        print(arg)\n",
    "\n",
    "test_args(name =\"Коля\", id = \"123452\", role = 'adm')"
   ]
  },
  {
   "cell_type": "code",
   "execution_count": 38,
   "metadata": {},
   "outputs": [
    {
     "name": "stdout",
     "output_type": "stream",
     "text": [
      "Печать: именнованный аргумент: name, его значение: Коля\n",
      "Печать: именнованный аргумент: id, его значение: 123452\n",
      "Печать: именнованный аргумент: role, его значение: adm\n"
     ]
    },
    {
     "data": {
      "text/plain": [
       "{'name': 'Коля', 'id': '123452', 'role': 'adm'}"
      ]
     },
     "execution_count": 38,
     "metadata": {},
     "output_type": "execute_result"
    }
   ],
   "source": [
    "def test_args(**kwargs):\n",
    "    for key, value in kwargs.items():\n",
    "        print(f\"Печать: именнованный аргумент: {key}, его значение: {value}\")\n",
    "    return kwargs\n",
    "\n",
    "test_args(name =\"Коля\", id = \"123452\", role = 'adm')"
   ]
  },
  {
   "cell_type": "code",
   "execution_count": 40,
   "metadata": {},
   "outputs": [
    {
     "data": {
      "text/plain": [
       "8"
      ]
     },
     "execution_count": 40,
     "metadata": {},
     "output_type": "execute_result"
    }
   ],
   "source": [
    "import datetime\n",
    "\n",
    "def log_to_file(filename):\n",
    "    def decorator(func):\n",
    "        def wrapper(*args, **kwargs):\n",
    "            result = func(*args, **kwargs)\n",
    "            with open(filename, 'a', encoding=\"UTF-8\") as file:\n",
    "                file.write(f\"{datetime.datetime.now()}: Вызвана {func.__name__} c {args}, {kwargs}\")\n",
    "            return result\n",
    "        return wrapper\n",
    "    return decorator\n",
    "    \n",
    "    \n",
    "@log_to_file(\"log.txt\")\n",
    "def mult(a, b):\n",
    "    return a * b\n",
    "\n",
    "mult(2, 4)\n",
    "\n"
   ]
  },
  {
   "cell_type": "code",
   "execution_count": 46,
   "metadata": {},
   "outputs": [
    {
     "name": "stdout",
     "output_type": "stream",
     "text": [
      "Получаем радиус\n",
      "20\n",
      "Устанавливаем радиус\n",
      "Получаем радиус\n",
      "10\n"
     ]
    }
   ],
   "source": [
    "class Circle:\n",
    "    def __init__(self, radius):\n",
    "        self._radius = radius\n",
    "\n",
    "    @property\n",
    "\n",
    "    def radius(self):\n",
    "        #геттер: Возращает значение self._radius\n",
    "        print(\"Получаем радиус\")\n",
    "        return self._radius\n",
    "    \n",
    "    @radius.setter\n",
    "    def radius(self, value):\n",
    "        #сеттер: Устанавлиаем новое значение\n",
    "\n",
    "        if value < 0:\n",
    "            raise ValueError (\"Радиус круга не может быть отрицательным\")\n",
    "        print(\"Устанавливаем радиус\")\n",
    "        self._radius = value\n",
    "\n",
    "circle = Circle(20)   \n",
    "\n",
    "print(circle.radius) #Сработал геттер\n",
    "\n",
    "circle.radius = 10 \n",
    "print(circle.radius)  #Сработал сеттер"
   ]
  },
  {
   "cell_type": "code",
   "execution_count": 49,
   "metadata": {},
   "outputs": [
    {
     "name": "stdout",
     "output_type": "stream",
     "text": [
      "0\n",
      "5\n"
     ]
    }
   ],
   "source": [
    "class Temperature:\n",
    "    def __init__(self):\n",
    "        self.__temp = 0\n",
    "\n",
    "    def get_temp(self):\n",
    "        return self.__temp \n",
    "    \n",
    "    def set_temp(self, value):\n",
    "        self.__temp = value\n",
    "\n",
    "thermo = Temperature()\n",
    "print(thermo.get_temp()) #геттер\n",
    "thermo.set_temp(5)\n",
    "print(thermo.get_temp())#Сработал сеттер"
   ]
  },
  {
   "cell_type": "code",
   "execution_count": 52,
   "metadata": {},
   "outputs": [
    {
     "name": "stdout",
     "output_type": "stream",
     "text": [
      "36.6\n",
      "35.9\n"
     ]
    }
   ],
   "source": [
    "class Temperature:\n",
    "    def __init__(self):\n",
    "        self.__temp = 36.6\n",
    "\n",
    "    @property\n",
    "    def temp(self):\n",
    "        return self.__temp \n",
    "    \n",
    "    @temp.setter\n",
    "    def temp(self, value):\n",
    "        if value > 35.5 and value < 36.7:\n",
    "            self.__temp = value\n",
    "        else:\n",
    "            raise ValueError(\"Не верный диапозин температуры\")\n",
    "        \n",
    "thermo = Temperature()\n",
    "print(thermo.temp)\n",
    "thermo.temp = 35.9\n",
    "print(thermo.temp)"
   ]
  },
  {
   "cell_type": "code",
   "execution_count": 55,
   "metadata": {},
   "outputs": [
    {
     "name": "stdout",
     "output_type": "stream",
     "text": [
      "36.6\n",
      "35.9\n",
      "36.6\n",
      "35.9\n"
     ]
    }
   ],
   "source": [
    "def validate_range(min_value, max_value):\n",
    "    def decorator(func):\n",
    "        def wrapper(self, value):\n",
    "            if not value > min_value and value < max_value:\n",
    "                raise ValueError(\"Не верный диапозин температуры\")\n",
    "            return func(self, value)\n",
    "        \n",
    "        return wrapper\n",
    "    return decorator\n",
    "                \n",
    "    def __init__(self):\n",
    "        self.__temp = 36.6\n",
    "\n",
    "    @property\n",
    "    def temp(self):\n",
    "        return self.__temp \n",
    "    \n",
    "    @temp.setter\n",
    "    def temp(self, value):\n",
    "        if value > 35.5 and value < 36.7:\n",
    "            self.__temp = value\n",
    "        else:\n",
    "            raise ValueError(\"Не верный диапозин температуры\")\n",
    "        \n",
    "thermo = Temperature()\n",
    "print(thermo.temp)\n",
    "thermo.temp = 35.9\n",
    "print(thermo.temp)\n",
    "\n",
    "class Temperature:\n",
    "    def __init__(self):\n",
    "        self.__temp = 36.6\n",
    "\n",
    "    @property\n",
    "    def temp(self):\n",
    "        return self.__temp \n",
    "    \n",
    "    @temp.setter\n",
    "    @validate_range(-50, 50)\n",
    "    def temp(self, value):\n",
    "        self.__temp = value\n",
    "        \n",
    "thermo = Temperature()\n",
    "print(thermo.temp)\n",
    "thermo.temp = 35.9\n",
    "print(thermo.temp)"
   ]
  }
 ],
 "metadata": {
  "kernelspec": {
   "display_name": "Python 3",
   "language": "python",
   "name": "python3"
  },
  "language_info": {
   "codemirror_mode": {
    "name": "ipython",
    "version": 3
   },
   "file_extension": ".py",
   "mimetype": "text/x-python",
   "name": "python",
   "nbconvert_exporter": "python",
   "pygments_lexer": "ipython3",
   "version": "3.11.9"
  }
 },
 "nbformat": 4,
 "nbformat_minor": 2
}
