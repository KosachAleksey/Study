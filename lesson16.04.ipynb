{
 "cells": [
  {
   "cell_type": "markdown",
   "metadata": {},
   "source": [
    "Паттерн Итератор"
   ]
  },
  {
   "cell_type": "code",
   "execution_count": 4,
   "metadata": {},
   "outputs": [
    {
     "name": "stdout",
     "output_type": "stream",
     "text": [
      "1\n",
      "2\n",
      "3\n",
      "4\n",
      "5\n"
     ]
    }
   ],
   "source": [
    "class MyIterator:\n",
    "    def __init__(self, items):\n",
    "        self.items = items\n",
    "        self.index = 0\n",
    "\n",
    "    def __iter__(self):\n",
    "        return self\n",
    "\n",
    "    def __next__(self):\n",
    "        if self.index < len(self.items):\n",
    "            item = self.items[self.index]\n",
    "            self.index += 1\n",
    "            return item\n",
    "        else:\n",
    "            raise StopIteration\n",
    "\n",
    "\n",
    "class MyCollection:\n",
    "    def __init__(self, items):\n",
    "        self.items = items\n",
    "\n",
    "    def __iter__(self):\n",
    "        return MyIterator(self.items)\n",
    "\n",
    "\n",
    "# Тестируем коллекцию\n",
    "collection = MyCollection([1, 2, 3, 4, 5])\n",
    "\n",
    "for item in collection:\n",
    "    print(item)\n",
    "\n",
    "    \n",
    "\n",
    "\n",
    "\n"
   ]
  },
  {
   "cell_type": "markdown",
   "metadata": {},
   "source": [
    "Паттерн Посредник"
   ]
  },
  {
   "cell_type": "code",
   "execution_count": 6,
   "metadata": {},
   "outputs": [
    {
     "name": "stdout",
     "output_type": "stream",
     "text": [
      "Алиса отправил сообщение: Всем привет)\n",
      "Боб получил сообщение: Всем привет)\n",
      "Крис получил сообщение: Всем привет)\n"
     ]
    }
   ],
   "source": [
    "\n",
    "class User:\n",
    "    def __init__(self, name) -> None:\n",
    "        self.name = name\n",
    "        self.madiator = None\n",
    "\n",
    "    def set_mediator(self, mediator):\n",
    "        self.madiator = mediator\n",
    "\n",
    "    def send_message(self, message):\n",
    "        print(f\"{self.name} отправил сообщение: {message}\")\n",
    "        self.madiator.send_message(self, message)\n",
    "\n",
    "    def receve_message(self, message):\n",
    "        print(f\"{self.name} получил сообщение: {message}\")\n",
    "\n",
    "class ChatMediator:\n",
    "    def __init__(self) -> None:\n",
    "        self.users = []\n",
    "\n",
    "    def add_users(self, user):\n",
    "        self.users.append(user)\n",
    "        user.set_mediator(self)\n",
    "\n",
    "    def send_message(self, sender, message):\n",
    "        for user in self.users:\n",
    "            if user != sender:\n",
    "                user.receve_message(message)\n",
    "\n",
    "chat_mediator = ChatMediator()\n",
    "\n",
    "alice = User(\"Алиса\")\n",
    "bob = User(\"Боб\")\n",
    "kris = User(\"Крис\")    \n",
    "\n",
    "chat_mediator.add_users(alice)\n",
    "chat_mediator.add_users(bob)\n",
    "chat_mediator.add_users(kris)\n",
    "        \n",
    "alice.send_message(\"Всем привет)\")"
   ]
  },
  {
   "cell_type": "markdown",
   "metadata": {},
   "source": [
    "Паттерн Снимок"
   ]
  },
  {
   "cell_type": "code",
   "execution_count": 13,
   "metadata": {},
   "outputs": [
    {
     "name": "stdout",
     "output_type": "stream",
     "text": [
      "Текущий текст: Hello world!\n",
      "Текущий текст:  Hello Python!\n",
      "После восстановления:  Hello world!\n"
     ]
    }
   ],
   "source": [
    "class Memento:\n",
    "    def __init__(self, text) -> None:\n",
    "        self.__text = text\n",
    "\n",
    "    def get_text(self):\n",
    "        return self.__text\n",
    "    \n",
    "class TextEditor:\n",
    "    def __init__(self, text =\"\") -> None:\n",
    "        self.__text = text\n",
    "    \n",
    "    def set_text(self, text):\n",
    "        self.__text = text\n",
    "\n",
    "    def get_text(self):\n",
    "        return self.__text\n",
    "    \n",
    "    def create_memento(self):\n",
    "        return Memento(self.__text)\n",
    "    \n",
    "    def restore_memento(self, memento):\n",
    "        self.__text = memento.get_text()\n",
    "\n",
    "class Caretaker:\n",
    "    def __init__(self) -> None:\n",
    "        self.__mementos = []\n",
    "\n",
    "    def add_memento(self, memento):\n",
    "        self.__mementos.append(memento)\n",
    "\n",
    "    def get_memento(self, index):\n",
    "        return self.__mementos[index]\n",
    "    \n",
    "aditor = TextEditor()\n",
    "\n",
    "aditor.set_text(\"Hello world!\")\n",
    "print(f\"Текущий текст: {aditor.get_text()}\")\n",
    "\n",
    "caretaker = Caretaker()\n",
    "caretaker.add_memento(aditor.create_memento())\n",
    "\n",
    "aditor.set_text(\"Hello Python!\")\n",
    "print(\"Текущий текст: \", aditor.get_text())\n",
    "\n",
    "aditor.restore_memento(caretaker.get_memento(0))\n",
    "print(\"После восстановления: \", aditor.get_text())\n",
    "\n",
    "\n",
    "\n",
    "    \n",
    "\n",
    "\n",
    "        "
   ]
  }
 ],
 "metadata": {
  "kernelspec": {
   "display_name": "Python 3",
   "language": "python",
   "name": "python3"
  },
  "language_info": {
   "codemirror_mode": {
    "name": "ipython",
    "version": 3
   },
   "file_extension": ".py",
   "mimetype": "text/x-python",
   "name": "python",
   "nbconvert_exporter": "python",
   "pygments_lexer": "ipython3",
   "version": "3.11.9"
  }
 },
 "nbformat": 4,
 "nbformat_minor": 2
}
