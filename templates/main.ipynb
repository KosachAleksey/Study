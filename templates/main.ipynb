{
 "cells": [
  {
   "cell_type": "markdown",
   "metadata": {},
   "source": []
  },
  {
   "cell_type": "code",
   "execution_count": null,
   "metadata": {},
   "outputs": [],
   "source": [
    "from flask import Flask\n",
    "\n",
    "# Создаем объект для управления веб-сервером\n",
    "app = Flask(__name__)\n",
    "\n",
    "def calculate_url(first, second, operation):\n",
    "     match operation:\n",
    "          case \"-\":\n",
    "               return f\"<h3> resuit: {first-second} </h3>\"\n",
    "          case \"+\":\n",
    "               return f\"<h3> resuit: {first+second} </h3>\"\n",
    "          case \"*\":\n",
    "               return f\"<h3> resuit: {first*second} </h3>\"\n",
    "          case \"/\":\n",
    "               return f\"<h3> resuit: {first/second} </h3>\"\n",
    "          case _:\n",
    "               return \"\"\n",
    "               \n",
    "\n",
    "@app.route('/<int:first>-<int:second>')  # Устанавливает маршрут для вычитания\n",
    "def minus(first, second):\n",
    "    return calculate_url (first, second, \"-\")\n",
    "\n",
    "@app.route('/<int:first>+<int:second>')  # Устанавливает маршрут для вычитания\n",
    "def plus(first, second):\n",
    "    return calculate_url (first, second, \"+\")\n",
    "\n",
    "@app.route('/<int:first>*<int:second>')  # Устанавливает маршрут для вычитания\n",
    "def multiply(first, second):\n",
    "    return calculate_url (first, second, \"*\")\n",
    "\n",
    "@app.route('/<int:first>/<int:second>')  # Устанавливает маршрут для вычитания\n",
    "def divide(first, second):\n",
    "    return calculate_url (first, second, \"/\")\n",
    " \n",
    "\n",
    "if __name__ == \"__main__\":\n",
    "    app.run(port=8000, debug=True)"
   ]
  }
 ],
 "metadata": {
  "kernelspec": {
   "display_name": "Python 3",
   "language": "python",
   "name": "python3"
  },
  "language_info": {
   "name": "python",
   "version": "3.11.9"
  }
 },
 "nbformat": 4,
 "nbformat_minor": 2
}
