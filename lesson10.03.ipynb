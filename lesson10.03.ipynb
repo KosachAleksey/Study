{
 "cells": [
  {
   "cell_type": "markdown",
   "metadata": {},
   "source": []
  },
  {
   "cell_type": "code",
   "execution_count": 4,
   "metadata": {},
   "outputs": [
    {
     "name": "stdout",
     "output_type": "stream",
     "text": [
      "20\n",
      "30\n"
     ]
    }
   ],
   "source": [
    "def apply_callback(callback):\n",
    "    def decorator(func):\n",
    "        def wrapper(lst):\n",
    "            processed_lst = [callback(item) for item in lst]\n",
    "            return func(processed_lst)\n",
    "        return wrapper\n",
    "    return decorator\n",
    "\n",
    "def multiply_by_two(x):\n",
    "    return x * 2\n",
    "\n",
    "def square(x):\n",
    "    return x ** 2\n",
    "\n",
    "@apply_callback(multiply_by_two)\n",
    "def process_list(lst):\n",
    "    return sum(lst)\n",
    "if __name__ == \"__main__\":\n",
    "    print(process_list([1, 2, 3, 4]))\n",
    "\n",
    "\n",
    "@apply_callback(square)\n",
    "def sum_list(lst):\n",
    "    return sum(lst)\n",
    "\n",
    "print(sum_list([1, 2, 3, 4]))\n"
   ]
  },
  {
   "cell_type": "code",
   "execution_count": 14,
   "metadata": {},
   "outputs": [
    {
     "name": "stdout",
     "output_type": "stream",
     "text": [
      "длина списка 5\n",
      "0\n",
      "1\n",
      "2\n",
      "3\n",
      "4\n",
      "количество итераций в цикле 1\n",
      "количество элементов в цикле 5\n",
      "[[1, 1], [1, 2], [1, 3], [1, 4], [1, 5]]\n"
     ]
    }
   ],
   "source": [
    "list = [1, 2, 3, 4, 5]\n",
    "\n",
    "KeyList = []\n",
    "\n",
    "counter = 0 #количество итераций в цикле\n",
    "print(f\"длина списка {len(list)}\")\n",
    "for i in range(0, 5):\n",
    "    counter =+1\n",
    "    print(i)\n",
    "    KeyList.append([counter, list[i]])\n",
    "\n",
    "print(f\"количество итераций в цикле {counter}\")\n",
    "\n",
    "print(f\"количество элементов в цикле {len(list)}\")\n",
    "\n",
    "print(f\"{KeyList}\")\n",
    "\n",
    "\n"
   ]
  },
  {
   "cell_type": "code",
   "execution_count": null,
   "metadata": {},
   "outputs": [],
   "source": [
    "list = [1, 2, 3, 4, 5]\n",
    "\n",
    "KeyList = []\n",
    "\n",
    "counter = 0 #количество итераций в цикле\n",
    "print(f\"длина списка {len(list)}\")\n",
    "for i in range(0, 5):\n",
    "    counter =+1\n",
    "    print(i)\n",
    "    KeyList.append([counter, list[i]])\n",
    "\n",
    "print(f\"количество итераций в цикле {counter}\")\n",
    "\n",
    "print(f\"количество элементов в цикле {len(list)}\")\n",
    "\n",
    "print(f\"{KeyList}\")\n"
   ]
  },
  {
   "cell_type": "code",
   "execution_count": 16,
   "metadata": {},
   "outputs": [
    {
     "name": "stdout",
     "output_type": "stream",
     "text": [
      "Результат деления 10/0 None\n",
      "Результат деления 10/2 5.0\n"
     ]
    }
   ],
   "source": [
    "import logging\n",
    "\n",
    "# DEBUG - это подробная информация для диагностики проблем\n",
    "# INFO - подтверждение того что все работает как ожидалось\n",
    "# индикация потенциальных проблем\n",
    "# ошибки, которые не позволяют выполнить определенную функцию\\\n",
    "# критические ошибки которые могут привести к остановке программы\n",
    "\n",
    "logging.basicConfig(\n",
    "    level = logging.DEBUG,\n",
    "    format = \"%(asctime)s - %(levelname)s - %(message)s\", # формат сообщения\n",
    "    filename = 'main.log', # Указываем имя файла. Если не указать имя файла  - данные будут поступать на консоль\n",
    "    filemode='w', # режим открытия файла\n",
    "    encoding='UTF-8' # какая кодировка\n",
    ")\n",
    "\n",
    "\n",
    "logging.debug(\"Отладочное сообщение\")\n",
    "\n",
    "# logging.critical(\"\")\n",
    "# logging.warning(\"\")\n",
    "\n",
    "def divide(a, b):\n",
    "    try:\n",
    "        result = a / b\n",
    "    except ZeroDivisionError as e:\n",
    "\n",
    "        logging.error(f\"Ошибка деления на 0: {e}\")\n",
    "        return None\n",
    "    \n",
    "    else:\n",
    "        logging.info(f\"Результат деления: {result}\")\n",
    "        return result\n",
    "    \n",
    "print(\"Результат деления 10/0\", divide(10, 0))\n",
    "\n",
    "print(\"Результат деления 10/2\", divide(10, 2))"
   ]
  },
  {
   "cell_type": "markdown",
   "metadata": {},
   "source": []
  },
  {
   "cell_type": "code",
   "execution_count": 18,
   "metadata": {},
   "outputs": [
    {
     "data": {
      "text/plain": [
       "'Вова'"
      ]
     },
     "execution_count": 18,
     "metadata": {},
     "output_type": "execute_result"
    }
   ],
   "source": [
    "#с помощью конструктора\n",
    "class User:\n",
    "    def __init__(self, id: int, name: str, is_active: bool = True):\n",
    "        self.id = id\n",
    "        self.name = name\n",
    "        self.is_active = is_active\n",
    "\n",
    "user = User(19, \"Вова\")\n",
    "user.name   \n",
    "\n"
   ]
  },
  {
   "cell_type": "code",
   "execution_count": 19,
   "metadata": {},
   "outputs": [
    {
     "data": {
      "text/plain": [
       "'Вова'"
      ]
     },
     "execution_count": 19,
     "metadata": {},
     "output_type": "execute_result"
    }
   ],
   "source": [
    "#Тоже декоратором\n",
    "from dataclasses import dataclass\n",
    "\n",
    "@dataclass\n",
    "class User:\n",
    "    id: int\n",
    "    name: str\n",
    "    is_active: bool = True\n",
    "\n",
    "user = User(19, \"Вова\")\n",
    "user.name\n",
    "\n",
    "\n"
   ]
  },
  {
   "cell_type": "code",
   "execution_count": 20,
   "metadata": {},
   "outputs": [
    {
     "ename": "TypeError",
     "evalue": "Employee() takes no arguments",
     "output_type": "error",
     "traceback": [
      "\u001b[1;31m---------------------------------------------------------------------------\u001b[0m",
      "\u001b[1;31mTypeError\u001b[0m                                 Traceback (most recent call last)",
      "Cell \u001b[1;32mIn[20], line 13\u001b[0m\n\u001b[0;32m     10\u001b[0m     \u001b[38;5;28;01mdef\u001b[39;00m \u001b[38;5;21mWork\u001b[39m(\u001b[38;5;28mself\u001b[39m):\n\u001b[0;32m     11\u001b[0m         \u001b[38;5;28mprint\u001b[39m(\u001b[38;5;124m\"\u001b[39m\u001b[38;5;124mРаботает директор\u001b[39m\u001b[38;5;124m\"\u001b[39m)    \n\u001b[1;32m---> 13\u001b[0m emp \u001b[38;5;241m=\u001b[39m \u001b[43mEmployee\u001b[49m\u001b[43m(\u001b[49m\u001b[38;5;124;43m\"\u001b[39;49m\u001b[38;5;124;43mСотрудник\u001b[39;49m\u001b[38;5;124;43m\"\u001b[39;49m\u001b[43m)\u001b[49m\n\u001b[0;32m     14\u001b[0m \u001b[38;5;28mdir\u001b[39m \u001b[38;5;241m=\u001b[39m Director(\u001b[38;5;124m\"\u001b[39m\u001b[38;5;124mДиректор\u001b[39m\u001b[38;5;124m\"\u001b[39m)\n\u001b[0;32m     16\u001b[0m emp\u001b[38;5;241m.\u001b[39mWork()\n",
      "\u001b[1;31mTypeError\u001b[0m: Employee() takes no arguments"
     ]
    }
   ],
   "source": [
    "class Worker:\n",
    "    def work(self):\n",
    "        print(\"Работает\")\n",
    "\n",
    "class Employee(Worker):\n",
    "    def work(self):\n",
    "        print(\"Сотрудник работает\")    \n",
    "\n",
    "class Director(Worker):\n",
    "    def Work(self):\n",
    "        print(\"Работает директор\")    \n",
    "\n",
    "emp = Employee(\"Сотрудник\")\n",
    "dir = Director(\"Директор\")\n",
    "\n",
    "emp.Work()\n",
    "dir.Work()\n"
   ]
  },
  {
   "cell_type": "code",
   "execution_count": 23,
   "metadata": {},
   "outputs": [
    {
     "name": "stdout",
     "output_type": "stream",
     "text": [
      "Сотрудник работает\n",
      "Работает директор\n"
     ]
    }
   ],
   "source": [
    "from abc import ABC, abstractmethod\n",
    "\n",
    "class Worker(ABC):\n",
    "    def __init__(self, post):\n",
    "        self.post = post\n",
    "    # абстрактный метод, каторый должен быть реализован в каждом наследнике\n",
    "    @abstractmethod\n",
    "    def work(self):\n",
    "        pass\n",
    "\n",
    "class Employee(Worker):\n",
    "    def work(self):\n",
    "        print(\"Сотрудник работает\")    \n",
    "\n",
    "class Director(Worker):\n",
    "    def work(self):\n",
    "        print(\"Работает директор\")    \n",
    "\n",
    "emp = Employee(\"Сотрудник\")\n",
    "dir = Director(\"Директор\")\n",
    "\n",
    "emp.work()\n",
    "dir.work()"
   ]
  },
  {
   "cell_type": "code",
   "execution_count": 25,
   "metadata": {},
   "outputs": [
    {
     "data": {
      "text/plain": [
       "{'total': 15, 'count': 5}"
      ]
     },
     "execution_count": 25,
     "metadata": {},
     "output_type": "execute_result"
    }
   ],
   "source": [
    "from typing import List, Dict\n",
    "\n",
    "def procces_list(items: List[int]) -> Dict[str, int]:\n",
    "    total = sum(items)\n",
    "    count = len(items)\n",
    "    return {\"total\" : total, \"count\" : count}\n",
    "\n",
    "result = procces_list([1, 2, 3, 4, 5])\n",
    "result\n",
    "\n",
    "\n"
   ]
  },
  {
   "cell_type": "code",
   "execution_count": 28,
   "metadata": {},
   "outputs": [
    {
     "name": "stdout",
     "output_type": "stream",
     "text": [
      "Дима\n"
     ]
    }
   ],
   "source": [
    "from typing import List, Dict, Optional\n",
    "\n",
    "students = [\"Вова\", \"Саша\", \"Дима\"]\n",
    "\n",
    "def search_student(list: List[str], target: str) -> str:\n",
    "    for student in list:\n",
    "        if student == target:\n",
    "            return student\n",
    "    return None\n",
    "r = search_student(students, \"Дима\")\n",
    "print(r)\n"
   ]
  },
  {
   "cell_type": "code",
   "execution_count": 29,
   "metadata": {},
   "outputs": [
    {
     "name": "stdout",
     "output_type": "stream",
     "text": [
      "Что-то происходит до вызова функции\n",
      "4\n",
      "Что-то происходит после функции\n"
     ]
    },
    {
     "data": {
      "text/plain": [
       "2"
      ]
     },
     "execution_count": 29,
     "metadata": {},
     "output_type": "execute_result"
    }
   ],
   "source": [
    "def counter(count):\n",
    "    def decorator(func):\n",
    "        def wrapper(*args, **kwargs):\n",
    "            print(\"Что-то происходит до вызова функции\")\n",
    "            result = func(*args, **kwargs)\n",
    "            print(count)\n",
    "            print(\"Что-то происходит после функции\")\n",
    "            return result\n",
    "        return wrapper\n",
    "    return decorator\n",
    "\n",
    "@counter(4)\n",
    "def sum(a, b): return a + b\n",
    "\n",
    "sum(1, 1)\n",
    "\n"
   ]
  },
  {
   "cell_type": "code",
   "execution_count": 31,
   "metadata": {},
   "outputs": [
    {
     "name": "stdout",
     "output_type": "stream",
     "text": [
      "Вызов функции subtract c аргументами: (1, 1) {}\n",
      "Результат функции: 0\n"
     ]
    },
    {
     "data": {
      "text/plain": [
       "0"
      ]
     },
     "execution_count": 31,
     "metadata": {},
     "output_type": "execute_result"
    }
   ],
   "source": [
    "from decorator import decorator\n",
    "\n",
    "@decorator\n",
    "def debug(func, *args, **kwargs):\n",
    "    print(f\"Вызов функции {func.__name__} c аргументами: {args} {kwargs}\")\n",
    "    result = func(*args, **kwargs)\n",
    "    print(f\"Результат функции: {result}\")\n",
    "    return result\n",
    "\n",
    "@debug \n",
    "def subtract(a, b):\n",
    "    return a -b \n",
    "\n",
    "subtract(1,1)"
   ]
  }
 ],
 "metadata": {
  "kernelspec": {
   "display_name": "Python 3",
   "language": "python",
   "name": "python3"
  },
  "language_info": {
   "codemirror_mode": {
    "name": "ipython",
    "version": 3
   },
   "file_extension": ".py",
   "mimetype": "text/x-python",
   "name": "python",
   "nbconvert_exporter": "python",
   "pygments_lexer": "ipython3",
   "version": "3.11.9"
  }
 },
 "nbformat": 4,
 "nbformat_minor": 2
}
